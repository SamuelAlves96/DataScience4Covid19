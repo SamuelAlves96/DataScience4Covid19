{
 "cells": [
  {
   "cell_type": "code",
   "execution_count": 1,
   "metadata": {},
   "outputs": [],
   "source": [
    "import numpy as np \n",
    "import pandas as pd\n",
    "import matplotlib.pyplot as plt \n",
    "%matplotlib inline\n"
   ]
  },
  {
   "cell_type": "code",
   "execution_count": 2,
   "metadata": {},
   "outputs": [
    {
     "name": "stdout",
     "output_type": "stream",
     "text": [
      "(10836, 15)\n"
     ]
    },
    {
     "data": {
      "text/plain": [
       "<bound method NDFrame.head of             Start Week    End Week  MMWRyear  MMWRweek    Group    Indicator  \\\n",
       "Data As Of                                                                     \n",
       "11/25/2020  02/01/2020  02/01/2020      2020         5  By week  Week-ending   \n",
       "11/25/2020  02/01/2020  02/01/2020      2020         5  By week  Week-ending   \n",
       "11/25/2020  02/01/2020  02/01/2020      2020         5  By week  Week-ending   \n",
       "11/25/2020  02/01/2020  02/01/2020      2020         5  By week  Week-ending   \n",
       "11/25/2020  02/01/2020  02/01/2020      2020         5  By week  Week-ending   \n",
       "...                ...         ...       ...       ...      ...          ...   \n",
       "11/25/2020  11/21/2020  11/21/2020      2020        47  By week  Week-ending   \n",
       "11/25/2020  11/21/2020  11/21/2020      2020        47  By week  Week-ending   \n",
       "11/25/2020  11/21/2020  11/21/2020      2020        47  By week  Week-ending   \n",
       "11/25/2020  11/21/2020  11/21/2020      2020        47  By week  Week-ending   \n",
       "11/25/2020  11/21/2020  11/21/2020      2020        47  By week  Week-ending   \n",
       "\n",
       "             Jurisdiction    Age Group  COVID-19 Deaths  Total Deaths  \\\n",
       "Data As Of                                                              \n",
       "11/25/2020  United States     All Ages              0.0       58657.0   \n",
       "11/25/2020  United States   0-17 years              0.0         654.0   \n",
       "11/25/2020  United States  18-64 years              0.0       14034.0   \n",
       "11/25/2020  United States    65+ years              0.0       43969.0   \n",
       "11/25/2020        Alabama     All Ages              0.0        1057.0   \n",
       "...                   ...          ...              ...           ...   \n",
       "11/25/2020   HHS Region 9    65+ years             60.0        1914.0   \n",
       "11/25/2020  HHS Region 10     All Ages             28.0         753.0   \n",
       "11/25/2020  HHS Region 10   0-17 years              0.0           NaN   \n",
       "11/25/2020  HHS Region 10  18-64 years              NaN         124.0   \n",
       "11/25/2020  HHS Region 10    65+ years             25.0         624.0   \n",
       "\n",
       "            Pneumonia Deaths  Influenza Deaths  Pneumonia or Influenza  \\\n",
       "Data As Of                                                               \n",
       "11/25/2020            3803.0             479.0                  4282.0   \n",
       "11/25/2020              13.0              16.0                    29.0   \n",
       "11/25/2020             703.0             184.0                   887.0   \n",
       "11/25/2020            3087.0             279.0                  3366.0   \n",
       "11/25/2020              55.0              16.0                    71.0   \n",
       "...                      ...               ...                     ...   \n",
       "11/25/2020             159.0               0.0                   159.0   \n",
       "11/25/2020              47.0               0.0                    47.0   \n",
       "11/25/2020               0.0               0.0                     0.0   \n",
       "11/25/2020               NaN               0.0                     NaN   \n",
       "11/25/2020              38.0               0.0                    38.0   \n",
       "\n",
       "            Pneumonia, Influenza, or COVID-19 Deaths  \\\n",
       "Data As Of                                             \n",
       "11/25/2020                                    4282.0   \n",
       "11/25/2020                                      29.0   \n",
       "11/25/2020                                     887.0   \n",
       "11/25/2020                                    3366.0   \n",
       "11/25/2020                                      71.0   \n",
       "...                                              ...   \n",
       "11/25/2020                                     181.0   \n",
       "11/25/2020                                      63.0   \n",
       "11/25/2020                                       0.0   \n",
       "11/25/2020                                      11.0   \n",
       "11/25/2020                                      52.0   \n",
       "\n",
       "                                                     Footnote  \n",
       "Data As Of                                                     \n",
       "11/25/2020                                                NaN  \n",
       "11/25/2020                                                NaN  \n",
       "11/25/2020                                                NaN  \n",
       "11/25/2020                                                NaN  \n",
       "11/25/2020                                                NaN  \n",
       "...                                                       ...  \n",
       "11/25/2020                                                NaN  \n",
       "11/25/2020                                                NaN  \n",
       "11/25/2020  One or more data cells have counts between 1-9...  \n",
       "11/25/2020  One or more data cells have counts between 1-9...  \n",
       "11/25/2020                                                NaN  \n",
       "\n",
       "[10836 rows x 15 columns]>"
      ]
     },
     "execution_count": 2,
     "metadata": {},
     "output_type": "execute_result"
    }
   ],
   "source": [
    "data = pd.read_csv('Provisional_Death_Counts_for_Influenza__Pneumonia__and_COVID-19.csv',sep=',', index_col = 0, na_values = \"na\")\n",
    "print (data.shape)\n",
    "data.head"
   ]
  },
  {
   "cell_type": "code",
   "execution_count": 3,
   "metadata": {},
   "outputs": [
    {
     "data": {
      "text/html": [
       "<div>\n",
       "<style scoped>\n",
       "    .dataframe tbody tr th:only-of-type {\n",
       "        vertical-align: middle;\n",
       "    }\n",
       "\n",
       "    .dataframe tbody tr th {\n",
       "        vertical-align: top;\n",
       "    }\n",
       "\n",
       "    .dataframe thead th {\n",
       "        text-align: right;\n",
       "    }\n",
       "</style>\n",
       "<table border=\"1\" class=\"dataframe\">\n",
       "  <thead>\n",
       "    <tr style=\"text-align: right;\">\n",
       "      <th></th>\n",
       "      <th>MMWRyear</th>\n",
       "      <th>MMWRweek</th>\n",
       "      <th>COVID-19 Deaths</th>\n",
       "      <th>Total Deaths</th>\n",
       "      <th>Pneumonia Deaths</th>\n",
       "      <th>Influenza Deaths</th>\n",
       "      <th>Pneumonia or Influenza</th>\n",
       "      <th>Pneumonia, Influenza, or COVID-19 Deaths</th>\n",
       "    </tr>\n",
       "  </thead>\n",
       "  <tbody>\n",
       "    <tr>\n",
       "      <th>count</th>\n",
       "      <td>10836.0</td>\n",
       "      <td>10836.000000</td>\n",
       "      <td>9114.000000</td>\n",
       "      <td>9716.000000</td>\n",
       "      <td>8917.000000</td>\n",
       "      <td>8401.000000</td>\n",
       "      <td>8897.000000</td>\n",
       "      <td>9065.000000</td>\n",
       "    </tr>\n",
       "    <tr>\n",
       "      <th>mean</th>\n",
       "      <td>2020.0</td>\n",
       "      <td>26.000000</td>\n",
       "      <td>157.071758</td>\n",
       "      <td>1589.344998</td>\n",
       "      <td>161.858024</td>\n",
       "      <td>4.072372</td>\n",
       "      <td>166.812409</td>\n",
       "      <td>249.488252</td>\n",
       "    </tr>\n",
       "    <tr>\n",
       "      <th>std</th>\n",
       "      <td>0.0</td>\n",
       "      <td>12.410246</td>\n",
       "      <td>707.549047</td>\n",
       "      <td>5318.890128</td>\n",
       "      <td>578.399546</td>\n",
       "      <td>27.793888</td>\n",
       "      <td>593.282163</td>\n",
       "      <td>954.621799</td>\n",
       "    </tr>\n",
       "    <tr>\n",
       "      <th>min</th>\n",
       "      <td>2020.0</td>\n",
       "      <td>5.000000</td>\n",
       "      <td>0.000000</td>\n",
       "      <td>0.000000</td>\n",
       "      <td>0.000000</td>\n",
       "      <td>0.000000</td>\n",
       "      <td>0.000000</td>\n",
       "      <td>0.000000</td>\n",
       "    </tr>\n",
       "    <tr>\n",
       "      <th>25%</th>\n",
       "      <td>2020.0</td>\n",
       "      <td>15.000000</td>\n",
       "      <td>0.000000</td>\n",
       "      <td>88.000000</td>\n",
       "      <td>0.000000</td>\n",
       "      <td>0.000000</td>\n",
       "      <td>0.000000</td>\n",
       "      <td>10.000000</td>\n",
       "    </tr>\n",
       "    <tr>\n",
       "      <th>50%</th>\n",
       "      <td>2020.0</td>\n",
       "      <td>26.000000</td>\n",
       "      <td>13.000000</td>\n",
       "      <td>386.000000</td>\n",
       "      <td>32.000000</td>\n",
       "      <td>0.000000</td>\n",
       "      <td>34.000000</td>\n",
       "      <td>44.000000</td>\n",
       "    </tr>\n",
       "    <tr>\n",
       "      <th>75%</th>\n",
       "      <td>2020.0</td>\n",
       "      <td>37.000000</td>\n",
       "      <td>78.000000</td>\n",
       "      <td>1207.250000</td>\n",
       "      <td>107.000000</td>\n",
       "      <td>0.000000</td>\n",
       "      <td>111.000000</td>\n",
       "      <td>158.000000</td>\n",
       "    </tr>\n",
       "    <tr>\n",
       "      <th>max</th>\n",
       "      <td>2020.0</td>\n",
       "      <td>47.000000</td>\n",
       "      <td>17068.000000</td>\n",
       "      <td>78821.000000</td>\n",
       "      <td>11972.000000</td>\n",
       "      <td>654.000000</td>\n",
       "      <td>12444.000000</td>\n",
       "      <td>21222.000000</td>\n",
       "    </tr>\n",
       "  </tbody>\n",
       "</table>\n",
       "</div>"
      ],
      "text/plain": [
       "       MMWRyear      MMWRweek  COVID-19 Deaths  Total Deaths  \\\n",
       "count   10836.0  10836.000000      9114.000000   9716.000000   \n",
       "mean     2020.0     26.000000       157.071758   1589.344998   \n",
       "std         0.0     12.410246       707.549047   5318.890128   \n",
       "min      2020.0      5.000000         0.000000      0.000000   \n",
       "25%      2020.0     15.000000         0.000000     88.000000   \n",
       "50%      2020.0     26.000000        13.000000    386.000000   \n",
       "75%      2020.0     37.000000        78.000000   1207.250000   \n",
       "max      2020.0     47.000000     17068.000000  78821.000000   \n",
       "\n",
       "       Pneumonia Deaths  Influenza Deaths  Pneumonia or Influenza  \\\n",
       "count       8917.000000       8401.000000             8897.000000   \n",
       "mean         161.858024          4.072372              166.812409   \n",
       "std          578.399546         27.793888              593.282163   \n",
       "min            0.000000          0.000000                0.000000   \n",
       "25%            0.000000          0.000000                0.000000   \n",
       "50%           32.000000          0.000000               34.000000   \n",
       "75%          107.000000          0.000000              111.000000   \n",
       "max        11972.000000        654.000000            12444.000000   \n",
       "\n",
       "       Pneumonia, Influenza, or COVID-19 Deaths  \n",
       "count                               9065.000000  \n",
       "mean                                 249.488252  \n",
       "std                                  954.621799  \n",
       "min                                    0.000000  \n",
       "25%                                   10.000000  \n",
       "50%                                   44.000000  \n",
       "75%                                  158.000000  \n",
       "max                                21222.000000  "
      ]
     },
     "execution_count": 3,
     "metadata": {},
     "output_type": "execute_result"
    }
   ],
   "source": [
    "data.describe()\n"
   ]
  },
  {
   "cell_type": "code",
   "execution_count": 4,
   "metadata": {},
   "outputs": [
    {
     "data": {
      "text/plain": [
       "Index(['Start Week', 'End Week', 'MMWRyear', 'MMWRweek', 'Group', 'Indicator',\n",
       "       'Jurisdiction', 'Age Group', 'COVID-19 Deaths', 'Total Deaths',\n",
       "       'Pneumonia Deaths', 'Influenza Deaths', 'Pneumonia or Influenza',\n",
       "       'Pneumonia, Influenza, or COVID-19 Deaths', 'Footnote'],\n",
       "      dtype='object')"
      ]
     },
     "execution_count": 4,
     "metadata": {},
     "output_type": "execute_result"
    }
   ],
   "source": [
    "data.columns"
   ]
  },
  {
   "cell_type": "code",
   "execution_count": 5,
   "metadata": {},
   "outputs": [
    {
     "data": {
      "text/plain": [
       "COVID-19 Deaths\n",
       "0.0        4146\n",
       "1.0           3\n",
       "2.0           9\n",
       "3.0           6\n",
       "4.0           7\n",
       "           ... \n",
       "13139.0       1\n",
       "13841.0       1\n",
       "15426.0       1\n",
       "16162.0       1\n",
       "17068.0       1\n",
       "Length: 906, dtype: int64"
      ]
     },
     "execution_count": 5,
     "metadata": {},
     "output_type": "execute_result"
    }
   ],
   "source": [
    "data.groupby(\"COVID-19 Deaths\").size()"
   ]
  },
  {
   "cell_type": "code",
   "execution_count": 6,
   "metadata": {},
   "outputs": [
    {
     "data": {
      "text/plain": [
       "16040"
      ]
     },
     "execution_count": 6,
     "metadata": {},
     "output_type": "execute_result"
    }
   ],
   "source": [
    "data.isnull().sum().sum()"
   ]
  },
  {
   "cell_type": "code",
   "execution_count": 7,
   "metadata": {},
   "outputs": [
    {
     "data": {
      "text/plain": [
       "0"
      ]
     },
     "execution_count": 7,
     "metadata": {},
     "output_type": "execute_result"
    }
   ],
   "source": [
    "data2=data.dropna()\n",
    "data2.isnull().sum().sum()"
   ]
  },
  {
   "cell_type": "code",
   "execution_count": 57,
   "metadata": {},
   "outputs": [
    {
     "data": {
      "text/plain": [
       "43"
      ]
     },
     "execution_count": 57,
     "metadata": {},
     "output_type": "execute_result"
    }
   ],
   "source": [
    "data.groupby(\"Start Week\").size()\n",
    "\n",
    "#len(data.groupby(\"Start Week\"))"
   ]
  },
  {
   "cell_type": "code",
   "execution_count": 8,
   "metadata": {},
   "outputs": [
    {
     "data": {
      "text/plain": [
       "Jurisdiction\n",
       "Alabama          172\n",
       "Alaska           172\n",
       "Arizona          172\n",
       "Arkansas         172\n",
       "California       172\n",
       "                ... \n",
       "Virginia         172\n",
       "Washington       172\n",
       "West Virginia    172\n",
       "Wisconsin        172\n",
       "Wyoming          172\n",
       "Length: 63, dtype: int64"
      ]
     },
     "execution_count": 8,
     "metadata": {},
     "output_type": "execute_result"
    }
   ],
   "source": [
    "data.groupby(\"Jurisdiction\").size()"
   ]
  },
  {
   "cell_type": "code",
   "execution_count": 41,
   "metadata": {},
   "outputs": [
    {
     "data": {
      "text/plain": [
       "array(['United States', 'Alabama', 'Alaska', 'Arizona', 'Arkansas',\n",
       "       'California', 'Colorado', 'Connecticut', 'Delaware',\n",
       "       'District of Columbia', 'Florida', 'Georgia', 'Hawaii', 'Idaho',\n",
       "       'Illinois', 'Indiana', 'Iowa', 'Kansas', 'Kentucky', 'Louisiana',\n",
       "       'Maine', 'Maryland', 'Massachusetts', 'Michigan', 'Minnesota',\n",
       "       'Mississippi', 'Missouri', 'Montana', 'Nebraska', 'Nevada',\n",
       "       'New Hampshire', 'New Jersey', 'New Mexico', 'New York',\n",
       "       'New York City', 'North Carolina', 'North Dakota', 'Ohio',\n",
       "       'Oklahoma', 'Oregon', 'Pennsylvania', 'Rhode Island',\n",
       "       'South Carolina', 'South Dakota', 'Tennessee', 'Texas', 'Utah',\n",
       "       'Vermont', 'Virginia', 'Washington', 'West Virginia', 'Wisconsin',\n",
       "       'Wyoming', 'HHS Region 1', 'HHS Region 2', 'HHS Region 3',\n",
       "       'HHS Region 4', 'HHS Region 5', 'HHS Region 6', 'HHS Region 7',\n",
       "       'HHS Region 8', 'HHS Region 9', 'HHS Region 10'], dtype=object)"
      ]
     },
     "execution_count": 41,
     "metadata": {},
     "output_type": "execute_result"
    }
   ],
   "source": [
    "data.Jurisdiction.unique()"
   ]
  },
  {
   "cell_type": "code",
   "execution_count": 60,
   "metadata": {},
   "outputs": [
    {
     "data": {
      "text/plain": [
       "Age Group\n",
       "0-17 years     2709\n",
       "18-64 years    2709\n",
       "65+ years      2709\n",
       "All Ages       2709\n",
       "dtype: int64"
      ]
     },
     "execution_count": 60,
     "metadata": {},
     "output_type": "execute_result"
    }
   ],
   "source": [
    "data.groupby(\"Age Group\").size()"
   ]
  },
  {
   "cell_type": "markdown",
   "metadata": {},
   "source": [
    "Dividindo 2709 (quantas vezes aparece cada age group) por 63 ( o número de estados (apesar de serem menos os estados dos estados unidos (52), temos 1 United States e 10 HHS Region) obtemos o número de semanas que pode ser confirmado por ```\n",
    "len(data.groupby(\"Start Week\"))\n",
    "```"
   ]
  },
  {
   "cell_type": "code",
   "execution_count": 61,
   "metadata": {},
   "outputs": [
    {
     "data": {
      "text/html": [
       "<div>\n",
       "<style scoped>\n",
       "    .dataframe tbody tr th:only-of-type {\n",
       "        vertical-align: middle;\n",
       "    }\n",
       "\n",
       "    .dataframe tbody tr th {\n",
       "        vertical-align: top;\n",
       "    }\n",
       "\n",
       "    .dataframe thead th {\n",
       "        text-align: right;\n",
       "    }\n",
       "</style>\n",
       "<table border=\"1\" class=\"dataframe\">\n",
       "  <thead>\n",
       "    <tr style=\"text-align: right;\">\n",
       "      <th></th>\n",
       "      <th>Start Week</th>\n",
       "      <th>End Week</th>\n",
       "      <th>MMWRyear</th>\n",
       "      <th>MMWRweek</th>\n",
       "      <th>Group</th>\n",
       "      <th>Indicator</th>\n",
       "      <th>Jurisdiction</th>\n",
       "      <th>COVID-19 Deaths</th>\n",
       "      <th>Total Deaths</th>\n",
       "      <th>Pneumonia Deaths</th>\n",
       "      <th>Influenza Deaths</th>\n",
       "      <th>Pneumonia or Influenza</th>\n",
       "      <th>Pneumonia, Influenza, or COVID-19 Deaths</th>\n",
       "      <th>Footnote</th>\n",
       "    </tr>\n",
       "    <tr>\n",
       "      <th>Age Group</th>\n",
       "      <th></th>\n",
       "      <th></th>\n",
       "      <th></th>\n",
       "      <th></th>\n",
       "      <th></th>\n",
       "      <th></th>\n",
       "      <th></th>\n",
       "      <th></th>\n",
       "      <th></th>\n",
       "      <th></th>\n",
       "      <th></th>\n",
       "      <th></th>\n",
       "      <th></th>\n",
       "      <th></th>\n",
       "    </tr>\n",
       "  </thead>\n",
       "  <tbody>\n",
       "    <tr>\n",
       "      <th>0-17 years</th>\n",
       "      <td>2709</td>\n",
       "      <td>2709</td>\n",
       "      <td>2709</td>\n",
       "      <td>2709</td>\n",
       "      <td>2709</td>\n",
       "      <td>2709</td>\n",
       "      <td>2709</td>\n",
       "      <td>2528</td>\n",
       "      <td>1616</td>\n",
       "      <td>2168</td>\n",
       "      <td>2543</td>\n",
       "      <td>2100</td>\n",
       "      <td>2015</td>\n",
       "      <td>1685</td>\n",
       "    </tr>\n",
       "    <tr>\n",
       "      <th>18-64 years</th>\n",
       "      <td>2709</td>\n",
       "      <td>2709</td>\n",
       "      <td>2709</td>\n",
       "      <td>2709</td>\n",
       "      <td>2709</td>\n",
       "      <td>2709</td>\n",
       "      <td>2709</td>\n",
       "      <td>1942</td>\n",
       "      <td>2692</td>\n",
       "      <td>1852</td>\n",
       "      <td>2075</td>\n",
       "      <td>1883</td>\n",
       "      <td>2003</td>\n",
       "      <td>1566</td>\n",
       "    </tr>\n",
       "    <tr>\n",
       "      <th>65+ years</th>\n",
       "      <td>2709</td>\n",
       "      <td>2709</td>\n",
       "      <td>2709</td>\n",
       "      <td>2709</td>\n",
       "      <td>2709</td>\n",
       "      <td>2709</td>\n",
       "      <td>2709</td>\n",
       "      <td>2314</td>\n",
       "      <td>2703</td>\n",
       "      <td>2412</td>\n",
       "      <td>1899</td>\n",
       "      <td>2422</td>\n",
       "      <td>2494</td>\n",
       "      <td>1240</td>\n",
       "    </tr>\n",
       "    <tr>\n",
       "      <th>All Ages</th>\n",
       "      <td>2709</td>\n",
       "      <td>2709</td>\n",
       "      <td>2709</td>\n",
       "      <td>2709</td>\n",
       "      <td>2709</td>\n",
       "      <td>2709</td>\n",
       "      <td>2709</td>\n",
       "      <td>2330</td>\n",
       "      <td>2705</td>\n",
       "      <td>2485</td>\n",
       "      <td>1884</td>\n",
       "      <td>2492</td>\n",
       "      <td>2553</td>\n",
       "      <td>1211</td>\n",
       "    </tr>\n",
       "  </tbody>\n",
       "</table>\n",
       "</div>"
      ],
      "text/plain": [
       "             Start Week  End Week  MMWRyear  MMWRweek  Group  Indicator  \\\n",
       "Age Group                                                                 \n",
       "0-17 years         2709      2709      2709      2709   2709       2709   \n",
       "18-64 years        2709      2709      2709      2709   2709       2709   \n",
       "65+ years          2709      2709      2709      2709   2709       2709   \n",
       "All Ages           2709      2709      2709      2709   2709       2709   \n",
       "\n",
       "             Jurisdiction  COVID-19 Deaths  Total Deaths  Pneumonia Deaths  \\\n",
       "Age Group                                                                    \n",
       "0-17 years           2709             2528          1616              2168   \n",
       "18-64 years          2709             1942          2692              1852   \n",
       "65+ years            2709             2314          2703              2412   \n",
       "All Ages             2709             2330          2705              2485   \n",
       "\n",
       "             Influenza Deaths  Pneumonia or Influenza  \\\n",
       "Age Group                                               \n",
       "0-17 years               2543                    2100   \n",
       "18-64 years              2075                    1883   \n",
       "65+ years                1899                    2422   \n",
       "All Ages                 1884                    2492   \n",
       "\n",
       "             Pneumonia, Influenza, or COVID-19 Deaths  Footnote  \n",
       "Age Group                                                        \n",
       "0-17 years                                       2015      1685  \n",
       "18-64 years                                      2003      1566  \n",
       "65+ years                                        2494      1240  \n",
       "All Ages                                         2553      1211  "
      ]
     },
     "execution_count": 61,
     "metadata": {},
     "output_type": "execute_result"
    }
   ],
   "source": [
    "data.groupby(\"Age Group\").count()"
   ]
  }
 ],
 "metadata": {
  "kernelspec": {
   "display_name": "Python 3",
   "language": "python",
   "name": "python3"
  },
  "language_info": {
   "codemirror_mode": {
    "name": "ipython",
    "version": 3
   },
   "file_extension": ".py",
   "mimetype": "text/x-python",
   "name": "python",
   "nbconvert_exporter": "python",
   "pygments_lexer": "ipython3",
   "version": "3.8.5"
  }
 },
 "nbformat": 4,
 "nbformat_minor": 4
}
