{
 "cells": [
  {
   "cell_type": "markdown",
   "metadata": {},
   "source": [
    "# DataScience4Covid\n",
    "\n",
    "## Work made by: Francisco Pereira, Gil Afonso, Miguel Dias, Samuel Alves\n",
    "\n",
    "This work is part of a task with the intention to use Machine Learning on Covid-19 datasets.\n",
    "\n",
    "### Introduction\n",
    " Covid-19 is a respiratory disease caused by a new strain of SARS (Severe Acute Respiratory Syndrome) coronavirus that is currently sweeping through the world making a huge impact on the livelihood of most people. Due to its relatively high infectivity and the fact that symptoms of this disease take a long time to be manifested, special measures had to be taken everywhere which include using face masks, washing everything with sanitized alcohol, practicing social distancing and even more drastic measures like putting an entire country in lockdown. The arrival of this new disease has had terrible consequences on the economy of many countries, since the virus started spreading to the rest of the world around March 2020 many establishments have struggled to stay in business and all social events have been prohibited by the government.\n",
    " \n",
    " Due to the aforementioned measures taken there is a growing number of people that don not believe the negative effects that a disease like this has on the mortality rate using the argument that it is just the flu because the symptoms of this disease are similar to an influenza virus infection. However, this is a statement that has little scientific basis, and using machine learning algorithms it is possible to predict how the mortality rate will vary using data that has already been recorded [1].\n",
    " \n",
    " The main goal of this work is to prove that the coronavirus is a disease that can have serious consequences in rising mortality rate and that it is not just a typical flu infectious disease.\n",
    " \n",
    " This analysis consists in using 2 datasets: the main one which has data for every state in the USA containing the number of deaths by Covid-19, Influenza and Pneumonia with their age group and week and a second one that has more information about deaths of Covid-19.\n",
    " \n",
    " These datasets will be used to build a machine learning model used to predict future deaths caused by influenza, pneumonia and covid-19.\n",
    " \n",
    "### Development\n"
   ]
  },
  {
   "cell_type": "markdown",
   "metadata": {},
   "source": [
    "Start by importing the packages needed."
   ]
  },
  {
   "cell_type": "code",
   "execution_count": 1,
   "metadata": {},
   "outputs": [
    {
     "name": "stderr",
     "output_type": "stream",
     "text": [
      "Using TensorFlow backend.\n"
     ]
    }
   ],
   "source": [
    "import numpy as np \n",
    "import pandas as pd\n",
    "import matplotlib.pyplot as plt \n",
    "%matplotlib inline\n",
    "import matplotlib.colors as mcolors\n",
    "import matplotlib.patches as mpatches\n",
    "from sklearn import preprocessing\n",
    "from sklearn import svm\n",
    "from sklearn.model_selection import cross_val_score, train_test_split\n",
    "from sklearn.preprocessing import MinMaxScaler\n",
    "from sklearn import linear_model\n",
    "from sklearn.metrics import mean_squared_error\n",
    "from sklearn.svm import SVR\n",
    "\n",
    "\n",
    "\n",
    "from keras.preprocessing.text import Tokenizer\n",
    "from keras.preprocessing.sequence import pad_sequences\n",
    "from sklearn.model_selection import train_test_split\n",
    "from keras.utils import to_categorical\n",
    "from keras.models import Sequential\n",
    "from keras.layers import Dense, Dropout, Embedding, LSTM, GlobalMaxPooling1D, SpatialDropout1D"
   ]
  },
  {
   "cell_type": "markdown",
   "metadata": {},
   "source": [
    "We will start by analysing the main dataset so we have to start by opening it."
   ]
  },
  {
   "cell_type": "code",
   "execution_count": 2,
   "metadata": {},
   "outputs": [
    {
     "name": "stdout",
     "output_type": "stream",
     "text": [
      "(10836, 15)\n"
     ]
    },
    {
     "data": {
      "text/plain": [
       "<bound method NDFrame.head of             Start Week    End Week  MMWRyear  MMWRweek    Group    Indicator  \\\n",
       "Data As Of                                                                     \n",
       "11/25/2020  02/01/2020  02/01/2020      2020         5  By week  Week-ending   \n",
       "11/25/2020  02/01/2020  02/01/2020      2020         5  By week  Week-ending   \n",
       "11/25/2020  02/01/2020  02/01/2020      2020         5  By week  Week-ending   \n",
       "11/25/2020  02/01/2020  02/01/2020      2020         5  By week  Week-ending   \n",
       "11/25/2020  02/01/2020  02/01/2020      2020         5  By week  Week-ending   \n",
       "...                ...         ...       ...       ...      ...          ...   \n",
       "11/25/2020  11/21/2020  11/21/2020      2020        47  By week  Week-ending   \n",
       "11/25/2020  11/21/2020  11/21/2020      2020        47  By week  Week-ending   \n",
       "11/25/2020  11/21/2020  11/21/2020      2020        47  By week  Week-ending   \n",
       "11/25/2020  11/21/2020  11/21/2020      2020        47  By week  Week-ending   \n",
       "11/25/2020  11/21/2020  11/21/2020      2020        47  By week  Week-ending   \n",
       "\n",
       "             Jurisdiction    Age Group  COVID-19 Deaths  Total Deaths  \\\n",
       "Data As Of                                                              \n",
       "11/25/2020  United States     All Ages              0.0       58657.0   \n",
       "11/25/2020  United States   0-17 years              0.0         654.0   \n",
       "11/25/2020  United States  18-64 years              0.0       14034.0   \n",
       "11/25/2020  United States    65+ years              0.0       43969.0   \n",
       "11/25/2020        Alabama     All Ages              0.0        1057.0   \n",
       "...                   ...          ...              ...           ...   \n",
       "11/25/2020   HHS Region 9    65+ years             60.0        1914.0   \n",
       "11/25/2020  HHS Region 10     All Ages             28.0         753.0   \n",
       "11/25/2020  HHS Region 10   0-17 years              0.0           NaN   \n",
       "11/25/2020  HHS Region 10  18-64 years              NaN         124.0   \n",
       "11/25/2020  HHS Region 10    65+ years             25.0         624.0   \n",
       "\n",
       "            Pneumonia Deaths  Influenza Deaths  Pneumonia or Influenza  \\\n",
       "Data As Of                                                               \n",
       "11/25/2020            3803.0             479.0                  4282.0   \n",
       "11/25/2020              13.0              16.0                    29.0   \n",
       "11/25/2020             703.0             184.0                   887.0   \n",
       "11/25/2020            3087.0             279.0                  3366.0   \n",
       "11/25/2020              55.0              16.0                    71.0   \n",
       "...                      ...               ...                     ...   \n",
       "11/25/2020             159.0               0.0                   159.0   \n",
       "11/25/2020              47.0               0.0                    47.0   \n",
       "11/25/2020               0.0               0.0                     0.0   \n",
       "11/25/2020               NaN               0.0                     NaN   \n",
       "11/25/2020              38.0               0.0                    38.0   \n",
       "\n",
       "            Pneumonia, Influenza, or COVID-19 Deaths  \\\n",
       "Data As Of                                             \n",
       "11/25/2020                                    4282.0   \n",
       "11/25/2020                                      29.0   \n",
       "11/25/2020                                     887.0   \n",
       "11/25/2020                                    3366.0   \n",
       "11/25/2020                                      71.0   \n",
       "...                                              ...   \n",
       "11/25/2020                                     181.0   \n",
       "11/25/2020                                      63.0   \n",
       "11/25/2020                                       0.0   \n",
       "11/25/2020                                      11.0   \n",
       "11/25/2020                                      52.0   \n",
       "\n",
       "                                                     Footnote  \n",
       "Data As Of                                                     \n",
       "11/25/2020                                                NaN  \n",
       "11/25/2020                                                NaN  \n",
       "11/25/2020                                                NaN  \n",
       "11/25/2020                                                NaN  \n",
       "11/25/2020                                                NaN  \n",
       "...                                                       ...  \n",
       "11/25/2020                                                NaN  \n",
       "11/25/2020                                                NaN  \n",
       "11/25/2020  One or more data cells have counts between 1-9...  \n",
       "11/25/2020  One or more data cells have counts between 1-9...  \n",
       "11/25/2020                                                NaN  \n",
       "\n",
       "[10836 rows x 15 columns]>"
      ]
     },
     "execution_count": 2,
     "metadata": {},
     "output_type": "execute_result"
    }
   ],
   "source": [
    "data = pd.read_csv('Provisional_Death_Counts_for_Influenza__Pneumonia__and_COVID-19.csv',sep=',', index_col = 0, na_values = \"na\")\n",
    "print (data.shape)\n",
    "data.head"
   ]
  },
  {
   "cell_type": "markdown",
   "metadata": {},
   "source": [
    "As seen, the dataset contains 10836 rows and 15 columns"
   ]
  },
  {
   "cell_type": "code",
   "execution_count": 3,
   "metadata": {},
   "outputs": [
    {
     "data": {
      "text/html": [
       "<div>\n",
       "<style scoped>\n",
       "    .dataframe tbody tr th:only-of-type {\n",
       "        vertical-align: middle;\n",
       "    }\n",
       "\n",
       "    .dataframe tbody tr th {\n",
       "        vertical-align: top;\n",
       "    }\n",
       "\n",
       "    .dataframe thead th {\n",
       "        text-align: right;\n",
       "    }\n",
       "</style>\n",
       "<table border=\"1\" class=\"dataframe\">\n",
       "  <thead>\n",
       "    <tr style=\"text-align: right;\">\n",
       "      <th></th>\n",
       "      <th>MMWRyear</th>\n",
       "      <th>MMWRweek</th>\n",
       "      <th>COVID-19 Deaths</th>\n",
       "      <th>Total Deaths</th>\n",
       "      <th>Pneumonia Deaths</th>\n",
       "      <th>Influenza Deaths</th>\n",
       "      <th>Pneumonia or Influenza</th>\n",
       "      <th>Pneumonia, Influenza, or COVID-19 Deaths</th>\n",
       "    </tr>\n",
       "  </thead>\n",
       "  <tbody>\n",
       "    <tr>\n",
       "      <th>count</th>\n",
       "      <td>10836.0</td>\n",
       "      <td>10836.000000</td>\n",
       "      <td>9114.000000</td>\n",
       "      <td>9716.000000</td>\n",
       "      <td>8917.000000</td>\n",
       "      <td>8401.000000</td>\n",
       "      <td>8897.000000</td>\n",
       "      <td>9065.000000</td>\n",
       "    </tr>\n",
       "    <tr>\n",
       "      <th>mean</th>\n",
       "      <td>2020.0</td>\n",
       "      <td>26.000000</td>\n",
       "      <td>157.071758</td>\n",
       "      <td>1589.344998</td>\n",
       "      <td>161.858024</td>\n",
       "      <td>4.072372</td>\n",
       "      <td>166.812409</td>\n",
       "      <td>249.488252</td>\n",
       "    </tr>\n",
       "    <tr>\n",
       "      <th>std</th>\n",
       "      <td>0.0</td>\n",
       "      <td>12.410246</td>\n",
       "      <td>707.549047</td>\n",
       "      <td>5318.890128</td>\n",
       "      <td>578.399546</td>\n",
       "      <td>27.793888</td>\n",
       "      <td>593.282163</td>\n",
       "      <td>954.621799</td>\n",
       "    </tr>\n",
       "    <tr>\n",
       "      <th>min</th>\n",
       "      <td>2020.0</td>\n",
       "      <td>5.000000</td>\n",
       "      <td>0.000000</td>\n",
       "      <td>0.000000</td>\n",
       "      <td>0.000000</td>\n",
       "      <td>0.000000</td>\n",
       "      <td>0.000000</td>\n",
       "      <td>0.000000</td>\n",
       "    </tr>\n",
       "    <tr>\n",
       "      <th>25%</th>\n",
       "      <td>2020.0</td>\n",
       "      <td>15.000000</td>\n",
       "      <td>0.000000</td>\n",
       "      <td>88.000000</td>\n",
       "      <td>0.000000</td>\n",
       "      <td>0.000000</td>\n",
       "      <td>0.000000</td>\n",
       "      <td>10.000000</td>\n",
       "    </tr>\n",
       "    <tr>\n",
       "      <th>50%</th>\n",
       "      <td>2020.0</td>\n",
       "      <td>26.000000</td>\n",
       "      <td>13.000000</td>\n",
       "      <td>386.000000</td>\n",
       "      <td>32.000000</td>\n",
       "      <td>0.000000</td>\n",
       "      <td>34.000000</td>\n",
       "      <td>44.000000</td>\n",
       "    </tr>\n",
       "    <tr>\n",
       "      <th>75%</th>\n",
       "      <td>2020.0</td>\n",
       "      <td>37.000000</td>\n",
       "      <td>78.000000</td>\n",
       "      <td>1207.250000</td>\n",
       "      <td>107.000000</td>\n",
       "      <td>0.000000</td>\n",
       "      <td>111.000000</td>\n",
       "      <td>158.000000</td>\n",
       "    </tr>\n",
       "    <tr>\n",
       "      <th>max</th>\n",
       "      <td>2020.0</td>\n",
       "      <td>47.000000</td>\n",
       "      <td>17068.000000</td>\n",
       "      <td>78821.000000</td>\n",
       "      <td>11972.000000</td>\n",
       "      <td>654.000000</td>\n",
       "      <td>12444.000000</td>\n",
       "      <td>21222.000000</td>\n",
       "    </tr>\n",
       "  </tbody>\n",
       "</table>\n",
       "</div>"
      ],
      "text/plain": [
       "       MMWRyear      MMWRweek  COVID-19 Deaths  Total Deaths  \\\n",
       "count   10836.0  10836.000000      9114.000000   9716.000000   \n",
       "mean     2020.0     26.000000       157.071758   1589.344998   \n",
       "std         0.0     12.410246       707.549047   5318.890128   \n",
       "min      2020.0      5.000000         0.000000      0.000000   \n",
       "25%      2020.0     15.000000         0.000000     88.000000   \n",
       "50%      2020.0     26.000000        13.000000    386.000000   \n",
       "75%      2020.0     37.000000        78.000000   1207.250000   \n",
       "max      2020.0     47.000000     17068.000000  78821.000000   \n",
       "\n",
       "       Pneumonia Deaths  Influenza Deaths  Pneumonia or Influenza  \\\n",
       "count       8917.000000       8401.000000             8897.000000   \n",
       "mean         161.858024          4.072372              166.812409   \n",
       "std          578.399546         27.793888              593.282163   \n",
       "min            0.000000          0.000000                0.000000   \n",
       "25%            0.000000          0.000000                0.000000   \n",
       "50%           32.000000          0.000000               34.000000   \n",
       "75%          107.000000          0.000000              111.000000   \n",
       "max        11972.000000        654.000000            12444.000000   \n",
       "\n",
       "       Pneumonia, Influenza, or COVID-19 Deaths  \n",
       "count                               9065.000000  \n",
       "mean                                 249.488252  \n",
       "std                                  954.621799  \n",
       "min                                    0.000000  \n",
       "25%                                   10.000000  \n",
       "50%                                   44.000000  \n",
       "75%                                  158.000000  \n",
       "max                                21222.000000  "
      ]
     },
     "execution_count": 3,
     "metadata": {},
     "output_type": "execute_result"
    }
   ],
   "source": [
    "data.describe()\n"
   ]
  },
  {
   "cell_type": "markdown",
   "metadata": {},
   "source": [
    "We can see that by the count some values are missing"
   ]
  },
  {
   "cell_type": "code",
   "execution_count": 4,
   "metadata": {},
   "outputs": [
    {
     "data": {
      "text/plain": [
       "Index(['Start Week', 'End Week', 'MMWRyear', 'MMWRweek', 'Group', 'Indicator',\n",
       "       'Jurisdiction', 'Age Group', 'COVID-19 Deaths', 'Total Deaths',\n",
       "       'Pneumonia Deaths', 'Influenza Deaths', 'Pneumonia or Influenza',\n",
       "       'Pneumonia, Influenza, or COVID-19 Deaths', 'Footnote'],\n",
       "      dtype='object')"
      ]
     },
     "execution_count": 4,
     "metadata": {},
     "output_type": "execute_result"
    }
   ],
   "source": [
    "data.columns"
   ]
  },
  {
   "cell_type": "markdown",
   "metadata": {},
   "source": [
    "A simpler way to see all the columns"
   ]
  },
  {
   "cell_type": "code",
   "execution_count": 5,
   "metadata": {},
   "outputs": [
    {
     "data": {
      "text/plain": [
       "COVID-19 Deaths\n",
       "0.0        4146\n",
       "1.0           3\n",
       "2.0           9\n",
       "3.0           6\n",
       "4.0           7\n",
       "           ... \n",
       "13139.0       1\n",
       "13841.0       1\n",
       "15426.0       1\n",
       "16162.0       1\n",
       "17068.0       1\n",
       "Length: 906, dtype: int64"
      ]
     },
     "execution_count": 5,
     "metadata": {},
     "output_type": "execute_result"
    }
   ],
   "source": [
    "data.groupby(\"COVID-19 Deaths\").size()"
   ]
  },
  {
   "cell_type": "markdown",
   "metadata": {},
   "source": [
    "To see how many null values we have we use:"
   ]
  },
  {
   "cell_type": "code",
   "execution_count": 6,
   "metadata": {},
   "outputs": [
    {
     "data": {
      "text/plain": [
       "16040"
      ]
     },
     "execution_count": 6,
     "metadata": {},
     "output_type": "execute_result"
    }
   ],
   "source": [
    "data.isnull().sum().sum()"
   ]
  },
  {
   "cell_type": "markdown",
   "metadata": {},
   "source": [
    "And to dellete them:"
   ]
  },
  {
   "cell_type": "code",
   "execution_count": 7,
   "metadata": {},
   "outputs": [
    {
     "data": {
      "text/plain": [
       "0"
      ]
     },
     "execution_count": 7,
     "metadata": {},
     "output_type": "execute_result"
    }
   ],
   "source": [
    "datanull=data.dropna()\n",
    "datanull.isnull().sum().sum()"
   ]
  },
  {
   "cell_type": "markdown",
   "metadata": {},
   "source": [
    "To see all the weeks in this dataset:"
   ]
  },
  {
   "cell_type": "code",
   "execution_count": 8,
   "metadata": {},
   "outputs": [
    {
     "data": {
      "text/plain": [
       "Start Week\n",
       "02/01/2020    252\n",
       "02/08/2020    252\n",
       "02/15/2020    252\n",
       "02/22/2020    252\n",
       "02/29/2020    252\n",
       "03/07/2020    252\n",
       "03/14/2020    252\n",
       "03/21/2020    252\n",
       "03/28/2020    252\n",
       "04/04/2020    252\n",
       "04/11/2020    252\n",
       "04/18/2020    252\n",
       "04/25/2020    252\n",
       "05/02/2020    252\n",
       "05/09/2020    252\n",
       "05/16/2020    252\n",
       "05/23/2020    252\n",
       "05/30/2020    252\n",
       "06/06/2020    252\n",
       "06/13/2020    252\n",
       "06/20/2020    252\n",
       "06/27/2020    252\n",
       "07/04/2020    252\n",
       "07/11/2020    252\n",
       "07/18/2020    252\n",
       "07/25/2020    252\n",
       "08/01/2020    252\n",
       "08/08/2020    252\n",
       "08/15/2020    252\n",
       "08/22/2020    252\n",
       "08/29/2020    252\n",
       "09/05/2020    252\n",
       "09/12/2020    252\n",
       "09/19/2020    252\n",
       "09/26/2020    252\n",
       "10/03/2020    252\n",
       "10/10/2020    252\n",
       "10/17/2020    252\n",
       "10/24/2020    252\n",
       "10/31/2020    252\n",
       "11/07/2020    252\n",
       "11/14/2020    252\n",
       "11/21/2020    252\n",
       "dtype: int64"
      ]
     },
     "execution_count": 8,
     "metadata": {},
     "output_type": "execute_result"
    }
   ],
   "source": [
    "data.groupby(\"Start Week\").size()\n",
    "\n",
    "#len(data.groupby(\"Start Week\"))"
   ]
  },
  {
   "cell_type": "markdown",
   "metadata": {},
   "source": [
    "Each state is used 172 times:"
   ]
  },
  {
   "cell_type": "code",
   "execution_count": 9,
   "metadata": {},
   "outputs": [
    {
     "data": {
      "text/plain": [
       "Jurisdiction\n",
       "Alabama          172\n",
       "Alaska           172\n",
       "Arizona          172\n",
       "Arkansas         172\n",
       "California       172\n",
       "                ... \n",
       "Virginia         172\n",
       "Washington       172\n",
       "West Virginia    172\n",
       "Wisconsin        172\n",
       "Wyoming          172\n",
       "Length: 63, dtype: int64"
      ]
     },
     "execution_count": 9,
     "metadata": {},
     "output_type": "execute_result"
    }
   ],
   "source": [
    "data.groupby(\"Jurisdiction\").size()"
   ]
  },
  {
   "cell_type": "markdown",
   "metadata": {},
   "source": [
    "To see the states in an easier way:"
   ]
  },
  {
   "cell_type": "code",
   "execution_count": 10,
   "metadata": {},
   "outputs": [
    {
     "data": {
      "text/plain": [
       "array(['United States', 'Alabama', 'Alaska', 'Arizona', 'Arkansas',\n",
       "       'California', 'Colorado', 'Connecticut', 'Delaware',\n",
       "       'District of Columbia', 'Florida', 'Georgia', 'Hawaii', 'Idaho',\n",
       "       'Illinois', 'Indiana', 'Iowa', 'Kansas', 'Kentucky', 'Louisiana',\n",
       "       'Maine', 'Maryland', 'Massachusetts', 'Michigan', 'Minnesota',\n",
       "       'Mississippi', 'Missouri', 'Montana', 'Nebraska', 'Nevada',\n",
       "       'New Hampshire', 'New Jersey', 'New Mexico', 'New York',\n",
       "       'New York City', 'North Carolina', 'North Dakota', 'Ohio',\n",
       "       'Oklahoma', 'Oregon', 'Pennsylvania', 'Rhode Island',\n",
       "       'South Carolina', 'South Dakota', 'Tennessee', 'Texas', 'Utah',\n",
       "       'Vermont', 'Virginia', 'Washington', 'West Virginia', 'Wisconsin',\n",
       "       'Wyoming', 'HHS Region 1', 'HHS Region 2', 'HHS Region 3',\n",
       "       'HHS Region 4', 'HHS Region 5', 'HHS Region 6', 'HHS Region 7',\n",
       "       'HHS Region 8', 'HHS Region 9', 'HHS Region 10'], dtype=object)"
      ]
     },
     "execution_count": 10,
     "metadata": {},
     "output_type": "execute_result"
    }
   ],
   "source": [
    "data.Jurisdiction.unique()"
   ]
  },
  {
   "cell_type": "code",
   "execution_count": 11,
   "metadata": {},
   "outputs": [
    {
     "data": {
      "text/plain": [
       "Age Group\n",
       "0-17 years     2709\n",
       "18-64 years    2709\n",
       "65+ years      2709\n",
       "All Ages       2709\n",
       "dtype: int64"
      ]
     },
     "execution_count": 11,
     "metadata": {},
     "output_type": "execute_result"
    }
   ],
   "source": [
    "data.groupby(\"Age Group\").size()"
   ]
  },
  {
   "cell_type": "markdown",
   "metadata": {},
   "source": [
    "Dividing 2709 (how often each age group is used) by 63 (the number of states (although the states are less (50), we have 1 United States, 2 more states than the official ones, and 10 HHS Regions) equal the number of week that is confirmed by using:\n",
    "```\n",
    "len(data.groupby(\"Start Week\"))\n",
    "```"
   ]
  },
  {
   "cell_type": "code",
   "execution_count": 12,
   "metadata": {},
   "outputs": [
    {
     "data": {
      "text/html": [
       "<div>\n",
       "<style scoped>\n",
       "    .dataframe tbody tr th:only-of-type {\n",
       "        vertical-align: middle;\n",
       "    }\n",
       "\n",
       "    .dataframe tbody tr th {\n",
       "        vertical-align: top;\n",
       "    }\n",
       "\n",
       "    .dataframe thead th {\n",
       "        text-align: right;\n",
       "    }\n",
       "</style>\n",
       "<table border=\"1\" class=\"dataframe\">\n",
       "  <thead>\n",
       "    <tr style=\"text-align: right;\">\n",
       "      <th></th>\n",
       "      <th>Start Week</th>\n",
       "      <th>End Week</th>\n",
       "      <th>MMWRyear</th>\n",
       "      <th>MMWRweek</th>\n",
       "      <th>Group</th>\n",
       "      <th>Indicator</th>\n",
       "      <th>Jurisdiction</th>\n",
       "      <th>COVID-19 Deaths</th>\n",
       "      <th>Total Deaths</th>\n",
       "      <th>Pneumonia Deaths</th>\n",
       "      <th>Influenza Deaths</th>\n",
       "      <th>Pneumonia or Influenza</th>\n",
       "      <th>Pneumonia, Influenza, or COVID-19 Deaths</th>\n",
       "      <th>Footnote</th>\n",
       "    </tr>\n",
       "    <tr>\n",
       "      <th>Age Group</th>\n",
       "      <th></th>\n",
       "      <th></th>\n",
       "      <th></th>\n",
       "      <th></th>\n",
       "      <th></th>\n",
       "      <th></th>\n",
       "      <th></th>\n",
       "      <th></th>\n",
       "      <th></th>\n",
       "      <th></th>\n",
       "      <th></th>\n",
       "      <th></th>\n",
       "      <th></th>\n",
       "      <th></th>\n",
       "    </tr>\n",
       "  </thead>\n",
       "  <tbody>\n",
       "    <tr>\n",
       "      <th>0-17 years</th>\n",
       "      <td>2709</td>\n",
       "      <td>2709</td>\n",
       "      <td>2709</td>\n",
       "      <td>2709</td>\n",
       "      <td>2709</td>\n",
       "      <td>2709</td>\n",
       "      <td>2709</td>\n",
       "      <td>2528</td>\n",
       "      <td>1616</td>\n",
       "      <td>2168</td>\n",
       "      <td>2543</td>\n",
       "      <td>2100</td>\n",
       "      <td>2015</td>\n",
       "      <td>1685</td>\n",
       "    </tr>\n",
       "    <tr>\n",
       "      <th>18-64 years</th>\n",
       "      <td>2709</td>\n",
       "      <td>2709</td>\n",
       "      <td>2709</td>\n",
       "      <td>2709</td>\n",
       "      <td>2709</td>\n",
       "      <td>2709</td>\n",
       "      <td>2709</td>\n",
       "      <td>1942</td>\n",
       "      <td>2692</td>\n",
       "      <td>1852</td>\n",
       "      <td>2075</td>\n",
       "      <td>1883</td>\n",
       "      <td>2003</td>\n",
       "      <td>1566</td>\n",
       "    </tr>\n",
       "    <tr>\n",
       "      <th>65+ years</th>\n",
       "      <td>2709</td>\n",
       "      <td>2709</td>\n",
       "      <td>2709</td>\n",
       "      <td>2709</td>\n",
       "      <td>2709</td>\n",
       "      <td>2709</td>\n",
       "      <td>2709</td>\n",
       "      <td>2314</td>\n",
       "      <td>2703</td>\n",
       "      <td>2412</td>\n",
       "      <td>1899</td>\n",
       "      <td>2422</td>\n",
       "      <td>2494</td>\n",
       "      <td>1240</td>\n",
       "    </tr>\n",
       "    <tr>\n",
       "      <th>All Ages</th>\n",
       "      <td>2709</td>\n",
       "      <td>2709</td>\n",
       "      <td>2709</td>\n",
       "      <td>2709</td>\n",
       "      <td>2709</td>\n",
       "      <td>2709</td>\n",
       "      <td>2709</td>\n",
       "      <td>2330</td>\n",
       "      <td>2705</td>\n",
       "      <td>2485</td>\n",
       "      <td>1884</td>\n",
       "      <td>2492</td>\n",
       "      <td>2553</td>\n",
       "      <td>1211</td>\n",
       "    </tr>\n",
       "  </tbody>\n",
       "</table>\n",
       "</div>"
      ],
      "text/plain": [
       "             Start Week  End Week  MMWRyear  MMWRweek  Group  Indicator  \\\n",
       "Age Group                                                                 \n",
       "0-17 years         2709      2709      2709      2709   2709       2709   \n",
       "18-64 years        2709      2709      2709      2709   2709       2709   \n",
       "65+ years          2709      2709      2709      2709   2709       2709   \n",
       "All Ages           2709      2709      2709      2709   2709       2709   \n",
       "\n",
       "             Jurisdiction  COVID-19 Deaths  Total Deaths  Pneumonia Deaths  \\\n",
       "Age Group                                                                    \n",
       "0-17 years           2709             2528          1616              2168   \n",
       "18-64 years          2709             1942          2692              1852   \n",
       "65+ years            2709             2314          2703              2412   \n",
       "All Ages             2709             2330          2705              2485   \n",
       "\n",
       "             Influenza Deaths  Pneumonia or Influenza  \\\n",
       "Age Group                                               \n",
       "0-17 years               2543                    2100   \n",
       "18-64 years              2075                    1883   \n",
       "65+ years                1899                    2422   \n",
       "All Ages                 1884                    2492   \n",
       "\n",
       "             Pneumonia, Influenza, or COVID-19 Deaths  Footnote  \n",
       "Age Group                                                        \n",
       "0-17 years                                       2015      1685  \n",
       "18-64 years                                      2003      1566  \n",
       "65+ years                                        2494      1240  \n",
       "All Ages                                         2553      1211  "
      ]
     },
     "execution_count": 12,
     "metadata": {},
     "output_type": "execute_result"
    }
   ],
   "source": [
    "data.groupby(\"Age Group\").count()"
   ]
  },
  {
   "cell_type": "code",
   "execution_count": 15,
   "metadata": {},
   "outputs": [
    {
     "name": "stdout",
     "output_type": "stream",
     "text": [
      "            Start Week    End Week  MMWRyear  MMWRweek    Group    Indicator  \\\n",
      "Data As Of                                                                     \n",
      "11/25/2020  02/01/2020  02/01/2020      2020         5  By week  Week-ending   \n",
      "11/25/2020  02/08/2020  02/08/2020      2020         6  By week  Week-ending   \n",
      "11/25/2020  02/15/2020  02/15/2020      2020         7  By week  Week-ending   \n",
      "11/25/2020  02/22/2020  02/22/2020      2020         8  By week  Week-ending   \n",
      "11/25/2020  02/29/2020  02/29/2020      2020         9  By week  Week-ending   \n",
      "11/25/2020  03/07/2020  03/07/2020      2020        10  By week  Week-ending   \n",
      "11/25/2020  03/14/2020  03/14/2020      2020        11  By week  Week-ending   \n",
      "11/25/2020  03/21/2020  03/21/2020      2020        12  By week  Week-ending   \n",
      "11/25/2020  03/28/2020  03/28/2020      2020        13  By week  Week-ending   \n",
      "11/25/2020  04/04/2020  04/04/2020      2020        14  By week  Week-ending   \n",
      "11/25/2020  04/11/2020  04/11/2020      2020        15  By week  Week-ending   \n",
      "11/25/2020  04/18/2020  04/18/2020      2020        16  By week  Week-ending   \n",
      "11/25/2020  04/25/2020  04/25/2020      2020        17  By week  Week-ending   \n",
      "11/25/2020  05/02/2020  05/02/2020      2020        18  By week  Week-ending   \n",
      "11/25/2020  05/09/2020  05/09/2020      2020        19  By week  Week-ending   \n",
      "11/25/2020  05/16/2020  05/16/2020      2020        20  By week  Week-ending   \n",
      "11/25/2020  05/23/2020  05/23/2020      2020        21  By week  Week-ending   \n",
      "11/25/2020  05/30/2020  05/30/2020      2020        22  By week  Week-ending   \n",
      "11/25/2020  06/06/2020  06/06/2020      2020        23  By week  Week-ending   \n",
      "11/25/2020  06/13/2020  06/13/2020      2020        24  By week  Week-ending   \n",
      "11/25/2020  06/20/2020  06/20/2020      2020        25  By week  Week-ending   \n",
      "11/25/2020  06/27/2020  06/27/2020      2020        26  By week  Week-ending   \n",
      "11/25/2020  07/04/2020  07/04/2020      2020        27  By week  Week-ending   \n",
      "11/25/2020  07/11/2020  07/11/2020      2020        28  By week  Week-ending   \n",
      "11/25/2020  07/18/2020  07/18/2020      2020        29  By week  Week-ending   \n",
      "11/25/2020  07/25/2020  07/25/2020      2020        30  By week  Week-ending   \n",
      "11/25/2020  08/01/2020  08/01/2020      2020        31  By week  Week-ending   \n",
      "11/25/2020  08/08/2020  08/08/2020      2020        32  By week  Week-ending   \n",
      "11/25/2020  08/15/2020  08/15/2020      2020        33  By week  Week-ending   \n",
      "11/25/2020  08/22/2020  08/22/2020      2020        34  By week  Week-ending   \n",
      "11/25/2020  08/29/2020  08/29/2020      2020        35  By week  Week-ending   \n",
      "11/25/2020  09/05/2020  09/05/2020      2020        36  By week  Week-ending   \n",
      "11/25/2020  09/12/2020  09/12/2020      2020        37  By week  Week-ending   \n",
      "11/25/2020  09/19/2020  09/19/2020      2020        38  By week  Week-ending   \n",
      "11/25/2020  09/26/2020  09/26/2020      2020        39  By week  Week-ending   \n",
      "11/25/2020  10/03/2020  10/03/2020      2020        40  By week  Week-ending   \n",
      "11/25/2020  10/10/2020  10/10/2020      2020        41  By week  Week-ending   \n",
      "11/25/2020  10/17/2020  10/17/2020      2020        42  By week  Week-ending   \n",
      "11/25/2020  10/24/2020  10/24/2020      2020        43  By week  Week-ending   \n",
      "11/25/2020  10/31/2020  10/31/2020      2020        44  By week  Week-ending   \n",
      "11/25/2020  11/07/2020  11/07/2020      2020        45  By week  Week-ending   \n",
      "11/25/2020  11/14/2020  11/14/2020      2020        46  By week  Week-ending   \n",
      "11/25/2020  11/21/2020  11/21/2020      2020        47  By week  Week-ending   \n",
      "\n",
      "             Jurisdiction Age Group  COVID-19 Deaths  Total Deaths  \\\n",
      "Data As Of                                                           \n",
      "11/25/2020  United States  All Ages              0.0       58657.0   \n",
      "11/25/2020  United States  All Ages              1.0       59219.0   \n",
      "11/25/2020  United States  All Ages              0.0       58657.0   \n",
      "11/25/2020  United States  All Ages              4.0       58700.0   \n",
      "11/25/2020  United States  All Ages             10.0       59115.0   \n",
      "11/25/2020  United States  All Ages             36.0       59488.0   \n",
      "11/25/2020  United States  All Ages             56.0       58464.0   \n",
      "11/25/2020  United States  All Ages            571.0       59023.0   \n",
      "11/25/2020  United States  All Ages           3154.0       62781.0   \n",
      "11/25/2020  United States  All Ages          10017.0       72072.0   \n",
      "11/25/2020  United States  All Ages          16162.0       78821.0   \n",
      "11/25/2020  United States  All Ages          17068.0       76539.0   \n",
      "11/25/2020  United States  All Ages          15426.0       73647.0   \n",
      "11/25/2020  United States  All Ages          13139.0       69081.0   \n",
      "11/25/2020  United States  All Ages          11164.0       66614.0   \n",
      "11/25/2020  United States  All Ages           9168.0       64295.0   \n",
      "11/25/2020  United States  All Ages           7174.0       61408.0   \n",
      "11/25/2020  United States  All Ages           6115.0       59473.0   \n",
      "11/25/2020  United States  All Ages           4995.0       58670.0   \n",
      "11/25/2020  United States  All Ages           4202.0       57795.0   \n",
      "11/25/2020  United States  All Ages           3807.0       57744.0   \n",
      "11/25/2020  United States  All Ages           3787.0       58239.0   \n",
      "11/25/2020  United States  All Ages           4477.0       59540.0   \n",
      "11/25/2020  United States  All Ages           5718.0       61574.0   \n",
      "11/25/2020  United States  All Ages           7095.0       62767.0   \n",
      "11/25/2020  United States  All Ages           8133.0       63867.0   \n",
      "11/25/2020  United States  All Ages           8207.0       63839.0   \n",
      "11/25/2020  United States  All Ages           7762.0       63211.0   \n",
      "11/25/2020  United States  All Ages           7144.0       63018.0   \n",
      "11/25/2020  United States  All Ages           6256.0       61763.0   \n",
      "11/25/2020  United States  All Ages           5596.0       60033.0   \n",
      "11/25/2020  United States  All Ages           4796.0       58523.0   \n",
      "11/25/2020  United States  All Ages           4362.0       57250.0   \n",
      "11/25/2020  United States  All Ages           3982.0       56850.0   \n",
      "11/25/2020  United States  All Ages           4006.0       57689.0   \n",
      "11/25/2020  United States  All Ages           3912.0       56569.0   \n",
      "11/25/2020  United States  All Ages           4425.0       57886.0   \n",
      "11/25/2020  United States  All Ages           4706.0       56091.0   \n",
      "11/25/2020  United States  All Ages           5328.0       56577.0   \n",
      "11/25/2020  United States  All Ages           5793.0       55390.0   \n",
      "11/25/2020  United States  All Ages           6167.0       53285.0   \n",
      "11/25/2020  United States  All Ages           4571.0       42504.0   \n",
      "11/25/2020  United States  All Ages           1181.0       17746.0   \n",
      "\n",
      "            Pneumonia Deaths  Influenza Deaths  Pneumonia or Influenza  \\\n",
      "Data As Of                                                               \n",
      "11/25/2020            3803.0             479.0                  4282.0   \n",
      "11/25/2020            3799.0             520.0                  4319.0   \n",
      "11/25/2020            3828.0             559.0                  4387.0   \n",
      "11/25/2020            3697.0             566.0                  4263.0   \n",
      "11/25/2020            3823.0             654.0                  4477.0   \n",
      "11/25/2020            3966.0             632.0                  4598.0   \n",
      "11/25/2020            3962.0             623.0                  4585.0   \n",
      "11/25/2020            4530.0             557.0                  5087.0   \n",
      "11/25/2020            6156.0             442.0                  6598.0   \n",
      "11/25/2020            9904.0             477.0                 10381.0   \n",
      "11/25/2020           11972.0             472.0                 12444.0   \n",
      "11/25/2020           11376.0             264.0                 11640.0   \n",
      "11/25/2020           10353.0             144.0                 10497.0   \n",
      "11/25/2020            8919.0              65.0                  8984.0   \n",
      "11/25/2020            7815.0              48.0                  7863.0   \n",
      "11/25/2020            6755.0              21.0                  6776.0   \n",
      "11/25/2020            5873.0              24.0                  5897.0   \n",
      "11/25/2020            5253.0              12.0                  5265.0   \n",
      "11/25/2020            4870.0              11.0                  4881.0   \n",
      "11/25/2020            4518.0              11.0                  4529.0   \n",
      "11/25/2020            4349.0               8.0                  4357.0   \n",
      "11/25/2020            4241.0              11.0                  4252.0   \n",
      "11/25/2020            4531.0               4.0                  4535.0   \n",
      "11/25/2020            5501.0              10.0                  5511.0   \n",
      "11/25/2020            6150.0              13.0                  6163.0   \n",
      "11/25/2020            6710.0              10.0                  6720.0   \n",
      "11/25/2020            6785.0              13.0                  6798.0   \n",
      "11/25/2020            6747.0               9.0                  6756.0   \n",
      "11/25/2020            6447.0               5.0                  6452.0   \n",
      "11/25/2020            5888.0              12.0                  5900.0   \n",
      "11/25/2020            5452.0              11.0                  5463.0   \n",
      "11/25/2020            5039.0               9.0                  5048.0   \n",
      "11/25/2020            4755.0               7.0                  4762.0   \n",
      "11/25/2020            4500.0               5.0                  4505.0   \n",
      "11/25/2020            4658.0               3.0                  4661.0   \n",
      "11/25/2020            4492.0               8.0                  4500.0   \n",
      "11/25/2020            4779.0              11.0                  4790.0   \n",
      "11/25/2020            4780.0              15.0                  4795.0   \n",
      "11/25/2020            5067.0              16.0                  5083.0   \n",
      "11/25/2020            5176.0              16.0                  5192.0   \n",
      "11/25/2020            5230.0              19.0                  5249.0   \n",
      "11/25/2020            3949.0              10.0                  3959.0   \n",
      "11/25/2020            1370.0               5.0                  1375.0   \n",
      "\n",
      "            Pneumonia, Influenza, or COVID-19 Deaths Footnote  \n",
      "Data As Of                                                     \n",
      "11/25/2020                                    4282.0      NaN  \n",
      "11/25/2020                                    4320.0      NaN  \n",
      "11/25/2020                                    4387.0      NaN  \n",
      "11/25/2020                                    4266.0      NaN  \n",
      "11/25/2020                                    4482.0      NaN  \n",
      "11/25/2020                                    4615.0      NaN  \n",
      "11/25/2020                                    4612.0      NaN  \n",
      "11/25/2020                                    5401.0      NaN  \n",
      "11/25/2020                                    8275.0      NaN  \n",
      "11/25/2020                                   15413.0      NaN  \n",
      "11/25/2020                                   21056.0      NaN  \n",
      "11/25/2020                                   21222.0      NaN  \n",
      "11/25/2020                                   19234.0      NaN  \n",
      "11/25/2020                                   16604.0      NaN  \n",
      "11/25/2020                                   14317.0      NaN  \n",
      "11/25/2020                                   12167.0      NaN  \n",
      "11/25/2020                                   10107.0      NaN  \n",
      "11/25/2020                                    8907.0      NaN  \n",
      "11/25/2020                                    7743.0      NaN  \n",
      "11/25/2020                                    6874.0      NaN  \n",
      "11/25/2020                                    6563.0      NaN  \n",
      "11/25/2020                                    6492.0      NaN  \n",
      "11/25/2020                                    7028.0      NaN  \n",
      "11/25/2020                                    8530.0      NaN  \n",
      "11/25/2020                                    9830.0      NaN  \n",
      "11/25/2020                                   10915.0      NaN  \n",
      "11/25/2020                                   10967.0      NaN  \n",
      "11/25/2020                                   10573.0      NaN  \n",
      "11/25/2020                                    9949.0      NaN  \n",
      "11/25/2020                                    8986.0      NaN  \n",
      "11/25/2020                                    8218.0      NaN  \n",
      "11/25/2020                                    7429.0      NaN  \n",
      "11/25/2020                                    6932.0      NaN  \n",
      "11/25/2020                                    6567.0      NaN  \n",
      "11/25/2020                                    6687.0      NaN  \n",
      "11/25/2020                                    6544.0      NaN  \n",
      "11/25/2020                                    7036.0      NaN  \n",
      "11/25/2020                                    7254.0      NaN  \n",
      "11/25/2020                                    7953.0      NaN  \n",
      "11/25/2020                                    8281.0      NaN  \n",
      "11/25/2020                                    8529.0      NaN  \n",
      "11/25/2020                                    6440.0      NaN  \n",
      "11/25/2020                                    2000.0      NaN  \n",
      "43\n"
     ]
    },
    {
     "data": {
      "image/png": "[encoded data removed]",
      "text/plain": [
       "<Figure size 432x288 with 1 Axes>"
      ]
     },
     "metadata": {
      "needs_background": "light"
     },
     "output_type": "display_data"
    }
   ],
   "source": [
    "data_ages = data.loc[data[\"Age Group\"] == \"All Ages\"]\n",
    "all_ages = data_ages.loc[data_ages[\"Jurisdiction\"] == \"United States\"]\n",
    "print(all_ages)\n",
    "\n",
    "n_weeks = int(len(all_ages[\"Start Week\"].unique())) # dividing number of rows by the product of number of weeks days\n",
    "print(n_weeks) # it also applies to pneumonia and influenza deaths\n",
    "\n",
    "covid_data = all_ages['COVID-19 Deaths']\n",
    "covid = list(covid_data)\n",
    "covid_death = []\n",
    "for i in range(len(covid)):\n",
    "    c = covid[i]\n",
    "    covid_death.append(c)\n",
    "        \n",
    "pneumonia_data = all_ages['Pneumonia Deaths']\n",
    "pneumonia = list(pneumonia_data)\n",
    "pneumonia_death = []\n",
    "for i in range(len(pneumonia)):\n",
    "    p = pneumonia[i]\n",
    "    pneumonia_death.append(p)\n",
    "    \n",
    "influenza_data = all_ages['Influenza Deaths']\n",
    "influenza = list(influenza_data)\n",
    "influenza_death = []\n",
    "for i in range(len(influenza)):\n",
    "    g = influenza[i]\n",
    "    influenza_death.append(g)\n",
    "\n",
    "number1 = len(covid_death)\n",
    "index1 = [num1 for num1 in range(number1)]\n",
    "number2 = len(pneumonia_death)\n",
    "index2 = [num2 for num2 in range(number2)]\n",
    "number3 = len(influenza_death)\n",
    "index3 = [num3 for num3 in range(number3)]\n",
    "plt.plot(index1, covid_death)\n",
    "plt.plot(index2, pneumonia_death)\n",
    "plt.plot(index3, influenza_death)\n",
    "\n",
    "plt.xlabel(\"Weeks passed\")\n",
    "plt.ylabel(\"Number of deaths\")\n",
    "\n",
    "blue = mpatches.Patch(color='blue', label='COVID-19 deaths')\n",
    "orange = mpatches.Patch(color='orange', label='Pneumonia deaths')\n",
    "green = mpatches.Patch(color='green', label='Influenza deaths')\n",
    "plt.legend(handles=[blue,orange,green])\n",
    "\n",
    "plt.rcParams[\"figure.figsize\"] = (8,6)"
   ]
  },
  {
   "cell_type": "markdown",
   "metadata": {},
   "source": [
    "As it is clearly seen, the number of COVID-19 deaths surpasses the number of Pneumonia and Influenza deaths."
   ]
  },
  {
   "cell_type": "markdown",
   "metadata": {},
   "source": [
    "We can remove the columns that are not necessary:"
   ]
  },
  {
   "cell_type": "code",
   "execution_count": 10,
   "metadata": {},
   "outputs": [],
   "source": [
    "data.drop(['End Week', 'MMWRyear', 'MMWRweek', 'Group', 'Indicator',\n",
    "          'Total Deaths',\n",
    "        'Pneumonia or Influenza',\n",
    "       'Pneumonia, Influenza, or COVID-19 Deaths', 'Footnote'], axis=1, inplace = True)"
   ]
  },
  {
   "cell_type": "markdown",
   "metadata": {},
   "source": [
    "Since the data from the auxiliar dataset counts all ages and not by age group like in this dataset, we need to select only the values 'All Ages'"
   ]
  },
  {
   "cell_type": "code",
   "execution_count": 11,
   "metadata": {},
   "outputs": [],
   "source": [
    "data_age=data.loc[data['Age Group'] == 'All Ages']"
   ]
  },
  {
   "cell_type": "code",
   "execution_count": 16,
   "metadata": {},
   "outputs": [
    {
     "data": {
      "text/html": [
       "<div>\n",
       "<style scoped>\n",
       "    .dataframe tbody tr th:only-of-type {\n",
       "        vertical-align: middle;\n",
       "    }\n",
       "\n",
       "    .dataframe tbody tr th {\n",
       "        vertical-align: top;\n",
       "    }\n",
       "\n",
       "    .dataframe thead th {\n",
       "        text-align: right;\n",
       "    }\n",
       "</style>\n",
       "<table border=\"1\" class=\"dataframe\">\n",
       "  <thead>\n",
       "    <tr style=\"text-align: right;\">\n",
       "      <th></th>\n",
       "      <th>Start Week</th>\n",
       "      <th>Jurisdiction</th>\n",
       "      <th>COVID-19 Deaths</th>\n",
       "      <th>Pneumonia Deaths</th>\n",
       "      <th>Influenza Deaths</th>\n",
       "    </tr>\n",
       "    <tr>\n",
       "      <th>Age Group</th>\n",
       "      <th></th>\n",
       "      <th></th>\n",
       "      <th></th>\n",
       "      <th></th>\n",
       "      <th></th>\n",
       "    </tr>\n",
       "  </thead>\n",
       "  <tbody>\n",
       "    <tr>\n",
       "      <th>All Ages</th>\n",
       "      <td>2709</td>\n",
       "      <td>2709</td>\n",
       "      <td>2330</td>\n",
       "      <td>2485</td>\n",
       "      <td>1884</td>\n",
       "    </tr>\n",
       "  </tbody>\n",
       "</table>\n",
       "</div>"
      ],
      "text/plain": [
       "           Start Week  Jurisdiction  COVID-19 Deaths  Pneumonia Deaths  \\\n",
       "Age Group                                                                \n",
       "All Ages         2709          2709             2330              2485   \n",
       "\n",
       "           Influenza Deaths  \n",
       "Age Group                    \n",
       "All Ages               1884  "
      ]
     },
     "execution_count": 16,
     "metadata": {},
     "output_type": "execute_result"
    }
   ],
   "source": [
    "data_age.groupby('Age Group').count()"
   ]
  },
  {
   "cell_type": "markdown",
   "metadata": {},
   "source": [
    "Now we will analyze another dataset that could be used to build the model.\n",
    "\n",
    "The data was obtained from this website: https://covidtracking.com/data/download\n",
    "\n",
    "\n",
    "First we need to open it:"
   ]
  },
  {
   "cell_type": "code",
   "execution_count": 18,
   "metadata": {},
   "outputs": [
    {
     "data": {
      "text/plain": [
       "<bound method NDFrame.head of            state dataQualityGrade   death  deathConfirmed  deathIncrease  \\\n",
       "date                                                                       \n",
       "2020-12-20    AK                A   184.0           184.0              0   \n",
       "2020-12-20    AL                A  4389.0          3849.0              0   \n",
       "2020-12-20    AR               A+  3237.0          2842.0             46   \n",
       "2020-12-20    AS                D     0.0             NaN              0   \n",
       "2020-12-20    AZ               A+  7971.0          7277.0             34   \n",
       "...          ...              ...     ...             ...            ...   \n",
       "2020-01-17    WA              NaN     NaN             NaN              0   \n",
       "2020-01-16    WA              NaN     NaN             NaN              0   \n",
       "2020-01-15    WA              NaN     NaN             NaN              0   \n",
       "2020-01-14    WA              NaN     NaN             NaN              0   \n",
       "2020-01-13    WA              NaN     NaN             NaN              0   \n",
       "\n",
       "            deathProbable  hospitalized  hospitalizedCumulative  \\\n",
       "date                                                              \n",
       "2020-12-20            NaN         935.0                   935.0   \n",
       "2020-12-20          540.0       30224.0                 30224.0   \n",
       "2020-12-20          395.0       10502.0                 10502.0   \n",
       "2020-12-20            NaN           NaN                     NaN   \n",
       "2020-12-20          694.0       33037.0                 33037.0   \n",
       "...                   ...           ...                     ...   \n",
       "2020-01-17            NaN           NaN                     NaN   \n",
       "2020-01-16            NaN           NaN                     NaN   \n",
       "2020-01-15            NaN           NaN                     NaN   \n",
       "2020-01-14            NaN           NaN                     NaN   \n",
       "2020-01-13            NaN           NaN                     NaN   \n",
       "\n",
       "            hospitalizedCurrently  hospitalizedIncrease  ...  \\\n",
       "date                                                     ...   \n",
       "2020-12-20                  127.0                     0  ...   \n",
       "2020-12-20                 2337.0                     0  ...   \n",
       "2020-12-20                 1061.0                    15  ...   \n",
       "2020-12-20                    NaN                     0  ...   \n",
       "2020-12-20                 3899.0                   361  ...   \n",
       "...                           ...                   ...  ...   \n",
       "2020-01-17                    NaN                     0  ...   \n",
       "2020-01-16                    NaN                     0  ...   \n",
       "2020-01-15                    NaN                     0  ...   \n",
       "2020-01-14                    NaN                     0  ...   \n",
       "2020-01-13                    NaN                     0  ...   \n",
       "\n",
       "            totalTestResults  totalTestResultsIncrease  totalTestsAntibody  \\\n",
       "date                                                                         \n",
       "2020-12-20         1196506.0                      3388                 NaN   \n",
       "2020-12-20         1783890.0                      8462                 NaN   \n",
       "2020-12-20         1940240.0                     12969                 NaN   \n",
       "2020-12-20            2140.0                         0                 NaN   \n",
       "2020-12-20         4620819.0                     57721            383896.0   \n",
       "...                      ...                       ...                 ...   \n",
       "2020-01-17               NaN                         0                 NaN   \n",
       "2020-01-16               NaN                         0                 NaN   \n",
       "2020-01-15               NaN                         0                 NaN   \n",
       "2020-01-14               NaN                         0                 NaN   \n",
       "2020-01-13               NaN                         0                 NaN   \n",
       "\n",
       "            totalTestsAntigen  totalTestsPeopleAntibody  \\\n",
       "date                                                      \n",
       "2020-12-20                NaN                       NaN   \n",
       "2020-12-20                NaN                   82020.0   \n",
       "2020-12-20            21856.0                       NaN   \n",
       "2020-12-20                NaN                       NaN   \n",
       "2020-12-20                NaN                       NaN   \n",
       "...                       ...                       ...   \n",
       "2020-01-17                NaN                       NaN   \n",
       "2020-01-16                NaN                       NaN   \n",
       "2020-01-15                NaN                       NaN   \n",
       "2020-01-14                NaN                       NaN   \n",
       "2020-01-13                NaN                       NaN   \n",
       "\n",
       "            totalTestsPeopleAntigen  totalTestsPeopleViral  \\\n",
       "date                                                         \n",
       "2020-12-20                      NaN                    NaN   \n",
       "2020-12-20                      NaN              1783890.0   \n",
       "2020-12-20                 205000.0                    NaN   \n",
       "2020-12-20                      NaN                    NaN   \n",
       "2020-12-20                      NaN              2648988.0   \n",
       "...                             ...                    ...   \n",
       "2020-01-17                      NaN                    NaN   \n",
       "2020-01-16                      NaN                    NaN   \n",
       "2020-01-15                      NaN                    NaN   \n",
       "2020-01-14                      NaN                    NaN   \n",
       "2020-01-13                      NaN                    NaN   \n",
       "\n",
       "            totalTestsPeopleViralIncrease  totalTestsViral  \\\n",
       "date                                                         \n",
       "2020-12-20                              0        1196506.0   \n",
       "2020-12-20                           8462              NaN   \n",
       "2020-12-20                              0        1940240.0   \n",
       "2020-12-20                              0           2140.0   \n",
       "2020-12-20                          22811        4620819.0   \n",
       "...                                   ...              ...   \n",
       "2020-01-17                              0              NaN   \n",
       "2020-01-16                              0              NaN   \n",
       "2020-01-15                              0              NaN   \n",
       "2020-01-14                              0              NaN   \n",
       "2020-01-13                              0              NaN   \n",
       "\n",
       "            totalTestsViralIncrease  \n",
       "date                                 \n",
       "2020-12-20                     3388  \n",
       "2020-12-20                        0  \n",
       "2020-12-20                    12969  \n",
       "2020-12-20                        0  \n",
       "2020-12-20                    57721  \n",
       "...                             ...  \n",
       "2020-01-17                        0  \n",
       "2020-01-16                        0  \n",
       "2020-01-15                        0  \n",
       "2020-01-14                        0  \n",
       "2020-01-13                        0  \n",
       "\n",
       "[16427 rows x 41 columns]>"
      ]
     },
     "execution_count": 18,
     "metadata": {},
     "output_type": "execute_result"
    }
   ],
   "source": [
    "data2 = pd.read_csv('all-states-history.csv',sep=',', index_col = 0, na_values = \"na\")\n",
    "data2.head"
   ]
  },
  {
   "cell_type": "markdown",
   "metadata": {},
   "source": [
    "A small analysis of the dataset:"
   ]
  },
  {
   "cell_type": "code",
   "execution_count": 18,
   "metadata": {},
   "outputs": [
    {
     "data": {
      "text/html": [
       "<div>\n",
       "<style scoped>\n",
       "    .dataframe tbody tr th:only-of-type {\n",
       "        vertical-align: middle;\n",
       "    }\n",
       "\n",
       "    .dataframe tbody tr th {\n",
       "        vertical-align: top;\n",
       "    }\n",
       "\n",
       "    .dataframe thead th {\n",
       "        text-align: right;\n",
       "    }\n",
       "</style>\n",
       "<table border=\"1\" class=\"dataframe\">\n",
       "  <thead>\n",
       "    <tr style=\"text-align: right;\">\n",
       "      <th></th>\n",
       "      <th>death</th>\n",
       "      <th>deathConfirmed</th>\n",
       "      <th>deathIncrease</th>\n",
       "      <th>deathProbable</th>\n",
       "      <th>hospitalized</th>\n",
       "      <th>hospitalizedCumulative</th>\n",
       "      <th>hospitalizedCurrently</th>\n",
       "      <th>hospitalizedIncrease</th>\n",
       "      <th>inIcuCumulative</th>\n",
       "      <th>inIcuCurrently</th>\n",
       "      <th>...</th>\n",
       "      <th>totalTestResults</th>\n",
       "      <th>totalTestResultsIncrease</th>\n",
       "      <th>totalTestsAntibody</th>\n",
       "      <th>totalTestsAntigen</th>\n",
       "      <th>totalTestsPeopleAntibody</th>\n",
       "      <th>totalTestsPeopleAntigen</th>\n",
       "      <th>totalTestsPeopleViral</th>\n",
       "      <th>totalTestsPeopleViralIncrease</th>\n",
       "      <th>totalTestsViral</th>\n",
       "      <th>totalTestsViralIncrease</th>\n",
       "    </tr>\n",
       "  </thead>\n",
       "  <tbody>\n",
       "    <tr>\n",
       "      <th>count</th>\n",
       "      <td>15591.000000</td>\n",
       "      <td>7165.000000</td>\n",
       "      <td>16427.000000</td>\n",
       "      <td>5494.000000</td>\n",
       "      <td>9966.000000</td>\n",
       "      <td>9966.000000</td>\n",
       "      <td>13258.000000</td>\n",
       "      <td>16427.000000</td>\n",
       "      <td>2868.000000</td>\n",
       "      <td>8301.000000</td>\n",
       "      <td>...</td>\n",
       "      <td>1.635800e+04</td>\n",
       "      <td>16427.000000</td>\n",
       "      <td>3241.000000</td>\n",
       "      <td>1487.000000</td>\n",
       "      <td>1356.000000</td>\n",
       "      <td>614.000000</td>\n",
       "      <td>7.002000e+03</td>\n",
       "      <td>1.642700e+04</td>\n",
       "      <td>1.103300e+04</td>\n",
       "      <td>1.642700e+04</td>\n",
       "    </tr>\n",
       "    <tr>\n",
       "      <th>mean</th>\n",
       "      <td>2635.069399</td>\n",
       "      <td>2833.454013</td>\n",
       "      <td>18.837828</td>\n",
       "      <td>263.481070</td>\n",
       "      <td>8589.350793</td>\n",
       "      <td>8589.350793</td>\n",
       "      <td>1006.012294</td>\n",
       "      <td>39.195349</td>\n",
       "      <td>1452.472106</td>\n",
       "      <td>319.685098</td>\n",
       "      <td>...</td>\n",
       "      <td>1.311286e+06</td>\n",
       "      <td>14128.145979</td>\n",
       "      <td>127411.668004</td>\n",
       "      <td>103354.531944</td>\n",
       "      <td>122769.369469</td>\n",
       "      <td>79489.757329</td>\n",
       "      <td>7.094130e+05</td>\n",
       "      <td>2.699545e+03</td>\n",
       "      <td>1.499615e+06</td>\n",
       "      <td>1.110010e+04</td>\n",
       "    </tr>\n",
       "    <tr>\n",
       "      <th>std</th>\n",
       "      <td>4640.301576</td>\n",
       "      <td>3220.387245</td>\n",
       "      <td>44.567271</td>\n",
       "      <td>380.772274</td>\n",
       "      <td>15494.633634</td>\n",
       "      <td>15494.633634</td>\n",
       "      <td>1674.042619</td>\n",
       "      <td>226.412294</td>\n",
       "      <td>1420.254034</td>\n",
       "      <td>515.323747</td>\n",
       "      <td>...</td>\n",
       "      <td>2.606745e+06</td>\n",
       "      <td>26411.991794</td>\n",
       "      <td>152998.621227</td>\n",
       "      <td>155539.880005</td>\n",
       "      <td>147057.991688</td>\n",
       "      <td>75040.582297</td>\n",
       "      <td>1.013361e+06</td>\n",
       "      <td>2.500635e+04</td>\n",
       "      <td>2.692379e+06</td>\n",
       "      <td>3.707658e+04</td>\n",
       "    </tr>\n",
       "    <tr>\n",
       "      <th>min</th>\n",
       "      <td>0.000000</td>\n",
       "      <td>0.000000</td>\n",
       "      <td>-201.000000</td>\n",
       "      <td>0.000000</td>\n",
       "      <td>1.000000</td>\n",
       "      <td>1.000000</td>\n",
       "      <td>0.000000</td>\n",
       "      <td>-4124.000000</td>\n",
       "      <td>6.000000</td>\n",
       "      <td>0.000000</td>\n",
       "      <td>...</td>\n",
       "      <td>0.000000e+00</td>\n",
       "      <td>-194215.000000</td>\n",
       "      <td>5.000000</td>\n",
       "      <td>2.000000</td>\n",
       "      <td>1.000000</td>\n",
       "      <td>3.000000</td>\n",
       "      <td>0.000000e+00</td>\n",
       "      <td>-1.122327e+06</td>\n",
       "      <td>0.000000e+00</td>\n",
       "      <td>-5.819440e+05</td>\n",
       "    </tr>\n",
       "    <tr>\n",
       "      <th>25%</th>\n",
       "      <td>104.000000</td>\n",
       "      <td>459.000000</td>\n",
       "      <td>0.000000</td>\n",
       "      <td>45.000000</td>\n",
       "      <td>720.250000</td>\n",
       "      <td>720.250000</td>\n",
       "      <td>145.000000</td>\n",
       "      <td>0.000000</td>\n",
       "      <td>387.750000</td>\n",
       "      <td>61.000000</td>\n",
       "      <td>...</td>\n",
       "      <td>5.897250e+04</td>\n",
       "      <td>853.500000</td>\n",
       "      <td>14418.000000</td>\n",
       "      <td>16981.000000</td>\n",
       "      <td>34292.000000</td>\n",
       "      <td>14213.000000</td>\n",
       "      <td>1.256398e+05</td>\n",
       "      <td>0.000000e+00</td>\n",
       "      <td>1.029770e+05</td>\n",
       "      <td>0.000000e+00</td>\n",
       "    </tr>\n",
       "    <tr>\n",
       "      <th>50%</th>\n",
       "      <td>704.000000</td>\n",
       "      <td>1825.000000</td>\n",
       "      <td>5.000000</td>\n",
       "      <td>152.000000</td>\n",
       "      <td>3272.500000</td>\n",
       "      <td>3272.500000</td>\n",
       "      <td>485.500000</td>\n",
       "      <td>0.000000</td>\n",
       "      <td>1013.000000</td>\n",
       "      <td>155.000000</td>\n",
       "      <td>...</td>\n",
       "      <td>3.997145e+05</td>\n",
       "      <td>5002.000000</td>\n",
       "      <td>60293.000000</td>\n",
       "      <td>45253.000000</td>\n",
       "      <td>69859.500000</td>\n",
       "      <td>63003.500000</td>\n",
       "      <td>3.273410e+05</td>\n",
       "      <td>0.000000e+00</td>\n",
       "      <td>5.197770e+05</td>\n",
       "      <td>1.064000e+03</td>\n",
       "    </tr>\n",
       "    <tr>\n",
       "      <th>75%</th>\n",
       "      <td>2990.000000</td>\n",
       "      <td>3802.000000</td>\n",
       "      <td>18.000000</td>\n",
       "      <td>273.000000</td>\n",
       "      <td>10037.750000</td>\n",
       "      <td>10037.750000</td>\n",
       "      <td>1083.000000</td>\n",
       "      <td>33.000000</td>\n",
       "      <td>1935.000000</td>\n",
       "      <td>332.000000</td>\n",
       "      <td>...</td>\n",
       "      <td>1.379134e+06</td>\n",
       "      <td>15395.000000</td>\n",
       "      <td>198745.000000</td>\n",
       "      <td>123242.000000</td>\n",
       "      <td>127372.000000</td>\n",
       "      <td>126981.750000</td>\n",
       "      <td>9.067368e+05</td>\n",
       "      <td>2.478000e+03</td>\n",
       "      <td>1.693858e+06</td>\n",
       "      <td>1.030450e+04</td>\n",
       "    </tr>\n",
       "    <tr>\n",
       "      <th>max</th>\n",
       "      <td>28598.000000</td>\n",
       "      <td>16286.000000</td>\n",
       "      <td>951.000000</td>\n",
       "      <td>1908.000000</td>\n",
       "      <td>89995.000000</td>\n",
       "      <td>89995.000000</td>\n",
       "      <td>18825.000000</td>\n",
       "      <td>16373.000000</td>\n",
       "      <td>7050.000000</td>\n",
       "      <td>5225.000000</td>\n",
       "      <td>...</td>\n",
       "      <td>2.946517e+07</td>\n",
       "      <td>371222.000000</td>\n",
       "      <td>650372.000000</td>\n",
       "      <td>983430.000000</td>\n",
       "      <td>630838.000000</td>\n",
       "      <td>321267.000000</td>\n",
       "      <td>8.223154e+06</td>\n",
       "      <td>8.982590e+05</td>\n",
       "      <td>2.946517e+07</td>\n",
       "      <td>2.352923e+06</td>\n",
       "    </tr>\n",
       "  </tbody>\n",
       "</table>\n",
       "<p>8 rows × 39 columns</p>\n",
       "</div>"
      ],
      "text/plain": [
       "              death  deathConfirmed  deathIncrease  deathProbable  \\\n",
       "count  15591.000000     7165.000000   16427.000000    5494.000000   \n",
       "mean    2635.069399     2833.454013      18.837828     263.481070   \n",
       "std     4640.301576     3220.387245      44.567271     380.772274   \n",
       "min        0.000000        0.000000    -201.000000       0.000000   \n",
       "25%      104.000000      459.000000       0.000000      45.000000   \n",
       "50%      704.000000     1825.000000       5.000000     152.000000   \n",
       "75%     2990.000000     3802.000000      18.000000     273.000000   \n",
       "max    28598.000000    16286.000000     951.000000    1908.000000   \n",
       "\n",
       "       hospitalized  hospitalizedCumulative  hospitalizedCurrently  \\\n",
       "count   9966.000000             9966.000000           13258.000000   \n",
       "mean    8589.350793             8589.350793            1006.012294   \n",
       "std    15494.633634            15494.633634            1674.042619   \n",
       "min        1.000000                1.000000               0.000000   \n",
       "25%      720.250000              720.250000             145.000000   \n",
       "50%     3272.500000             3272.500000             485.500000   \n",
       "75%    10037.750000            10037.750000            1083.000000   \n",
       "max    89995.000000            89995.000000           18825.000000   \n",
       "\n",
       "       hospitalizedIncrease  inIcuCumulative  inIcuCurrently  ...  \\\n",
       "count          16427.000000      2868.000000     8301.000000  ...   \n",
       "mean              39.195349      1452.472106      319.685098  ...   \n",
       "std              226.412294      1420.254034      515.323747  ...   \n",
       "min            -4124.000000         6.000000        0.000000  ...   \n",
       "25%                0.000000       387.750000       61.000000  ...   \n",
       "50%                0.000000      1013.000000      155.000000  ...   \n",
       "75%               33.000000      1935.000000      332.000000  ...   \n",
       "max            16373.000000      7050.000000     5225.000000  ...   \n",
       "\n",
       "       totalTestResults  totalTestResultsIncrease  totalTestsAntibody  \\\n",
       "count      1.635800e+04              16427.000000         3241.000000   \n",
       "mean       1.311286e+06              14128.145979       127411.668004   \n",
       "std        2.606745e+06              26411.991794       152998.621227   \n",
       "min        0.000000e+00            -194215.000000            5.000000   \n",
       "25%        5.897250e+04                853.500000        14418.000000   \n",
       "50%        3.997145e+05               5002.000000        60293.000000   \n",
       "75%        1.379134e+06              15395.000000       198745.000000   \n",
       "max        2.946517e+07             371222.000000       650372.000000   \n",
       "\n",
       "       totalTestsAntigen  totalTestsPeopleAntibody  totalTestsPeopleAntigen  \\\n",
       "count        1487.000000               1356.000000               614.000000   \n",
       "mean       103354.531944             122769.369469             79489.757329   \n",
       "std        155539.880005             147057.991688             75040.582297   \n",
       "min             2.000000                  1.000000                 3.000000   \n",
       "25%         16981.000000              34292.000000             14213.000000   \n",
       "50%         45253.000000              69859.500000             63003.500000   \n",
       "75%        123242.000000             127372.000000            126981.750000   \n",
       "max        983430.000000             630838.000000            321267.000000   \n",
       "\n",
       "       totalTestsPeopleViral  totalTestsPeopleViralIncrease  totalTestsViral  \\\n",
       "count           7.002000e+03                   1.642700e+04     1.103300e+04   \n",
       "mean            7.094130e+05                   2.699545e+03     1.499615e+06   \n",
       "std             1.013361e+06                   2.500635e+04     2.692379e+06   \n",
       "min             0.000000e+00                  -1.122327e+06     0.000000e+00   \n",
       "25%             1.256398e+05                   0.000000e+00     1.029770e+05   \n",
       "50%             3.273410e+05                   0.000000e+00     5.197770e+05   \n",
       "75%             9.067368e+05                   2.478000e+03     1.693858e+06   \n",
       "max             8.223154e+06                   8.982590e+05     2.946517e+07   \n",
       "\n",
       "       totalTestsViralIncrease  \n",
       "count             1.642700e+04  \n",
       "mean              1.110010e+04  \n",
       "std               3.707658e+04  \n",
       "min              -5.819440e+05  \n",
       "25%               0.000000e+00  \n",
       "50%               1.064000e+03  \n",
       "75%               1.030450e+04  \n",
       "max               2.352923e+06  \n",
       "\n",
       "[8 rows x 39 columns]"
      ]
     },
     "execution_count": 18,
     "metadata": {},
     "output_type": "execute_result"
    }
   ],
   "source": [
    "data2.describe()"
   ]
  },
  {
   "cell_type": "code",
   "execution_count": 19,
   "metadata": {},
   "outputs": [
    {
     "data": {
      "text/plain": [
       "Index(['state', 'dataQualityGrade', 'death', 'deathConfirmed', 'deathIncrease',\n",
       "       'deathProbable', 'hospitalized', 'hospitalizedCumulative',\n",
       "       'hospitalizedCurrently', 'hospitalizedIncrease', 'inIcuCumulative',\n",
       "       'inIcuCurrently', 'negative', 'negativeIncrease',\n",
       "       'negativeTestsAntibody', 'negativeTestsPeopleAntibody',\n",
       "       'negativeTestsViral', 'onVentilatorCumulative', 'onVentilatorCurrently',\n",
       "       'positive', 'positiveCasesViral', 'positiveIncrease', 'positiveScore',\n",
       "       'positiveTestsAntibody', 'positiveTestsAntigen',\n",
       "       'positiveTestsPeopleAntibody', 'positiveTestsPeopleAntigen',\n",
       "       'positiveTestsViral', 'recovered', 'totalTestEncountersViral',\n",
       "       'totalTestEncountersViralIncrease', 'totalTestResults',\n",
       "       'totalTestResultsIncrease', 'totalTestsAntibody', 'totalTestsAntigen',\n",
       "       'totalTestsPeopleAntibody', 'totalTestsPeopleAntigen',\n",
       "       'totalTestsPeopleViral', 'totalTestsPeopleViralIncrease',\n",
       "       'totalTestsViral', 'totalTestsViralIncrease'],\n",
       "      dtype='object')"
      ]
     },
     "execution_count": 19,
     "metadata": {},
     "output_type": "execute_result"
    }
   ],
   "source": [
    "data2.columns"
   ]
  },
  {
   "cell_type": "markdown",
   "metadata": {},
   "source": [
    "A simpler way to see all the columns"
   ]
  },
  {
   "cell_type": "markdown",
   "metadata": {},
   "source": [
    "We will need to delete some columns since some of them have no interest for our work with the main dataset.\n",
    "To identify which one to delete the following link will be used: https://covidtracking.com/about-data/data-definitions\n",
    "\n",
    "The columns deleted will be:"
   ]
  },
  {
   "cell_type": "code",
   "execution_count": 20,
   "metadata": {},
   "outputs": [],
   "source": [
    "data2.drop(['dataQualityGrade','deathConfirmed','deathIncrease','deathProbable','hospitalized','hospitalizedCumulative',\n",
    "       'hospitalizedCurrently', 'hospitalizedIncrease', 'inIcuCumulative',\n",
    "       'inIcuCurrently', 'negative', 'negativeIncrease',\n",
    "       'negativeTestsAntibody', 'negativeTestsPeopleAntibody', 'positiveScore',\n",
    "       'positiveTestsAntibody', 'positiveTestsAntigen','onVentilatorCumulative',\n",
    "       'onVentilatorCurrently', 'positiveCasesViral',\n",
    "       'positiveTestsPeopleAntibody', 'positiveTestsPeopleAntigen',\n",
    "       'positiveTestsViral', 'recovered', 'totalTestEncountersViral',\n",
    "       'totalTestEncountersViralIncrease','totalTestResultsIncrease', 'totalTestsAntibody', 'totalTestsAntigen',\n",
    "       'totalTestsPeopleAntibody', 'totalTestsPeopleAntigen',\n",
    "       'totalTestsPeopleViral', 'totalTestsPeopleViralIncrease',\n",
    "       'totalTestsViral', 'totalTestsViralIncrease'], axis=1, inplace=True)"
   ]
  },
  {
   "cell_type": "markdown",
   "metadata": {},
   "source": [
    "As such, this dataset will be composed of these columns:"
   ]
  },
  {
   "cell_type": "code",
   "execution_count": 21,
   "metadata": {},
   "outputs": [
    {
     "data": {
      "text/plain": [
       "Index(['state', 'death', 'negativeTestsViral', 'positive', 'positiveIncrease',\n",
       "       'totalTestResults'],\n",
       "      dtype='object')"
      ]
     },
     "execution_count": 21,
     "metadata": {},
     "output_type": "execute_result"
    }
   ],
   "source": [
    "data2.columns"
   ]
  },
  {
   "cell_type": "code",
   "execution_count": 22,
   "metadata": {},
   "outputs": [
    {
     "data": {
      "text/plain": [
       "<bound method NDFrame.head of            state   death  negativeTestsViral  positive  positiveIncrease  \\\n",
       "date                                                                       \n",
       "2020-12-20    AK   184.0           1144626.0   42413.0               178   \n",
       "2020-12-20    AL  4389.0                 NaN  322452.0              2548   \n",
       "2020-12-20    AR  3237.0           1769637.0  201650.0              1536   \n",
       "2020-12-20    AS     0.0                 NaN       0.0                 0   \n",
       "2020-12-20    AZ  7971.0                 NaN  453597.0              5366   \n",
       "...          ...     ...                 ...       ...               ...   \n",
       "2020-01-17    WA     NaN                 NaN       0.0                 0   \n",
       "2020-01-16    WA     NaN                 NaN       0.0                 0   \n",
       "2020-01-15    WA     NaN                 NaN       0.0                 0   \n",
       "2020-01-14    WA     NaN                 NaN       0.0                 0   \n",
       "2020-01-13    WA     NaN                 NaN       NaN                 0   \n",
       "\n",
       "            totalTestResults  \n",
       "date                          \n",
       "2020-12-20         1196506.0  \n",
       "2020-12-20         1783890.0  \n",
       "2020-12-20         1940240.0  \n",
       "2020-12-20            2140.0  \n",
       "2020-12-20         4620819.0  \n",
       "...                      ...  \n",
       "2020-01-17               NaN  \n",
       "2020-01-16               NaN  \n",
       "2020-01-15               NaN  \n",
       "2020-01-14               NaN  \n",
       "2020-01-13               NaN  \n",
       "\n",
       "[16427 rows x 6 columns]>"
      ]
     },
     "execution_count": 22,
     "metadata": {},
     "output_type": "execute_result"
    }
   ],
   "source": [
    "data2.head"
   ]
  },
  {
   "cell_type": "markdown",
   "metadata": {},
   "source": [
    "Since the main dataset is grouped in weeks instead of daily results such as this dataset, outside of this notebook, the data was grouped by week, as such, it will be imported as data2_weeks and treated just like the original data2 dataset.\n",
    "\n",
    "We then import it:"
   ]
  },
  {
   "cell_type": "code",
   "execution_count": 23,
   "metadata": {},
   "outputs": [],
   "source": [
    "data2_weeks = pd.read_csv('all-states-history_weeks.csv',sep=',', index_col = 0, na_values = \"na\")"
   ]
  },
  {
   "cell_type": "markdown",
   "metadata": {},
   "source": [
    "Too see the types for each column:"
   ]
  },
  {
   "cell_type": "code",
   "execution_count": 24,
   "metadata": {},
   "outputs": [
    {
     "data": {
      "text/plain": [
       "state                 object\n",
       "death                  int64\n",
       "negativeTestsViral     int64\n",
       "positive               int64\n",
       "positiveIncrease       int64\n",
       "totalTestResults       int64\n",
       "dtype: object"
      ]
     },
     "execution_count": 24,
     "metadata": {},
     "output_type": "execute_result"
    }
   ],
   "source": [
    "data2_weeks.dtypes"
   ]
  },
  {
   "cell_type": "markdown",
   "metadata": {},
   "source": [
    "There is no null value on the state column"
   ]
  },
  {
   "cell_type": "code",
   "execution_count": 25,
   "metadata": {},
   "outputs": [
    {
     "data": {
      "text/plain": [
       "0"
      ]
     },
     "execution_count": 25,
     "metadata": {},
     "output_type": "execute_result"
    }
   ],
   "source": [
    "data2_weeks['state'].isnull().sum().sum()"
   ]
  },
  {
   "cell_type": "markdown",
   "metadata": {},
   "source": [
    "Since the column 'state' is composed of only object type values, we will convert it to integer.\n",
    "To do that, first we create a new column called 'state_cat' that has the same values as 'state' but its type is category."
   ]
  },
  {
   "cell_type": "code",
   "execution_count": 26,
   "metadata": {},
   "outputs": [
    {
     "data": {
      "text/plain": [
       "<bound method NDFrame.head of            state  death  negativeTestsViral  positive  positiveIncrease  \\\n",
       "date                                                                      \n",
       "12/14/2020    AK   1270             7866561    289610              2675   \n",
       "12/14/2020    AL  29752                   0   2173442             26821   \n",
       "12/14/2020    AR  21759            12149477   1361937             15948   \n",
       "12/14/2020    AS      0                   0         0                 0   \n",
       "12/14/2020    AZ  53714                   0   3053384             45155   \n",
       "...          ...    ...                 ...       ...               ...   \n",
       "01/27/2020    MA      0                   0         0                 0   \n",
       "01/27/2020    WA      0                   0        14                 0   \n",
       "01/20/2020    MA      0                   0         0                 0   \n",
       "01/20/2020    WA      0                   0        13                 1   \n",
       "01/13/2020    WA      0                   0         1                 1   \n",
       "\n",
       "            totalTestResults state_cat  \n",
       "date                                    \n",
       "12/14/2020           8221841        AK  \n",
       "12/14/2020          12273763        AL  \n",
       "12/14/2020          13307491        AR  \n",
       "12/14/2020             14980        AS  \n",
       "12/14/2020          31289359        AZ  \n",
       "...                      ...       ...  \n",
       "01/27/2020                26        MA  \n",
       "01/27/2020                 0        WA  \n",
       "01/20/2020                 9        MA  \n",
       "01/20/2020                 0        WA  \n",
       "01/13/2020                 0        WA  \n",
       "\n",
       "[2371 rows x 7 columns]>"
      ]
     },
     "execution_count": 26,
     "metadata": {},
     "output_type": "execute_result"
    }
   ],
   "source": [
    "data2_weeks['state_cat']=data2_weeks['state'].astype('category')\n",
    "data2_weeks.head"
   ]
  },
  {
   "cell_type": "markdown",
   "metadata": {},
   "source": [
    "Then we create a new column called 'state_int' on which we will label encode each state."
   ]
  },
  {
   "cell_type": "code",
   "execution_count": 27,
   "metadata": {},
   "outputs": [
    {
     "data": {
      "text/plain": [
       "<bound method NDFrame.head of            state  death  negativeTestsViral  positive  positiveIncrease  \\\n",
       "date                                                                      \n",
       "12/14/2020    AK   1270             7866561    289610              2675   \n",
       "12/14/2020    AL  29752                   0   2173442             26821   \n",
       "12/14/2020    AR  21759            12149477   1361937             15948   \n",
       "12/14/2020    AS      0                   0         0                 0   \n",
       "12/14/2020    AZ  53714                   0   3053384             45155   \n",
       "...          ...    ...                 ...       ...               ...   \n",
       "01/27/2020    MA      0                   0         0                 0   \n",
       "01/27/2020    WA      0                   0        14                 0   \n",
       "01/20/2020    MA      0                   0         0                 0   \n",
       "01/20/2020    WA      0                   0        13                 1   \n",
       "01/13/2020    WA      0                   0         1                 1   \n",
       "\n",
       "            totalTestResults state_cat  state_int  \n",
       "date                                               \n",
       "12/14/2020           8221841        AK          0  \n",
       "12/14/2020          12273763        AL          1  \n",
       "12/14/2020          13307491        AR          2  \n",
       "12/14/2020             14980        AS          3  \n",
       "12/14/2020          31289359        AZ          4  \n",
       "...                      ...       ...        ...  \n",
       "01/27/2020                26        MA         21  \n",
       "01/27/2020                 0        WA         52  \n",
       "01/20/2020                 9        MA         21  \n",
       "01/20/2020                 0        WA         52  \n",
       "01/13/2020                 0        WA         52  \n",
       "\n",
       "[2371 rows x 8 columns]>"
      ]
     },
     "execution_count": 27,
     "metadata": {},
     "output_type": "execute_result"
    }
   ],
   "source": [
    "data2_weeks['state_int']=data2_weeks['state_cat'].cat.codes\n",
    "data2_weeks.head"
   ]
  },
  {
   "cell_type": "markdown",
   "metadata": {},
   "source": [
    "We can then change every NaN value to 0:"
   ]
  },
  {
   "cell_type": "code",
   "execution_count": 28,
   "metadata": {},
   "outputs": [],
   "source": [
    "data2_weeks = data2_weeks.replace(np.nan, '0', regex=True)"
   ]
  },
  {
   "cell_type": "markdown",
   "metadata": {},
   "source": [
    "We then can create a new data frame with only integer:"
   ]
  },
  {
   "cell_type": "code",
   "execution_count": 29,
   "metadata": {},
   "outputs": [],
   "source": [
    "data2_weeks_int=data2_weeks.filter(['state_int', 'negativeTestsViral', 'positive', 'positiveIncrease','totalTestResults', 'death'],axis=1)"
   ]
  },
  {
   "cell_type": "markdown",
   "metadata": {},
   "source": [
    "We then normalize the values:"
   ]
  },
  {
   "cell_type": "code",
   "execution_count": 30,
   "metadata": {},
   "outputs": [
    {
     "data": {
      "text/plain": [
       "<bound method NDFrame.head of       state_int  negativeTestsViral      positive  positiveIncrease  \\\n",
       "0      0.000000            0.100730  2.408666e-02          0.027053   \n",
       "1      0.018182            0.000000  1.807636e-01          0.105358   \n",
       "2      0.036364            0.155572  1.132713e-01          0.070097   \n",
       "3      0.054545            0.000000  0.000000e+00          0.018378   \n",
       "4      0.072727            0.000000  2.539478e-01          0.164815   \n",
       "...         ...                 ...           ...               ...   \n",
       "2366   0.381818            0.000000  0.000000e+00          0.018378   \n",
       "2367   0.945455            0.000000  1.164370e-06          0.018378   \n",
       "2368   0.381818            0.000000  0.000000e+00          0.018378   \n",
       "2369   0.945455            0.000000  1.081201e-06          0.018381   \n",
       "2370   0.945455            0.000000  8.316929e-08          0.018381   \n",
       "\n",
       "      totalTestResults     death  \n",
       "0         4.124914e-02  0.006427  \n",
       "1         6.157772e-02  0.150559  \n",
       "2         6.676395e-02  0.110111  \n",
       "3         7.515496e-05  0.000000  \n",
       "4         1.569793e-01  0.271818  \n",
       "...                ...       ...  \n",
       "2366      1.304425e-07  0.000000  \n",
       "2367      0.000000e+00  0.000000  \n",
       "2368      4.515318e-08  0.000000  \n",
       "2369      0.000000e+00  0.000000  \n",
       "2370      0.000000e+00  0.000000  \n",
       "\n",
       "[2371 rows x 6 columns]>"
      ]
     },
     "execution_count": 30,
     "metadata": {},
     "output_type": "execute_result"
    }
   ],
   "source": [
    "scaler = MinMaxScaler()\n",
    "data2_weeks_norm = pd.DataFrame(scaler.fit_transform(data2_weeks_int), columns=data2_weeks_int.columns)\n",
    "data2_weeks_norm.head"
   ]
  },
  {
   "cell_type": "markdown",
   "metadata": {},
   "source": [
    "Now we will create the X and y datasets for both the train and test:"
   ]
  },
  {
   "cell_type": "code",
   "execution_count": 32,
   "metadata": {},
   "outputs": [],
   "source": [
    "X=data2_weeks_norm.filter(['state_int', 'positive', 'positiveIncrease'],axis=1)\n",
    "y=data2_weeks_norm['death']"
   ]
  },
  {
   "cell_type": "code",
   "execution_count": 33,
   "metadata": {},
   "outputs": [],
   "source": [
    "X_train, X_test, y_train, y_test = train_test_split(X, y, test_size= 0.3)"
   ]
  },
  {
   "cell_type": "code",
   "execution_count": 22,
   "metadata": {},
   "outputs": [
    {
     "data": {
      "text/plain": [
       "<bound method NDFrame.head of 1836    0.010855\n",
       "1104    0.012130\n",
       "584     0.254542\n",
       "550     0.100936\n",
       "1492    0.017292\n",
       "          ...   \n",
       "2338    0.000734\n",
       "340     0.215414\n",
       "2252    0.000000\n",
       "1582    0.020546\n",
       "2039    0.000541\n",
       "Name: death, Length: 1659, dtype: float64>"
      ]
     },
     "execution_count": 22,
     "metadata": {},
     "output_type": "execute_result"
    }
   ],
   "source": [
    "y_train.head"
   ]
  },
  {
   "cell_type": "markdown",
   "metadata": {},
   "source": [
    "We will create a regression model:"
   ]
  },
  {
   "cell_type": "code",
   "execution_count": 23,
   "metadata": {},
   "outputs": [
    {
     "name": "stdout",
     "output_type": "stream",
     "text": [
      "LinearRegression()\n",
      "0.6778174779878183\n"
     ]
    }
   ],
   "source": [
    "regr_model = linear_model.LinearRegression()\n",
    "regr_model = regr_model.fit(X_train, y_train)\n",
    "score=regr_model.score(X_test,y_test)\n",
    "print(regr_model)\n",
    "\n",
    "print(score)\n"
   ]
  },
  {
   "cell_type": "code",
   "execution_count": 24,
   "metadata": {},
   "outputs": [
    {
     "data": {
      "text/plain": [
       "array([0.5602119 , 0.67290294, 0.55497907, 0.27891648])"
      ]
     },
     "execution_count": 24,
     "metadata": {},
     "output_type": "execute_result"
    }
   ],
   "source": [
    "scores=cross_val_score(regr_model, X,y,cv=4)\n",
    "scores"
   ]
  },
  {
   "cell_type": "code",
   "execution_count": 25,
   "metadata": {},
   "outputs": [
    {
     "name": "stdout",
     "output_type": "stream",
     "text": [
      "0.52 accuracy with a standard deviation of 0.15\n"
     ]
    }
   ],
   "source": [
    "print(\"%0.2f accuracy with a standard deviation of %0.2f\" % (scores.mean(), scores.std()))"
   ]
  },
  {
   "cell_type": "markdown",
   "metadata": {},
   "source": [
    "As seen with cross validation, the model has 52% accuracy."
   ]
  },
  {
   "cell_type": "markdown",
   "metadata": {},
   "source": [
    "We will create a Support Vector Regression (SVR):"
   ]
  },
  {
   "cell_type": "code",
   "execution_count": 26,
   "metadata": {},
   "outputs": [
    {
     "name": "stdout",
     "output_type": "stream",
     "text": [
      "0.7874135797901639\n",
      "0.7384460564275626\n"
     ]
    }
   ],
   "source": [
    "svr = SVR()\n",
    "svr.fit(X_train, y_train)\n",
    "prev = svr.predict(X_test)\n",
    "print(svr.score(X_train, y_train))\n",
    "print(svr.score(X_test, y_test))"
   ]
  },
  {
   "cell_type": "markdown",
   "metadata": {},
   "source": [
    "As seen, the model has a test score of 0.758 ."
   ]
  },
  {
   "cell_type": "markdown",
   "metadata": {},
   "source": [
    "We will now join both datasets but after we ponder about it, it was decided that we will join the whole secondary dataset and as such we will need to transform all columns to weekly."
   ]
  },
  {
   "cell_type": "code",
   "execution_count": 68,
   "metadata": {
    "scrolled": true
   },
   "outputs": [
    {
     "data": {
      "text/plain": [
       "<bound method NDFrame.head of            state  death  deathConfirmed  deathIncrease  deathProbable  \\\n",
       "date                                                                    \n",
       "12/14/2020    AK    184             184              8              0   \n",
       "12/14/2020    AL   4389            3849            287            540   \n",
       "12/14/2020    AR   3237            2842            292            395   \n",
       "12/14/2020    AS      0               0              0              0   \n",
       "12/14/2020    AZ   7971            7277            614            694   \n",
       "...          ...    ...             ...            ...            ...   \n",
       "01/27/2020    MA      0               0              0              0   \n",
       "01/27/2020    WA      0               0              0              0   \n",
       "01/20/2020    MA      0               0              0              0   \n",
       "01/20/2020    WA      0               0              0              0   \n",
       "01/13/2020    WA      0               0              0              0   \n",
       "\n",
       "            hospitalized  hospitalizedCumulative  hospitalizedCurrently  \\\n",
       "date                                                                      \n",
       "12/14/2020           935                     935                    127   \n",
       "12/14/2020         30224                   30224                   2337   \n",
       "12/14/2020         10502                   10502                   1061   \n",
       "12/14/2020             0                       0                      0   \n",
       "12/14/2020         33037                   33037                   3899   \n",
       "...                  ...                     ...                    ...   \n",
       "01/27/2020             0                       0                      0   \n",
       "01/27/2020             0                       0                      0   \n",
       "01/20/2020             0                       0                      0   \n",
       "01/20/2020             0                       0                      0   \n",
       "01/13/2020             0                       0                      0   \n",
       "\n",
       "            hospitalizedIncrease  inIcuCumulative  ...  totalTestResults  \\\n",
       "date                                               ...                     \n",
       "12/14/2020                    49                0  ...           1196506   \n",
       "12/14/2020                  2078             2390  ...           1783890   \n",
       "12/14/2020                   575                0  ...           1940240   \n",
       "12/14/2020                     0                0  ...              2140   \n",
       "12/14/2020                  2088                0  ...           4620819   \n",
       "...                          ...              ...  ...               ...   \n",
       "01/27/2020                     0                0  ...                 4   \n",
       "01/27/2020                     0                0  ...                 0   \n",
       "01/20/2020                     0                0  ...                 2   \n",
       "01/20/2020                     0                0  ...                 0   \n",
       "01/13/2020                     0                0  ...                 0   \n",
       "\n",
       "            totalTestResultsIncrease  totalTestsAntibody  totalTestsAntigen  \\\n",
       "date                                                                          \n",
       "12/14/2020                     53408                   0                  0   \n",
       "12/14/2020                     87451                   0                  0   \n",
       "12/14/2020                     84536                   0              21856   \n",
       "12/14/2020                         0                   0                  0   \n",
       "12/14/2020                    314931              383896                  0   \n",
       "...                              ...                 ...                ...   \n",
       "01/27/2020                         2                   0                  0   \n",
       "01/27/2020                         0                   0                  0   \n",
       "01/20/2020                         0                   0                  0   \n",
       "01/20/2020                         0                   0                  0   \n",
       "01/13/2020                         0                   0                  0   \n",
       "\n",
       "            totalTestsPeopleAntibody  totalTestsPeopleAntigen  \\\n",
       "date                                                            \n",
       "12/14/2020                         0                        0   \n",
       "12/14/2020                     82020                        0   \n",
       "12/14/2020                         0                   205000   \n",
       "12/14/2020                         0                        0   \n",
       "12/14/2020                         0                        0   \n",
       "...                              ...                      ...   \n",
       "01/27/2020                         0                        0   \n",
       "01/27/2020                         0                        0   \n",
       "01/20/2020                         0                        0   \n",
       "01/20/2020                         0                        0   \n",
       "01/13/2020                         0                        0   \n",
       "\n",
       "            totalTestsPeopleViral  totalTestsPeopleViralIncrease  \\\n",
       "date                                                               \n",
       "12/14/2020                      0                              0   \n",
       "12/14/2020                1783890                          87451   \n",
       "12/14/2020                      0                              0   \n",
       "12/14/2020                      0                              0   \n",
       "12/14/2020                2648988                         136292   \n",
       "...                           ...                            ...   \n",
       "01/27/2020                      0                              0   \n",
       "01/27/2020                      0                              0   \n",
       "01/20/2020                      0                              0   \n",
       "01/20/2020                      0                              0   \n",
       "01/13/2020                      0                              0   \n",
       "\n",
       "            totalTestsViral  totalTestsViralIncrease  \n",
       "date                                                  \n",
       "12/14/2020          1196506                    53408  \n",
       "12/14/2020                0                        0  \n",
       "12/14/2020          1940240                    84536  \n",
       "12/14/2020             2140                        0  \n",
       "12/14/2020          4620819                   314931  \n",
       "...                     ...                      ...  \n",
       "01/27/2020                4                        2  \n",
       "01/27/2020                0                        0  \n",
       "01/20/2020                2                        0  \n",
       "01/20/2020                0                        0  \n",
       "01/13/2020                0                        0  \n",
       "\n",
       "[2371 rows x 40 columns]>"
      ]
     },
     "execution_count": 68,
     "metadata": {},
     "output_type": "execute_result"
    }
   ],
   "source": [
    "data2_final = pd.read_csv('all-states-history_final.csv',sep=',', index_col = 0, na_values = \"na\")\n",
    "data2_final.head"
   ]
  },
  {
   "cell_type": "code",
   "execution_count": 69,
   "metadata": {},
   "outputs": [
    {
     "data": {
      "text/plain": [
       "<bound method NDFrame.head of            state  death  deathConfirmed  deathIncrease  deathProbable  \\\n",
       "date                                                                    \n",
       "01/13/2020    WA      0               0              0              0   \n",
       "01/20/2020    WA      0               0              0              0   \n",
       "01/20/2020    MA      0               0              0              0   \n",
       "01/27/2020    WA      0               0              0              0   \n",
       "01/27/2020    MA      0               0              0              0   \n",
       "...          ...    ...             ...            ...            ...   \n",
       "12/14/2020    AZ   7971            7277            614            694   \n",
       "12/14/2020    AS      0               0              0              0   \n",
       "12/14/2020    AR   3237            2842            292            395   \n",
       "12/14/2020    AL   4389            3849            287            540   \n",
       "12/14/2020    AK    184             184              8              0   \n",
       "\n",
       "            hospitalized  hospitalizedCumulative  hospitalizedCurrently  \\\n",
       "date                                                                      \n",
       "01/13/2020             0                       0                      0   \n",
       "01/20/2020             0                       0                      0   \n",
       "01/20/2020             0                       0                      0   \n",
       "01/27/2020             0                       0                      0   \n",
       "01/27/2020             0                       0                      0   \n",
       "...                  ...                     ...                    ...   \n",
       "12/14/2020         33037                   33037                   3899   \n",
       "12/14/2020             0                       0                      0   \n",
       "12/14/2020         10502                   10502                   1061   \n",
       "12/14/2020         30224                   30224                   2337   \n",
       "12/14/2020           935                     935                    127   \n",
       "\n",
       "            hospitalizedIncrease  inIcuCumulative  ...  totalTestResults  \\\n",
       "date                                               ...                     \n",
       "01/13/2020                     0                0  ...                 0   \n",
       "01/20/2020                     0                0  ...                 0   \n",
       "01/20/2020                     0                0  ...                 2   \n",
       "01/27/2020                     0                0  ...                 0   \n",
       "01/27/2020                     0                0  ...                 4   \n",
       "...                          ...              ...  ...               ...   \n",
       "12/14/2020                  2088                0  ...           4620819   \n",
       "12/14/2020                     0                0  ...              2140   \n",
       "12/14/2020                   575                0  ...           1940240   \n",
       "12/14/2020                  2078             2390  ...           1783890   \n",
       "12/14/2020                    49                0  ...           1196506   \n",
       "\n",
       "            totalTestResultsIncrease  totalTestsAntibody  totalTestsAntigen  \\\n",
       "date                                                                          \n",
       "01/13/2020                         0                   0                  0   \n",
       "01/20/2020                         0                   0                  0   \n",
       "01/20/2020                         0                   0                  0   \n",
       "01/27/2020                         0                   0                  0   \n",
       "01/27/2020                         2                   0                  0   \n",
       "...                              ...                 ...                ...   \n",
       "12/14/2020                    314931              383896                  0   \n",
       "12/14/2020                         0                   0                  0   \n",
       "12/14/2020                     84536                   0              21856   \n",
       "12/14/2020                     87451                   0                  0   \n",
       "12/14/2020                     53408                   0                  0   \n",
       "\n",
       "            totalTestsPeopleAntibody  totalTestsPeopleAntigen  \\\n",
       "date                                                            \n",
       "01/13/2020                         0                        0   \n",
       "01/20/2020                         0                        0   \n",
       "01/20/2020                         0                        0   \n",
       "01/27/2020                         0                        0   \n",
       "01/27/2020                         0                        0   \n",
       "...                              ...                      ...   \n",
       "12/14/2020                         0                        0   \n",
       "12/14/2020                         0                        0   \n",
       "12/14/2020                         0                   205000   \n",
       "12/14/2020                     82020                        0   \n",
       "12/14/2020                         0                        0   \n",
       "\n",
       "            totalTestsPeopleViral  totalTestsPeopleViralIncrease  \\\n",
       "date                                                               \n",
       "01/13/2020                      0                              0   \n",
       "01/20/2020                      0                              0   \n",
       "01/20/2020                      0                              0   \n",
       "01/27/2020                      0                              0   \n",
       "01/27/2020                      0                              0   \n",
       "...                           ...                            ...   \n",
       "12/14/2020                2648988                         136292   \n",
       "12/14/2020                      0                              0   \n",
       "12/14/2020                      0                              0   \n",
       "12/14/2020                1783890                          87451   \n",
       "12/14/2020                      0                              0   \n",
       "\n",
       "            totalTestsViral  totalTestsViralIncrease  \n",
       "date                                                  \n",
       "01/13/2020                0                        0  \n",
       "01/20/2020                0                        0  \n",
       "01/20/2020                2                        0  \n",
       "01/27/2020                0                        0  \n",
       "01/27/2020                4                        2  \n",
       "...                     ...                      ...  \n",
       "12/14/2020          4620819                   314931  \n",
       "12/14/2020             2140                        0  \n",
       "12/14/2020          1940240                    84536  \n",
       "12/14/2020                0                        0  \n",
       "12/14/2020          1196506                    53408  \n",
       "\n",
       "[2371 rows x 40 columns]>"
      ]
     },
     "execution_count": 69,
     "metadata": {},
     "output_type": "execute_result"
    }
   ],
   "source": [
    "data2_final = data2_final.iloc[::-1]\n",
    "data2_final.head"
   ]
  },
  {
   "cell_type": "code",
   "execution_count": 70,
   "metadata": {},
   "outputs": [
    {
     "data": {
      "text/plain": [
       "<bound method NDFrame.head of            state  death  deathConfirmed  deathIncrease  deathProbable  \\\n",
       "01/13/2020    WA    0.0             0.0            0.0            0.0   \n",
       "01/20/2020    WA    0.0             0.0            0.0            0.0   \n",
       "01/20/2020    MA    0.0             0.0            0.0            0.0   \n",
       "01/27/2020    WA    0.0             0.0            0.0            0.0   \n",
       "01/27/2020    MA    0.0             0.0            0.0            0.0   \n",
       "...          ...    ...             ...            ...            ...   \n",
       "11/25/2020   NaN    NaN             NaN            NaN            NaN   \n",
       "11/25/2020   NaN    NaN             NaN            NaN            NaN   \n",
       "11/25/2020   NaN    NaN             NaN            NaN            NaN   \n",
       "11/25/2020   NaN    NaN             NaN            NaN            NaN   \n",
       "11/25/2020   NaN    NaN             NaN            NaN            NaN   \n",
       "\n",
       "            hospitalized  hospitalizedCumulative  hospitalizedCurrently  \\\n",
       "01/13/2020           0.0                     0.0                    0.0   \n",
       "01/20/2020           0.0                     0.0                    0.0   \n",
       "01/20/2020           0.0                     0.0                    0.0   \n",
       "01/27/2020           0.0                     0.0                    0.0   \n",
       "01/27/2020           0.0                     0.0                    0.0   \n",
       "...                  ...                     ...                    ...   \n",
       "11/25/2020           NaN                     NaN                    NaN   \n",
       "11/25/2020           NaN                     NaN                    NaN   \n",
       "11/25/2020           NaN                     NaN                    NaN   \n",
       "11/25/2020           NaN                     NaN                    NaN   \n",
       "11/25/2020           NaN                     NaN                    NaN   \n",
       "\n",
       "            hospitalizedIncrease  inIcuCumulative  ...  totalTestsPeopleViral  \\\n",
       "01/13/2020                   0.0              0.0  ...                    0.0   \n",
       "01/20/2020                   0.0              0.0  ...                    0.0   \n",
       "01/20/2020                   0.0              0.0  ...                    0.0   \n",
       "01/27/2020                   0.0              0.0  ...                    0.0   \n",
       "01/27/2020                   0.0              0.0  ...                    0.0   \n",
       "...                          ...              ...  ...                    ...   \n",
       "11/25/2020                   NaN              NaN  ...                    NaN   \n",
       "11/25/2020                   NaN              NaN  ...                    NaN   \n",
       "11/25/2020                   NaN              NaN  ...                    NaN   \n",
       "11/25/2020                   NaN              NaN  ...                    NaN   \n",
       "11/25/2020                   NaN              NaN  ...                    NaN   \n",
       "\n",
       "            totalTestsPeopleViralIncrease  totalTestsViral  \\\n",
       "01/13/2020                            0.0              0.0   \n",
       "01/20/2020                            0.0              0.0   \n",
       "01/20/2020                            0.0              2.0   \n",
       "01/27/2020                            0.0              0.0   \n",
       "01/27/2020                            0.0              4.0   \n",
       "...                                   ...              ...   \n",
       "11/25/2020                            NaN              NaN   \n",
       "11/25/2020                            NaN              NaN   \n",
       "11/25/2020                            NaN              NaN   \n",
       "11/25/2020                            NaN              NaN   \n",
       "11/25/2020                            NaN              NaN   \n",
       "\n",
       "            totalTestsViralIncrease  Start Week   Jurisdiction  Age Group  \\\n",
       "01/13/2020                      0.0         NaN            NaN        NaN   \n",
       "01/20/2020                      0.0         NaN            NaN        NaN   \n",
       "01/20/2020                      0.0         NaN            NaN        NaN   \n",
       "01/27/2020                      0.0         NaN            NaN        NaN   \n",
       "01/27/2020                      2.0         NaN            NaN        NaN   \n",
       "...                             ...         ...            ...        ...   \n",
       "11/25/2020                      NaN  11/21/2020   HHS Region 6   All Ages   \n",
       "11/25/2020                      NaN  11/21/2020   HHS Region 7   All Ages   \n",
       "11/25/2020                      NaN  11/21/2020   HHS Region 8   All Ages   \n",
       "11/25/2020                      NaN  11/21/2020   HHS Region 9   All Ages   \n",
       "11/25/2020                      NaN  11/21/2020  HHS Region 10   All Ages   \n",
       "\n",
       "            COVID-19 Deaths  Pneumonia Deaths  Influenza Deaths  \n",
       "01/13/2020              NaN               NaN               NaN  \n",
       "01/20/2020              NaN               NaN               NaN  \n",
       "01/20/2020              NaN               NaN               NaN  \n",
       "01/27/2020              NaN               NaN               NaN  \n",
       "01/27/2020              NaN               NaN               NaN  \n",
       "...                     ...               ...               ...  \n",
       "11/25/2020             93.0             107.0               0.0  \n",
       "11/25/2020            138.0              96.0               0.0  \n",
       "11/25/2020             31.0              31.0               0.0  \n",
       "11/25/2020             71.0             182.0               NaN  \n",
       "11/25/2020             28.0              47.0               0.0  \n",
       "\n",
       "[5080 rows x 46 columns]>"
      ]
     },
     "execution_count": 70,
     "metadata": {},
     "output_type": "execute_result"
    }
   ],
   "source": [
    "data_final = data2_final.append(data_age)\n",
    "data_final.head"
   ]
  },
  {
   "cell_type": "code",
   "execution_count": 71,
   "metadata": {},
   "outputs": [
    {
     "data": {
      "text/plain": [
       "Index(['state', 'death', 'deathConfirmed', 'deathIncrease', 'deathProbable',\n",
       "       'hospitalized', 'hospitalizedCumulative', 'hospitalizedCurrently',\n",
       "       'hospitalizedIncrease', 'inIcuCumulative', 'inIcuCurrently', 'negative',\n",
       "       'negativeIncrease', 'negativeTestsAntibody',\n",
       "       'negativeTestsPeopleAntibody', 'negativeTestsViral',\n",
       "       'onVentilatorCumulative', 'onVentilatorCurrently', 'positive',\n",
       "       'positiveCasesViral', 'positiveIncrease', 'positiveScore',\n",
       "       'positiveTestsAntibody', 'positiveTestsAntigen',\n",
       "       'positiveTestsPeopleAntibody', 'positiveTestsPeopleAntigen',\n",
       "       'positiveTestsViral', 'recovered', 'totalTestEncountersViral',\n",
       "       'totalTestEncountersViralIncrease', 'totalTestResults',\n",
       "       'totalTestResultsIncrease', 'totalTestsAntibody', 'totalTestsAntigen',\n",
       "       'totalTestsPeopleAntibody', 'totalTestsPeopleAntigen',\n",
       "       'totalTestsPeopleViral', 'totalTestsPeopleViralIncrease',\n",
       "       'totalTestsViral', 'totalTestsViralIncrease', 'Start Week',\n",
       "       'Jurisdiction', 'Age Group', 'COVID-19 Deaths', 'Pneumonia Deaths',\n",
       "       'Influenza Deaths'],\n",
       "      dtype='object')"
      ]
     },
     "execution_count": 71,
     "metadata": {},
     "output_type": "execute_result"
    }
   ],
   "source": [
    "data_final.columns"
   ]
  },
  {
   "cell_type": "code",
   "execution_count": 72,
   "metadata": {},
   "outputs": [
    {
     "data": {
      "text/plain": [
       "<bound method NDFrame.head of              Jurisdiction  death  Pneumonia Deaths  Influenza Deaths  \\\n",
       "01/13/2020            NaN    0.0               NaN               NaN   \n",
       "01/20/2020            NaN    0.0               NaN               NaN   \n",
       "01/20/2020            NaN    0.0               NaN               NaN   \n",
       "01/27/2020            NaN    0.0               NaN               NaN   \n",
       "01/27/2020            NaN    0.0               NaN               NaN   \n",
       "...                   ...    ...               ...               ...   \n",
       "11/25/2020   HHS Region 6    NaN             107.0               0.0   \n",
       "11/25/2020   HHS Region 7    NaN              96.0               0.0   \n",
       "11/25/2020   HHS Region 8    NaN              31.0               0.0   \n",
       "11/25/2020   HHS Region 9    NaN             182.0               NaN   \n",
       "11/25/2020  HHS Region 10    NaN              47.0               0.0   \n",
       "\n",
       "            hospitalized  hospitalizedCumulative  hospitalizedCurrently  \\\n",
       "01/13/2020           0.0                     0.0                    0.0   \n",
       "01/20/2020           0.0                     0.0                    0.0   \n",
       "01/20/2020           0.0                     0.0                    0.0   \n",
       "01/27/2020           0.0                     0.0                    0.0   \n",
       "01/27/2020           0.0                     0.0                    0.0   \n",
       "...                  ...                     ...                    ...   \n",
       "11/25/2020           NaN                     NaN                    NaN   \n",
       "11/25/2020           NaN                     NaN                    NaN   \n",
       "11/25/2020           NaN                     NaN                    NaN   \n",
       "11/25/2020           NaN                     NaN                    NaN   \n",
       "11/25/2020           NaN                     NaN                    NaN   \n",
       "\n",
       "            hospitalizedIncrease  \n",
       "01/13/2020                   0.0  \n",
       "01/20/2020                   0.0  \n",
       "01/20/2020                   0.0  \n",
       "01/27/2020                   0.0  \n",
       "01/27/2020                   0.0  \n",
       "...                          ...  \n",
       "11/25/2020                   NaN  \n",
       "11/25/2020                   NaN  \n",
       "11/25/2020                   NaN  \n",
       "11/25/2020                   NaN  \n",
       "11/25/2020                   NaN  \n",
       "\n",
       "[5080 rows x 8 columns]>"
      ]
     },
     "execution_count": 72,
     "metadata": {},
     "output_type": "execute_result"
    }
   ],
   "source": [
    "data_final_model=data_final.filter(['Jurisdiction','death', \n",
    "                                    'Pneumonia Deaths', 'Influenza Deaths','hospitalized', 'hospitalizedCumulative', 'hospitalizedCurrently',\n",
    "                                    'hospitalizedIncrease'])\n",
    "data_final_model.head"
   ]
  },
  {
   "cell_type": "code",
   "execution_count": 73,
   "metadata": {},
   "outputs": [
    {
     "data": {
      "text/plain": [
       "Index(['Jurisdiction_int', 'death', 'Pneumonia Deaths', 'Influenza Deaths',\n",
       "       'hospitalized', 'hospitalizedCumulative', 'hospitalizedCurrently',\n",
       "       'hospitalizedIncrease'],\n",
       "      dtype='object')"
      ]
     },
     "execution_count": 73,
     "metadata": {},
     "output_type": "execute_result"
    }
   ],
   "source": [
    "data_final_model['Jurisdiction_cat']=data_final_model['Jurisdiction'].astype('category')\n",
    "data_final_model['Jurisdiction_int']=data_final_model['Jurisdiction_cat'].cat.codes\n",
    "data_final_model=data_final_model.filter(['Jurisdiction_int','death', \n",
    "                                    'Pneumonia Deaths', 'Influenza Deaths','hospitalized', 'hospitalizedCumulative', 'hospitalizedCurrently',\n",
    "                                    'hospitalizedIncrease'])\n",
    "data_final_model.columns"
   ]
  },
  {
   "cell_type": "markdown",
   "metadata": {},
   "source": [
    "The diseases columns were starting at the wrong rows so we have to move them:"
   ]
  },
  {
   "cell_type": "code",
   "execution_count": 74,
   "metadata": {},
   "outputs": [],
   "source": [
    "data_final_model['Pneumonia Deaths'] = data_final_model['Pneumonia Deaths'].shift(-2371)\n",
    "data_final_model['Influenza Deaths'] = data_final_model['Influenza Deaths'].shift(-2371)\n",
    "data_final_model['Jurisdiction_int'] = data_final_model['Jurisdiction_int'].shift(-2371)"
   ]
  },
  {
   "cell_type": "code",
   "execution_count": 75,
   "metadata": {},
   "outputs": [
    {
     "data": {
      "text/plain": [
       "0"
      ]
     },
     "execution_count": 75,
     "metadata": {},
     "output_type": "execute_result"
    }
   ],
   "source": [
    "#data_final_model = data_final_model.replace(np.nan, '-1', regex=True)\n",
    "data_final_model=data_final_model.dropna()\n",
    "data_final_model.isnull().sum().sum()"
   ]
  },
  {
   "cell_type": "code",
   "execution_count": 77,
   "metadata": {},
   "outputs": [
    {
     "data": {
      "text/plain": [
       "<bound method NDFrame.head of       Jurisdiction_int     death  Pneumonia Deaths  Influenza Deaths  \\\n",
       "0             0.887097  0.000000          0.317658          0.732416   \n",
       "1             0.000000  0.000000          0.004594          0.024465   \n",
       "2             0.032258  0.000000          0.005931          0.018349   \n",
       "3             0.064516  0.000000          0.035583          0.090214   \n",
       "4             0.096774  0.000000          0.003508          0.016820   \n",
       "...                ...       ...               ...               ...   \n",
       "1477          0.661290  0.200864          0.002589          0.000000   \n",
       "1478          0.693548  0.813137          0.000000          0.000000   \n",
       "1479          0.725806  0.000000          0.003007          0.000000   \n",
       "1480          0.741935  0.116502          0.014200          0.000000   \n",
       "1481          0.774194  0.006622          0.003091          0.000000   \n",
       "\n",
       "      hospitalized  hospitalizedCumulative  hospitalizedCurrently  \\\n",
       "0         0.000000                0.000000               0.000000   \n",
       "1         0.000000                0.000000               0.000000   \n",
       "2         0.000000                0.000000               0.000000   \n",
       "3         0.000000                0.000000               0.000000   \n",
       "4         0.000000                0.000000               0.000000   \n",
       "...            ...                     ...                    ...   \n",
       "1477      0.136196                0.136196               0.065746   \n",
       "1478      0.000000                0.000000               1.000000   \n",
       "1479      0.000000                0.000000               0.000000   \n",
       "1480      0.116695                0.116695               0.059775   \n",
       "1481      0.010389                0.010389               0.007155   \n",
       "\n",
       "      hospitalizedIncrease  \n",
       "0                 0.130232  \n",
       "1                 0.130232  \n",
       "2                 0.130232  \n",
       "3                 0.130232  \n",
       "4                 0.130232  \n",
       "...                    ...  \n",
       "1477              0.130232  \n",
       "1478              0.130232  \n",
       "1479              0.130232  \n",
       "1480              0.166922  \n",
       "1481              0.133359  \n",
       "\n",
       "[1482 rows x 8 columns]>"
      ]
     },
     "execution_count": 77,
     "metadata": {},
     "output_type": "execute_result"
    }
   ],
   "source": [
    "scaler = MinMaxScaler()\n",
    "data_final_model_norm = pd.DataFrame(scaler.fit_transform(data_final_model), columns=data_final_model.columns)\n",
    "data_final_model_norm.head"
   ]
  },
  {
   "cell_type": "code",
   "execution_count": 92,
   "metadata": {},
   "outputs": [],
   "source": [
    "X=data_final_model_norm.filter(['Jurisdiction_int', 'hospitalized', 'hospitalizedCumulative',\n",
    "       'hospitalizedCurrently', 'hospitalizedIncrease'],axis=1)\n",
    "y=data_final_model_norm.filter(['death'])"
   ]
  },
  {
   "cell_type": "code",
   "execution_count": 93,
   "metadata": {},
   "outputs": [],
   "source": [
    "X_train, X_test, y_train, y_test = train_test_split(X, y, test_size= 0.3)"
   ]
  },
  {
   "cell_type": "code",
   "execution_count": 94,
   "metadata": {},
   "outputs": [
    {
     "name": "stdout",
     "output_type": "stream",
     "text": [
      "LinearRegression()\n",
      "0.7141437107903638\n"
     ]
    }
   ],
   "source": [
    "regr_model = linear_model.LinearRegression()\n",
    "regr_model = regr_model.fit(X_train, y_train)\n",
    "score=regr_model.score(X_test,y_test)\n",
    "print(regr_model)\n",
    "\n",
    "print(score)"
   ]
  },
  {
   "cell_type": "code",
   "execution_count": 97,
   "metadata": {},
   "outputs": [
    {
     "data": {
      "text/plain": [
       "array([0.27371409, 0.47852731, 0.68536116, 0.5187912 , 0.74920273])"
      ]
     },
     "execution_count": 97,
     "metadata": {},
     "output_type": "execute_result"
    }
   ],
   "source": [
    "from sklearn.model_selection import cross_val_score\n",
    "\n",
    "scores=cross_val_score(regr_model, X,y,cv=5)\n",
    "scores"
   ]
  },
  {
   "cell_type": "code",
   "execution_count": 98,
   "metadata": {},
   "outputs": [
    {
     "name": "stdout",
     "output_type": "stream",
     "text": [
      "0.54 accuracy with a standard deviation of 0.17\n"
     ]
    }
   ],
   "source": [
    "print(\"%0.2f accuracy with a standard deviation of %0.2f\" % (scores.mean(), scores.std()))"
   ]
  },
  {
   "cell_type": "code",
   "execution_count": 80,
   "metadata": {},
   "outputs": [
    {
     "data": {
      "text/plain": [
       "(3556, 1)"
      ]
     },
     "execution_count": 80,
     "metadata": {},
     "output_type": "execute_result"
    }
   ],
   "source": [
    "y_train.shape"
   ]
  },
  {
   "cell_type": "markdown",
   "metadata": {},
   "source": [
    "### References\n",
    "[1] Lalmuanawma, S., Hussain, J., & Chhakchhuak, L. (2020). Applications of machine learning and artificial intelligence for Covid-19 (SARS-CoV-2) pandemic: A review. Chaos, Solitons & Fractals, 110059."
   ]
  }
 ],
 "metadata": {
  "kernelspec": {
   "display_name": "Python 3",
   "language": "python",
   "name": "python3"
  },
  "language_info": {
   "codemirror_mode": {
    "name": "ipython",
    "version": 3
   },
   "file_extension": ".py",
   "mimetype": "text/x-python",
   "name": "python",
   "nbconvert_exporter": "python",
   "pygments_lexer": "ipython3",
   "version": "3.6.12"
  }
 },
 "nbformat": 4,
 "nbformat_minor": 4
}
