{
 "cells": [
  {
   "cell_type": "markdown",
   "metadata": {},
   "source": [
    "# DataScience4Covid\n",
    "\n",
    "## Work made by: Francisco Pereira, Gil Afonso, Miguel Dias, Samuel Alves\n",
    "\n",
    "This work is part of a task with the intention to use Machine Learning on Covid-19 datasets.\n",
    "\n",
    "### Introduction\n",
    " Covid-19 is a respiratory disease caused by a new strain of SARS (Severe Acute Respiratory Syndrome) coronavirus that is currently sweeping through the world making a huge impact on the livelihood of most people. Due to its relatively high infectivity and the fact that symptoms of this disease take a long time to be manifested, special measures had to be taken everywhere which include using face masks, washing everything with sanitized alcohol, practicing social distancing and even more drastic measures like putting an entire country in lockdown. The arrival of this new disease has had terrible consequences on the economy of many countries, since the virus started spreading to the rest of the world around March 2020 many establishments have struggled to stay in business and all social events have been prohibited by the government.\n",
    " \n",
    " Due to the aforementioned measures taken there is a growing number of people that don not believe the negative effects that a disease like this has on the mortality rate using the argument that it is just the flu because the symptoms of this disease are similar to an influenza virus infection. However, this is a statement that has little scientific basis, and using machine learning algorithms it is possible to predict how the mortality rate will vary using data that has already been recorded [1].\n",
    " \n",
    " The main goal of this work is to prove that the coronavirus is a disease that can have serious consequences in rising mortality rate and that it is not just a typical flu infectious disease.\n",
    " \n",
    " This analysis consists in using 2 datasets: the main one which has data for every state in the USA containing the number of deaths by Covid-19, Influenza and Pneumonia with their age group and week and a second one that has more information about deaths of Covid-19.\n",
    " \n",
    " These datasets will be used to build a machine learning model used to predict future deaths caused by influenza, pneumonia and covid-19.\n",
    " \n",
    "### Development\n"
   ]
  },
  {
   "cell_type": "markdown",
   "metadata": {},
   "source": [
    "Start by importing the packages needed."
   ]
  },
  {
   "cell_type": "code",
   "execution_count": 1,
   "metadata": {},
   "outputs": [
    {
     "name": "stderr",
     "output_type": "stream",
     "text": [
      "Using TensorFlow backend.\n"
     ]
    }
   ],
   "source": [
    "import numpy as np \n",
    "import pandas as pd\n",
    "import matplotlib.pyplot as plt \n",
    "%matplotlib inline\n",
    "import matplotlib.colors as mcolors\n",
    "import matplotlib.patches as mpatches\n",
    "from sklearn import preprocessing\n",
    "from sklearn import svm\n",
    "from sklearn.model_selection import cross_val_score, train_test_split\n",
    "from sklearn.preprocessing import MinMaxScaler\n",
    "from sklearn import linear_model\n",
    "from sklearn.metrics import mean_squared_error\n",
    "from sklearn.svm import SVR\n",
    "\n",
    "\n",
    "\n",
    "from keras.preprocessing.text import Tokenizer\n",
    "from keras.preprocessing.sequence import pad_sequences\n",
    "from sklearn.model_selection import train_test_split\n",
    "from keras.utils import to_categorical\n",
    "from keras.models import Sequential\n",
    "from keras.layers import Dense, Dropout, Embedding, LSTM, GlobalMaxPooling1D, SpatialDropout1D"
   ]
  },
  {
   "cell_type": "markdown",
   "metadata": {},
   "source": [
    "We will start by analysing the main dataset so we have to start by opening it."
   ]
  },
  {
   "cell_type": "code",
   "execution_count": 2,
   "metadata": {},
   "outputs": [
    {
     "name": "stdout",
     "output_type": "stream",
     "text": [
      "(10836, 15)\n"
     ]
    },
    {
     "data": {
      "text/plain": [
       "<bound method NDFrame.head of             Start Week    End Week  MMWRyear  MMWRweek    Group    Indicator  \\\n",
       "Data As Of                                                                     \n",
       "11/25/2020  02/01/2020  02/01/2020      2020         5  By week  Week-ending   \n",
       "11/25/2020  02/01/2020  02/01/2020      2020         5  By week  Week-ending   \n",
       "11/25/2020  02/01/2020  02/01/2020      2020         5  By week  Week-ending   \n",
       "11/25/2020  02/01/2020  02/01/2020      2020         5  By week  Week-ending   \n",
       "11/25/2020  02/01/2020  02/01/2020      2020         5  By week  Week-ending   \n",
       "...                ...         ...       ...       ...      ...          ...   \n",
       "11/25/2020  11/21/2020  11/21/2020      2020        47  By week  Week-ending   \n",
       "11/25/2020  11/21/2020  11/21/2020      2020        47  By week  Week-ending   \n",
       "11/25/2020  11/21/2020  11/21/2020      2020        47  By week  Week-ending   \n",
       "11/25/2020  11/21/2020  11/21/2020      2020        47  By week  Week-ending   \n",
       "11/25/2020  11/21/2020  11/21/2020      2020        47  By week  Week-ending   \n",
       "\n",
       "             Jurisdiction    Age Group  COVID-19 Deaths  Total Deaths  \\\n",
       "Data As Of                                                              \n",
       "11/25/2020  United States     All Ages              0.0       58657.0   \n",
       "11/25/2020  United States   0-17 years              0.0         654.0   \n",
       "11/25/2020  United States  18-64 years              0.0       14034.0   \n",
       "11/25/2020  United States    65+ years              0.0       43969.0   \n",
       "11/25/2020        Alabama     All Ages              0.0        1057.0   \n",
       "...                   ...          ...              ...           ...   \n",
       "11/25/2020   HHS Region 9    65+ years             60.0        1914.0   \n",
       "11/25/2020  HHS Region 10     All Ages             28.0         753.0   \n",
       "11/25/2020  HHS Region 10   0-17 years              0.0           NaN   \n",
       "11/25/2020  HHS Region 10  18-64 years              NaN         124.0   \n",
       "11/25/2020  HHS Region 10    65+ years             25.0         624.0   \n",
       "\n",
       "            Pneumonia Deaths  Influenza Deaths  Pneumonia or Influenza  \\\n",
       "Data As Of                                                               \n",
       "11/25/2020            3803.0             479.0                  4282.0   \n",
       "11/25/2020              13.0              16.0                    29.0   \n",
       "11/25/2020             703.0             184.0                   887.0   \n",
       "11/25/2020            3087.0             279.0                  3366.0   \n",
       "11/25/2020              55.0              16.0                    71.0   \n",
       "...                      ...               ...                     ...   \n",
       "11/25/2020             159.0               0.0                   159.0   \n",
       "11/25/2020              47.0               0.0                    47.0   \n",
       "11/25/2020               0.0               0.0                     0.0   \n",
       "11/25/2020               NaN               0.0                     NaN   \n",
       "11/25/2020              38.0               0.0                    38.0   \n",
       "\n",
       "            Pneumonia, Influenza, or COVID-19 Deaths  \\\n",
       "Data As Of                                             \n",
       "11/25/2020                                    4282.0   \n",
       "11/25/2020                                      29.0   \n",
       "11/25/2020                                     887.0   \n",
       "11/25/2020                                    3366.0   \n",
       "11/25/2020                                      71.0   \n",
       "...                                              ...   \n",
       "11/25/2020                                     181.0   \n",
       "11/25/2020                                      63.0   \n",
       "11/25/2020                                       0.0   \n",
       "11/25/2020                                      11.0   \n",
       "11/25/2020                                      52.0   \n",
       "\n",
       "                                                     Footnote  \n",
       "Data As Of                                                     \n",
       "11/25/2020                                                NaN  \n",
       "11/25/2020                                                NaN  \n",
       "11/25/2020                                                NaN  \n",
       "11/25/2020                                                NaN  \n",
       "11/25/2020                                                NaN  \n",
       "...                                                       ...  \n",
       "11/25/2020                                                NaN  \n",
       "11/25/2020                                                NaN  \n",
       "11/25/2020  One or more data cells have counts between 1-9...  \n",
       "11/25/2020  One or more data cells have counts between 1-9...  \n",
       "11/25/2020                                                NaN  \n",
       "\n",
       "[10836 rows x 15 columns]>"
      ]
     },
     "execution_count": 2,
     "metadata": {},
     "output_type": "execute_result"
    }
   ],
   "source": [
    "data = pd.read_csv('Provisional_Death_Counts_for_Influenza__Pneumonia__and_COVID-19.csv',sep=',', index_col = 0, na_values = \"na\")\n",
    "print (data.shape)\n",
    "data.head"
   ]
  },
  {
   "cell_type": "markdown",
   "metadata": {},
   "source": [
    "As seen, the dataset contains 10836 rows and 15 columns"
   ]
  },
  {
   "cell_type": "code",
   "execution_count": 3,
   "metadata": {},
   "outputs": [
    {
     "data": {
      "text/html": [
       "<div>\n",
       "<style scoped>\n",
       "    .dataframe tbody tr th:only-of-type {\n",
       "        vertical-align: middle;\n",
       "    }\n",
       "\n",
       "    .dataframe tbody tr th {\n",
       "        vertical-align: top;\n",
       "    }\n",
       "\n",
       "    .dataframe thead th {\n",
       "        text-align: right;\n",
       "    }\n",
       "</style>\n",
       "<table border=\"1\" class=\"dataframe\">\n",
       "  <thead>\n",
       "    <tr style=\"text-align: right;\">\n",
       "      <th></th>\n",
       "      <th>MMWRyear</th>\n",
       "      <th>MMWRweek</th>\n",
       "      <th>COVID-19 Deaths</th>\n",
       "      <th>Total Deaths</th>\n",
       "      <th>Pneumonia Deaths</th>\n",
       "      <th>Influenza Deaths</th>\n",
       "      <th>Pneumonia or Influenza</th>\n",
       "      <th>Pneumonia, Influenza, or COVID-19 Deaths</th>\n",
       "    </tr>\n",
       "  </thead>\n",
       "  <tbody>\n",
       "    <tr>\n",
       "      <th>count</th>\n",
       "      <td>10836.0</td>\n",
       "      <td>10836.000000</td>\n",
       "      <td>9114.000000</td>\n",
       "      <td>9716.000000</td>\n",
       "      <td>8917.000000</td>\n",
       "      <td>8401.000000</td>\n",
       "      <td>8897.000000</td>\n",
       "      <td>9065.000000</td>\n",
       "    </tr>\n",
       "    <tr>\n",
       "      <th>mean</th>\n",
       "      <td>2020.0</td>\n",
       "      <td>26.000000</td>\n",
       "      <td>157.071758</td>\n",
       "      <td>1589.344998</td>\n",
       "      <td>161.858024</td>\n",
       "      <td>4.072372</td>\n",
       "      <td>166.812409</td>\n",
       "      <td>249.488252</td>\n",
       "    </tr>\n",
       "    <tr>\n",
       "      <th>std</th>\n",
       "      <td>0.0</td>\n",
       "      <td>12.410246</td>\n",
       "      <td>707.549047</td>\n",
       "      <td>5318.890128</td>\n",
       "      <td>578.399546</td>\n",
       "      <td>27.793888</td>\n",
       "      <td>593.282163</td>\n",
       "      <td>954.621799</td>\n",
       "    </tr>\n",
       "    <tr>\n",
       "      <th>min</th>\n",
       "      <td>2020.0</td>\n",
       "      <td>5.000000</td>\n",
       "      <td>0.000000</td>\n",
       "      <td>0.000000</td>\n",
       "      <td>0.000000</td>\n",
       "      <td>0.000000</td>\n",
       "      <td>0.000000</td>\n",
       "      <td>0.000000</td>\n",
       "    </tr>\n",
       "    <tr>\n",
       "      <th>25%</th>\n",
       "      <td>2020.0</td>\n",
       "      <td>15.000000</td>\n",
       "      <td>0.000000</td>\n",
       "      <td>88.000000</td>\n",
       "      <td>0.000000</td>\n",
       "      <td>0.000000</td>\n",
       "      <td>0.000000</td>\n",
       "      <td>10.000000</td>\n",
       "    </tr>\n",
       "    <tr>\n",
       "      <th>50%</th>\n",
       "      <td>2020.0</td>\n",
       "      <td>26.000000</td>\n",
       "      <td>13.000000</td>\n",
       "      <td>386.000000</td>\n",
       "      <td>32.000000</td>\n",
       "      <td>0.000000</td>\n",
       "      <td>34.000000</td>\n",
       "      <td>44.000000</td>\n",
       "    </tr>\n",
       "    <tr>\n",
       "      <th>75%</th>\n",
       "      <td>2020.0</td>\n",
       "      <td>37.000000</td>\n",
       "      <td>78.000000</td>\n",
       "      <td>1207.250000</td>\n",
       "      <td>107.000000</td>\n",
       "      <td>0.000000</td>\n",
       "      <td>111.000000</td>\n",
       "      <td>158.000000</td>\n",
       "    </tr>\n",
       "    <tr>\n",
       "      <th>max</th>\n",
       "      <td>2020.0</td>\n",
       "      <td>47.000000</td>\n",
       "      <td>17068.000000</td>\n",
       "      <td>78821.000000</td>\n",
       "      <td>11972.000000</td>\n",
       "      <td>654.000000</td>\n",
       "      <td>12444.000000</td>\n",
       "      <td>21222.000000</td>\n",
       "    </tr>\n",
       "  </tbody>\n",
       "</table>\n",
       "</div>"
      ],
      "text/plain": [
       "       MMWRyear      MMWRweek  COVID-19 Deaths  Total Deaths  \\\n",
       "count   10836.0  10836.000000      9114.000000   9716.000000   \n",
       "mean     2020.0     26.000000       157.071758   1589.344998   \n",
       "std         0.0     12.410246       707.549047   5318.890128   \n",
       "min      2020.0      5.000000         0.000000      0.000000   \n",
       "25%      2020.0     15.000000         0.000000     88.000000   \n",
       "50%      2020.0     26.000000        13.000000    386.000000   \n",
       "75%      2020.0     37.000000        78.000000   1207.250000   \n",
       "max      2020.0     47.000000     17068.000000  78821.000000   \n",
       "\n",
       "       Pneumonia Deaths  Influenza Deaths  Pneumonia or Influenza  \\\n",
       "count       8917.000000       8401.000000             8897.000000   \n",
       "mean         161.858024          4.072372              166.812409   \n",
       "std          578.399546         27.793888              593.282163   \n",
       "min            0.000000          0.000000                0.000000   \n",
       "25%            0.000000          0.000000                0.000000   \n",
       "50%           32.000000          0.000000               34.000000   \n",
       "75%          107.000000          0.000000              111.000000   \n",
       "max        11972.000000        654.000000            12444.000000   \n",
       "\n",
       "       Pneumonia, Influenza, or COVID-19 Deaths  \n",
       "count                               9065.000000  \n",
       "mean                                 249.488252  \n",
       "std                                  954.621799  \n",
       "min                                    0.000000  \n",
       "25%                                   10.000000  \n",
       "50%                                   44.000000  \n",
       "75%                                  158.000000  \n",
       "max                                21222.000000  "
      ]
     },
     "execution_count": 3,
     "metadata": {},
     "output_type": "execute_result"
    }
   ],
   "source": [
    "data.describe()\n"
   ]
  },
  {
   "cell_type": "markdown",
   "metadata": {},
   "source": [
    "We can see that by the count some values are missing"
   ]
  },
  {
   "cell_type": "code",
   "execution_count": 4,
   "metadata": {},
   "outputs": [
    {
     "data": {
      "text/plain": [
       "Index(['Start Week', 'End Week', 'MMWRyear', 'MMWRweek', 'Group', 'Indicator',\n",
       "       'Jurisdiction', 'Age Group', 'COVID-19 Deaths', 'Total Deaths',\n",
       "       'Pneumonia Deaths', 'Influenza Deaths', 'Pneumonia or Influenza',\n",
       "       'Pneumonia, Influenza, or COVID-19 Deaths', 'Footnote'],\n",
       "      dtype='object')"
      ]
     },
     "execution_count": 4,
     "metadata": {},
     "output_type": "execute_result"
    }
   ],
   "source": [
    "data.columns"
   ]
  },
  {
   "cell_type": "markdown",
   "metadata": {},
   "source": [
    "A simpler way to see all the columns"
   ]
  },
  {
   "cell_type": "code",
   "execution_count": 5,
   "metadata": {},
   "outputs": [
    {
     "data": {
      "text/plain": [
       "COVID-19 Deaths\n",
       "0.0        4146\n",
       "1.0           3\n",
       "2.0           9\n",
       "3.0           6\n",
       "4.0           7\n",
       "           ... \n",
       "13139.0       1\n",
       "13841.0       1\n",
       "15426.0       1\n",
       "16162.0       1\n",
       "17068.0       1\n",
       "Length: 906, dtype: int64"
      ]
     },
     "execution_count": 5,
     "metadata": {},
     "output_type": "execute_result"
    }
   ],
   "source": [
    "data.groupby(\"COVID-19 Deaths\").size()"
   ]
  },
  {
   "cell_type": "markdown",
   "metadata": {},
   "source": [
    "To see how many null values we have we use:"
   ]
  },
  {
   "cell_type": "code",
   "execution_count": 6,
   "metadata": {},
   "outputs": [
    {
     "data": {
      "text/plain": [
       "16040"
      ]
     },
     "execution_count": 6,
     "metadata": {},
     "output_type": "execute_result"
    }
   ],
   "source": [
    "data.isnull().sum().sum()"
   ]
  },
  {
   "cell_type": "markdown",
   "metadata": {},
   "source": [
    "And to dellete them:"
   ]
  },
  {
   "cell_type": "code",
   "execution_count": 7,
   "metadata": {},
   "outputs": [
    {
     "data": {
      "text/plain": [
       "0"
      ]
     },
     "execution_count": 7,
     "metadata": {},
     "output_type": "execute_result"
    }
   ],
   "source": [
    "datanull=data.dropna()\n",
    "datanull.isnull().sum().sum()"
   ]
  },
  {
   "cell_type": "markdown",
   "metadata": {},
   "source": [
    "To see all the weeks in this dataset:"
   ]
  },
  {
   "cell_type": "code",
   "execution_count": 8,
   "metadata": {},
   "outputs": [
    {
     "data": {
      "text/plain": [
       "Start Week\n",
       "02/01/2020    252\n",
       "02/08/2020    252\n",
       "02/15/2020    252\n",
       "02/22/2020    252\n",
       "02/29/2020    252\n",
       "03/07/2020    252\n",
       "03/14/2020    252\n",
       "03/21/2020    252\n",
       "03/28/2020    252\n",
       "04/04/2020    252\n",
       "04/11/2020    252\n",
       "04/18/2020    252\n",
       "04/25/2020    252\n",
       "05/02/2020    252\n",
       "05/09/2020    252\n",
       "05/16/2020    252\n",
       "05/23/2020    252\n",
       "05/30/2020    252\n",
       "06/06/2020    252\n",
       "06/13/2020    252\n",
       "06/20/2020    252\n",
       "06/27/2020    252\n",
       "07/04/2020    252\n",
       "07/11/2020    252\n",
       "07/18/2020    252\n",
       "07/25/2020    252\n",
       "08/01/2020    252\n",
       "08/08/2020    252\n",
       "08/15/2020    252\n",
       "08/22/2020    252\n",
       "08/29/2020    252\n",
       "09/05/2020    252\n",
       "09/12/2020    252\n",
       "09/19/2020    252\n",
       "09/26/2020    252\n",
       "10/03/2020    252\n",
       "10/10/2020    252\n",
       "10/17/2020    252\n",
       "10/24/2020    252\n",
       "10/31/2020    252\n",
       "11/07/2020    252\n",
       "11/14/2020    252\n",
       "11/21/2020    252\n",
       "dtype: int64"
      ]
     },
     "execution_count": 8,
     "metadata": {},
     "output_type": "execute_result"
    }
   ],
   "source": [
    "data.groupby(\"Start Week\").size()\n",
    "\n",
    "#len(data.groupby(\"Start Week\"))"
   ]
  },
  {
   "cell_type": "markdown",
   "metadata": {},
   "source": [
    "Each state is used 172 times:"
   ]
  },
  {
   "cell_type": "code",
   "execution_count": 9,
   "metadata": {},
   "outputs": [
    {
     "data": {
      "text/plain": [
       "Jurisdiction\n",
       "Alabama          172\n",
       "Alaska           172\n",
       "Arizona          172\n",
       "Arkansas         172\n",
       "California       172\n",
       "                ... \n",
       "Virginia         172\n",
       "Washington       172\n",
       "West Virginia    172\n",
       "Wisconsin        172\n",
       "Wyoming          172\n",
       "Length: 63, dtype: int64"
      ]
     },
     "execution_count": 9,
     "metadata": {},
     "output_type": "execute_result"
    }
   ],
   "source": [
    "data.groupby(\"Jurisdiction\").size()"
   ]
  },
  {
   "cell_type": "markdown",
   "metadata": {},
   "source": [
    "To see the states in an easier way:"
   ]
  },
  {
   "cell_type": "code",
   "execution_count": 10,
   "metadata": {},
   "outputs": [
    {
     "data": {
      "text/plain": [
       "array(['United States', 'Alabama', 'Alaska', 'Arizona', 'Arkansas',\n",
       "       'California', 'Colorado', 'Connecticut', 'Delaware',\n",
       "       'District of Columbia', 'Florida', 'Georgia', 'Hawaii', 'Idaho',\n",
       "       'Illinois', 'Indiana', 'Iowa', 'Kansas', 'Kentucky', 'Louisiana',\n",
       "       'Maine', 'Maryland', 'Massachusetts', 'Michigan', 'Minnesota',\n",
       "       'Mississippi', 'Missouri', 'Montana', 'Nebraska', 'Nevada',\n",
       "       'New Hampshire', 'New Jersey', 'New Mexico', 'New York',\n",
       "       'New York City', 'North Carolina', 'North Dakota', 'Ohio',\n",
       "       'Oklahoma', 'Oregon', 'Pennsylvania', 'Rhode Island',\n",
       "       'South Carolina', 'South Dakota', 'Tennessee', 'Texas', 'Utah',\n",
       "       'Vermont', 'Virginia', 'Washington', 'West Virginia', 'Wisconsin',\n",
       "       'Wyoming', 'HHS Region 1', 'HHS Region 2', 'HHS Region 3',\n",
       "       'HHS Region 4', 'HHS Region 5', 'HHS Region 6', 'HHS Region 7',\n",
       "       'HHS Region 8', 'HHS Region 9', 'HHS Region 10'], dtype=object)"
      ]
     },
     "execution_count": 10,
     "metadata": {},
     "output_type": "execute_result"
    }
   ],
   "source": [
    "data.Jurisdiction.unique()"
   ]
  },
  {
   "cell_type": "code",
   "execution_count": 11,
   "metadata": {},
   "outputs": [
    {
     "data": {
      "text/plain": [
       "Age Group\n",
       "0-17 years     2709\n",
       "18-64 years    2709\n",
       "65+ years      2709\n",
       "All Ages       2709\n",
       "dtype: int64"
      ]
     },
     "execution_count": 11,
     "metadata": {},
     "output_type": "execute_result"
    }
   ],
   "source": [
    "data.groupby(\"Age Group\").size()"
   ]
  },
  {
   "cell_type": "markdown",
   "metadata": {},
   "source": [
    "Dividing 2709 (how often each age group is used) by 63 (the number of states (although the states are less (50), we have 1 United States, 2 more states than the official ones, and 10 HHS Regions) equal the number of week that is confirmed by using:\n",
    "```\n",
    "len(data.groupby(\"Start Week\"))\n",
    "```"
   ]
  },
  {
   "cell_type": "code",
   "execution_count": 12,
   "metadata": {},
   "outputs": [
    {
     "data": {
      "text/html": [
       "<div>\n",
       "<style scoped>\n",
       "    .dataframe tbody tr th:only-of-type {\n",
       "        vertical-align: middle;\n",
       "    }\n",
       "\n",
       "    .dataframe tbody tr th {\n",
       "        vertical-align: top;\n",
       "    }\n",
       "\n",
       "    .dataframe thead th {\n",
       "        text-align: right;\n",
       "    }\n",
       "</style>\n",
       "<table border=\"1\" class=\"dataframe\">\n",
       "  <thead>\n",
       "    <tr style=\"text-align: right;\">\n",
       "      <th></th>\n",
       "      <th>Start Week</th>\n",
       "      <th>End Week</th>\n",
       "      <th>MMWRyear</th>\n",
       "      <th>MMWRweek</th>\n",
       "      <th>Group</th>\n",
       "      <th>Indicator</th>\n",
       "      <th>Jurisdiction</th>\n",
       "      <th>COVID-19 Deaths</th>\n",
       "      <th>Total Deaths</th>\n",
       "      <th>Pneumonia Deaths</th>\n",
       "      <th>Influenza Deaths</th>\n",
       "      <th>Pneumonia or Influenza</th>\n",
       "      <th>Pneumonia, Influenza, or COVID-19 Deaths</th>\n",
       "      <th>Footnote</th>\n",
       "    </tr>\n",
       "    <tr>\n",
       "      <th>Age Group</th>\n",
       "      <th></th>\n",
       "      <th></th>\n",
       "      <th></th>\n",
       "      <th></th>\n",
       "      <th></th>\n",
       "      <th></th>\n",
       "      <th></th>\n",
       "      <th></th>\n",
       "      <th></th>\n",
       "      <th></th>\n",
       "      <th></th>\n",
       "      <th></th>\n",
       "      <th></th>\n",
       "      <th></th>\n",
       "    </tr>\n",
       "  </thead>\n",
       "  <tbody>\n",
       "    <tr>\n",
       "      <th>0-17 years</th>\n",
       "      <td>2709</td>\n",
       "      <td>2709</td>\n",
       "      <td>2709</td>\n",
       "      <td>2709</td>\n",
       "      <td>2709</td>\n",
       "      <td>2709</td>\n",
       "      <td>2709</td>\n",
       "      <td>2528</td>\n",
       "      <td>1616</td>\n",
       "      <td>2168</td>\n",
       "      <td>2543</td>\n",
       "      <td>2100</td>\n",
       "      <td>2015</td>\n",
       "      <td>1685</td>\n",
       "    </tr>\n",
       "    <tr>\n",
       "      <th>18-64 years</th>\n",
       "      <td>2709</td>\n",
       "      <td>2709</td>\n",
       "      <td>2709</td>\n",
       "      <td>2709</td>\n",
       "      <td>2709</td>\n",
       "      <td>2709</td>\n",
       "      <td>2709</td>\n",
       "      <td>1942</td>\n",
       "      <td>2692</td>\n",
       "      <td>1852</td>\n",
       "      <td>2075</td>\n",
       "      <td>1883</td>\n",
       "      <td>2003</td>\n",
       "      <td>1566</td>\n",
       "    </tr>\n",
       "    <tr>\n",
       "      <th>65+ years</th>\n",
       "      <td>2709</td>\n",
       "      <td>2709</td>\n",
       "      <td>2709</td>\n",
       "      <td>2709</td>\n",
       "      <td>2709</td>\n",
       "      <td>2709</td>\n",
       "      <td>2709</td>\n",
       "      <td>2314</td>\n",
       "      <td>2703</td>\n",
       "      <td>2412</td>\n",
       "      <td>1899</td>\n",
       "      <td>2422</td>\n",
       "      <td>2494</td>\n",
       "      <td>1240</td>\n",
       "    </tr>\n",
       "    <tr>\n",
       "      <th>All Ages</th>\n",
       "      <td>2709</td>\n",
       "      <td>2709</td>\n",
       "      <td>2709</td>\n",
       "      <td>2709</td>\n",
       "      <td>2709</td>\n",
       "      <td>2709</td>\n",
       "      <td>2709</td>\n",
       "      <td>2330</td>\n",
       "      <td>2705</td>\n",
       "      <td>2485</td>\n",
       "      <td>1884</td>\n",
       "      <td>2492</td>\n",
       "      <td>2553</td>\n",
       "      <td>1211</td>\n",
       "    </tr>\n",
       "  </tbody>\n",
       "</table>\n",
       "</div>"
      ],
      "text/plain": [
       "             Start Week  End Week  MMWRyear  MMWRweek  Group  Indicator  \\\n",
       "Age Group                                                                 \n",
       "0-17 years         2709      2709      2709      2709   2709       2709   \n",
       "18-64 years        2709      2709      2709      2709   2709       2709   \n",
       "65+ years          2709      2709      2709      2709   2709       2709   \n",
       "All Ages           2709      2709      2709      2709   2709       2709   \n",
       "\n",
       "             Jurisdiction  COVID-19 Deaths  Total Deaths  Pneumonia Deaths  \\\n",
       "Age Group                                                                    \n",
       "0-17 years           2709             2528          1616              2168   \n",
       "18-64 years          2709             1942          2692              1852   \n",
       "65+ years            2709             2314          2703              2412   \n",
       "All Ages             2709             2330          2705              2485   \n",
       "\n",
       "             Influenza Deaths  Pneumonia or Influenza  \\\n",
       "Age Group                                               \n",
       "0-17 years               2543                    2100   \n",
       "18-64 years              2075                    1883   \n",
       "65+ years                1899                    2422   \n",
       "All Ages                 1884                    2492   \n",
       "\n",
       "             Pneumonia, Influenza, or COVID-19 Deaths  Footnote  \n",
       "Age Group                                                        \n",
       "0-17 years                                       2015      1685  \n",
       "18-64 years                                      2003      1566  \n",
       "65+ years                                        2494      1240  \n",
       "All Ages                                         2553      1211  "
      ]
     },
     "execution_count": 12,
     "metadata": {},
     "output_type": "execute_result"
    }
   ],
   "source": [
    "data.groupby(\"Age Group\").count()"
   ]
  },
  {
   "cell_type": "code",
   "execution_count": 13,
   "metadata": {},
   "outputs": [
    {
     "data": {
      "text/plain": [
       "<matplotlib.legend.Legend at 0x19527835470>"
      ]
     },
     "execution_count": 13,
     "metadata": {},
     "output_type": "execute_result"
    },
    {
     "data": {
      "image/png": "[encoded data removed]",
      "text/plain": [
       "<Figure size 432x288 with 1 Axes>"
      ]
     },
     "metadata": {
      "needs_background": "light"
     },
     "output_type": "display_data"
    }
   ],
   "source": [
    "covid_death = list(data['COVID-19 Deaths'])\n",
    "number = len(covid_death)\n",
    "index = [num for num in range(number)]\n",
    "plt.plot(index, covid_death)\n",
    "\n",
    "\n",
    "\n",
    "pneumonia_death = list(data['Pneumonia Deaths'])\n",
    "plt.plot( index, pneumonia_death)\n",
    "\n",
    "influzenza_death = list(data['Influenza Deaths'])\n",
    "plt.plot( index, influzenza_death)\n",
    "\n",
    "plt.xlabel(\"Days passed\")\n",
    "plt.ylabel(\"Number of deaths\")\n",
    "\n",
    "\n",
    "\n",
    "blue = mpatches.Patch(color='blue', label='COVID-19 deaths')\n",
    "orange = mpatches.Patch(color='orange', label='Pneumonia deaths')\n",
    "green = mpatches.Patch(color='green', label='Influenza deaths')\n",
    "plt.legend(handles=[blue,orange,green])"
   ]
  },
  {
   "cell_type": "markdown",
   "metadata": {},
   "source": [
    "As it is clearly seen, the number of COVID-19 deaths surpasses the number of Pneumonia and Influenza deaths."
   ]
  },
  {
   "cell_type": "markdown",
   "metadata": {},
   "source": [
    "We can remove the columns that are not necessary:"
   ]
  },
  {
   "cell_type": "code",
   "execution_count": 3,
   "metadata": {},
   "outputs": [],
   "source": [
    "data.drop(['End Week', 'MMWRyear', 'MMWRweek', 'Group', 'Indicator',\n",
    "          'Total Deaths',\n",
    "        'Pneumonia or Influenza',\n",
    "       'Pneumonia, Influenza, or COVID-19 Deaths', 'Footnote'], axis=1, inplace = True)"
   ]
  },
  {
   "cell_type": "markdown",
   "metadata": {},
   "source": [
    "Since the data from the auxiliar dataset counts all ages and not by age group like in this dataset, we need to select only the values 'All Ages'"
   ]
  },
  {
   "cell_type": "code",
   "execution_count": 4,
   "metadata": {},
   "outputs": [],
   "source": [
    "data_age=data.loc[data['Age Group'] == 'All Ages']"
   ]
  },
  {
   "cell_type": "code",
   "execution_count": 5,
   "metadata": {},
   "outputs": [
    {
     "data": {
      "text/html": [
       "<div>\n",
       "<style scoped>\n",
       "    .dataframe tbody tr th:only-of-type {\n",
       "        vertical-align: middle;\n",
       "    }\n",
       "\n",
       "    .dataframe tbody tr th {\n",
       "        vertical-align: top;\n",
       "    }\n",
       "\n",
       "    .dataframe thead th {\n",
       "        text-align: right;\n",
       "    }\n",
       "</style>\n",
       "<table border=\"1\" class=\"dataframe\">\n",
       "  <thead>\n",
       "    <tr style=\"text-align: right;\">\n",
       "      <th></th>\n",
       "      <th>Start Week</th>\n",
       "      <th>Jurisdiction</th>\n",
       "      <th>COVID-19 Deaths</th>\n",
       "      <th>Pneumonia Deaths</th>\n",
       "      <th>Influenza Deaths</th>\n",
       "    </tr>\n",
       "    <tr>\n",
       "      <th>Age Group</th>\n",
       "      <th></th>\n",
       "      <th></th>\n",
       "      <th></th>\n",
       "      <th></th>\n",
       "      <th></th>\n",
       "    </tr>\n",
       "  </thead>\n",
       "  <tbody>\n",
       "    <tr>\n",
       "      <th>All Ages</th>\n",
       "      <td>2709</td>\n",
       "      <td>2709</td>\n",
       "      <td>2330</td>\n",
       "      <td>2485</td>\n",
       "      <td>1884</td>\n",
       "    </tr>\n",
       "  </tbody>\n",
       "</table>\n",
       "</div>"
      ],
      "text/plain": [
       "           Start Week  Jurisdiction  COVID-19 Deaths  Pneumonia Deaths  \\\n",
       "Age Group                                                                \n",
       "All Ages         2709          2709             2330              2485   \n",
       "\n",
       "           Influenza Deaths  \n",
       "Age Group                    \n",
       "All Ages               1884  "
      ]
     },
     "execution_count": 5,
     "metadata": {},
     "output_type": "execute_result"
    }
   ],
   "source": [
    "data_age.groupby('Age Group').count()"
   ]
  },
  {
   "cell_type": "markdown",
   "metadata": {},
   "source": [
    "Now we will analyze another dataset that could be used to build the model.\n",
    "\n",
    "The data was obtained from this website: https://covidtracking.com/data/download\n",
    "\n",
    "\n",
    "First we need to open it:"
   ]
  },
  {
   "cell_type": "code",
   "execution_count": 6,
   "metadata": {},
   "outputs": [
    {
     "name": "stdout",
     "output_type": "stream",
     "text": [
      "(16427, 41)\n"
     ]
    },
    {
     "name": "stderr",
     "output_type": "stream",
     "text": [
      "C:\\Users\\Samuel\\.conda\\envs\\keras\\lib\\site-packages\\IPython\\core\\interactiveshell.py:3072: DtypeWarning: Columns (2) have mixed types.Specify dtype option on import or set low_memory=False.\n",
      "  interactivity=interactivity, compiler=compiler, result=result)\n"
     ]
    },
    {
     "data": {
      "text/plain": [
       "<bound method NDFrame.head of            state dataQualityGrade   death  deathConfirmed  deathIncrease  \\\n",
       "date                                                                       \n",
       "2020-12-20    AK                A   184.0           184.0              0   \n",
       "2020-12-20    AL                A  4389.0          3849.0              0   \n",
       "2020-12-20    AR               A+  3237.0          2842.0             46   \n",
       "2020-12-20    AS                D     0.0             NaN              0   \n",
       "2020-12-20    AZ               A+  7971.0          7277.0             34   \n",
       "...          ...              ...     ...             ...            ...   \n",
       "2020-01-17    WA              NaN     NaN             NaN              0   \n",
       "2020-01-16    WA              NaN     NaN             NaN              0   \n",
       "2020-01-15    WA              NaN     NaN             NaN              0   \n",
       "2020-01-14    WA              NaN     NaN             NaN              0   \n",
       "2020-01-13    WA              NaN     NaN             NaN              0   \n",
       "\n",
       "            deathProbable  hospitalized  hospitalizedCumulative  \\\n",
       "date                                                              \n",
       "2020-12-20            NaN         935.0                   935.0   \n",
       "2020-12-20          540.0       30224.0                 30224.0   \n",
       "2020-12-20          395.0       10502.0                 10502.0   \n",
       "2020-12-20            NaN           NaN                     NaN   \n",
       "2020-12-20          694.0       33037.0                 33037.0   \n",
       "...                   ...           ...                     ...   \n",
       "2020-01-17            NaN           NaN                     NaN   \n",
       "2020-01-16            NaN           NaN                     NaN   \n",
       "2020-01-15            NaN           NaN                     NaN   \n",
       "2020-01-14            NaN           NaN                     NaN   \n",
       "2020-01-13            NaN           NaN                     NaN   \n",
       "\n",
       "            hospitalizedCurrently  hospitalizedIncrease  ...  \\\n",
       "date                                                     ...   \n",
       "2020-12-20                  127.0                     0  ...   \n",
       "2020-12-20                 2337.0                     0  ...   \n",
       "2020-12-20                 1061.0                    15  ...   \n",
       "2020-12-20                    NaN                     0  ...   \n",
       "2020-12-20                 3899.0                   361  ...   \n",
       "...                           ...                   ...  ...   \n",
       "2020-01-17                    NaN                     0  ...   \n",
       "2020-01-16                    NaN                     0  ...   \n",
       "2020-01-15                    NaN                     0  ...   \n",
       "2020-01-14                    NaN                     0  ...   \n",
       "2020-01-13                    NaN                     0  ...   \n",
       "\n",
       "            totalTestResults  totalTestResultsIncrease  totalTestsAntibody  \\\n",
       "date                                                                         \n",
       "2020-12-20         1196506.0                      3388                 NaN   \n",
       "2020-12-20         1783890.0                      8462                 NaN   \n",
       "2020-12-20         1940240.0                     12969                 NaN   \n",
       "2020-12-20            2140.0                         0                 NaN   \n",
       "2020-12-20         4620819.0                     57721            383896.0   \n",
       "...                      ...                       ...                 ...   \n",
       "2020-01-17               NaN                         0                 NaN   \n",
       "2020-01-16               NaN                         0                 NaN   \n",
       "2020-01-15               NaN                         0                 NaN   \n",
       "2020-01-14               NaN                         0                 NaN   \n",
       "2020-01-13               NaN                         0                 NaN   \n",
       "\n",
       "            totalTestsAntigen  totalTestsPeopleAntibody  \\\n",
       "date                                                      \n",
       "2020-12-20                NaN                       NaN   \n",
       "2020-12-20                NaN                   82020.0   \n",
       "2020-12-20            21856.0                       NaN   \n",
       "2020-12-20                NaN                       NaN   \n",
       "2020-12-20                NaN                       NaN   \n",
       "...                       ...                       ...   \n",
       "2020-01-17                NaN                       NaN   \n",
       "2020-01-16                NaN                       NaN   \n",
       "2020-01-15                NaN                       NaN   \n",
       "2020-01-14                NaN                       NaN   \n",
       "2020-01-13                NaN                       NaN   \n",
       "\n",
       "            totalTestsPeopleAntigen  totalTestsPeopleViral  \\\n",
       "date                                                         \n",
       "2020-12-20                      NaN                    NaN   \n",
       "2020-12-20                      NaN              1783890.0   \n",
       "2020-12-20                 205000.0                    NaN   \n",
       "2020-12-20                      NaN                    NaN   \n",
       "2020-12-20                      NaN              2648988.0   \n",
       "...                             ...                    ...   \n",
       "2020-01-17                      NaN                    NaN   \n",
       "2020-01-16                      NaN                    NaN   \n",
       "2020-01-15                      NaN                    NaN   \n",
       "2020-01-14                      NaN                    NaN   \n",
       "2020-01-13                      NaN                    NaN   \n",
       "\n",
       "            totalTestsPeopleViralIncrease  totalTestsViral  \\\n",
       "date                                                         \n",
       "2020-12-20                              0        1196506.0   \n",
       "2020-12-20                           8462              NaN   \n",
       "2020-12-20                              0        1940240.0   \n",
       "2020-12-20                              0           2140.0   \n",
       "2020-12-20                          22811        4620819.0   \n",
       "...                                   ...              ...   \n",
       "2020-01-17                              0              NaN   \n",
       "2020-01-16                              0              NaN   \n",
       "2020-01-15                              0              NaN   \n",
       "2020-01-14                              0              NaN   \n",
       "2020-01-13                              0              NaN   \n",
       "\n",
       "            totalTestsViralIncrease  \n",
       "date                                 \n",
       "2020-12-20                     3388  \n",
       "2020-12-20                        0  \n",
       "2020-12-20                    12969  \n",
       "2020-12-20                        0  \n",
       "2020-12-20                    57721  \n",
       "...                             ...  \n",
       "2020-01-17                        0  \n",
       "2020-01-16                        0  \n",
       "2020-01-15                        0  \n",
       "2020-01-14                        0  \n",
       "2020-01-13                        0  \n",
       "\n",
       "[16427 rows x 41 columns]>"
      ]
     },
     "execution_count": 6,
     "metadata": {},
     "output_type": "execute_result"
    }
   ],
   "source": [
    "data2 = pd.read_csv('all-states-history.csv',sep=',', index_col = 0, na_values = \"na\")\n",
    "print (data2.shape)\n",
    "data2.head"
   ]
  },
  {
   "cell_type": "markdown",
   "metadata": {},
   "source": [
    "A small analysis of the dataset:"
   ]
  },
  {
   "cell_type": "code",
   "execution_count": 7,
   "metadata": {},
   "outputs": [
    {
     "data": {
      "text/html": [
       "<div>\n",
       "<style scoped>\n",
       "    .dataframe tbody tr th:only-of-type {\n",
       "        vertical-align: middle;\n",
       "    }\n",
       "\n",
       "    .dataframe tbody tr th {\n",
       "        vertical-align: top;\n",
       "    }\n",
       "\n",
       "    .dataframe thead th {\n",
       "        text-align: right;\n",
       "    }\n",
       "</style>\n",
       "<table border=\"1\" class=\"dataframe\">\n",
       "  <thead>\n",
       "    <tr style=\"text-align: right;\">\n",
       "      <th></th>\n",
       "      <th>death</th>\n",
       "      <th>deathConfirmed</th>\n",
       "      <th>deathIncrease</th>\n",
       "      <th>deathProbable</th>\n",
       "      <th>hospitalized</th>\n",
       "      <th>hospitalizedCumulative</th>\n",
       "      <th>hospitalizedCurrently</th>\n",
       "      <th>hospitalizedIncrease</th>\n",
       "      <th>inIcuCumulative</th>\n",
       "      <th>inIcuCurrently</th>\n",
       "      <th>...</th>\n",
       "      <th>totalTestResults</th>\n",
       "      <th>totalTestResultsIncrease</th>\n",
       "      <th>totalTestsAntibody</th>\n",
       "      <th>totalTestsAntigen</th>\n",
       "      <th>totalTestsPeopleAntibody</th>\n",
       "      <th>totalTestsPeopleAntigen</th>\n",
       "      <th>totalTestsPeopleViral</th>\n",
       "      <th>totalTestsPeopleViralIncrease</th>\n",
       "      <th>totalTestsViral</th>\n",
       "      <th>totalTestsViralIncrease</th>\n",
       "    </tr>\n",
       "  </thead>\n",
       "  <tbody>\n",
       "    <tr>\n",
       "      <th>count</th>\n",
       "      <td>15591.000000</td>\n",
       "      <td>7165.000000</td>\n",
       "      <td>16427.000000</td>\n",
       "      <td>5494.000000</td>\n",
       "      <td>9966.000000</td>\n",
       "      <td>9966.000000</td>\n",
       "      <td>13258.000000</td>\n",
       "      <td>16427.000000</td>\n",
       "      <td>2868.000000</td>\n",
       "      <td>8301.000000</td>\n",
       "      <td>...</td>\n",
       "      <td>1.635800e+04</td>\n",
       "      <td>16427.000000</td>\n",
       "      <td>3241.000000</td>\n",
       "      <td>1487.000000</td>\n",
       "      <td>1356.000000</td>\n",
       "      <td>614.000000</td>\n",
       "      <td>7.002000e+03</td>\n",
       "      <td>1.642700e+04</td>\n",
       "      <td>1.103300e+04</td>\n",
       "      <td>1.642700e+04</td>\n",
       "    </tr>\n",
       "    <tr>\n",
       "      <th>mean</th>\n",
       "      <td>2635.069399</td>\n",
       "      <td>2833.454013</td>\n",
       "      <td>18.837828</td>\n",
       "      <td>263.481070</td>\n",
       "      <td>8589.350793</td>\n",
       "      <td>8589.350793</td>\n",
       "      <td>1006.012294</td>\n",
       "      <td>39.195349</td>\n",
       "      <td>1452.472106</td>\n",
       "      <td>319.685098</td>\n",
       "      <td>...</td>\n",
       "      <td>1.311286e+06</td>\n",
       "      <td>14128.145979</td>\n",
       "      <td>127411.668004</td>\n",
       "      <td>103354.531944</td>\n",
       "      <td>122769.369469</td>\n",
       "      <td>79489.757329</td>\n",
       "      <td>7.094130e+05</td>\n",
       "      <td>2.699545e+03</td>\n",
       "      <td>1.499615e+06</td>\n",
       "      <td>1.110010e+04</td>\n",
       "    </tr>\n",
       "    <tr>\n",
       "      <th>std</th>\n",
       "      <td>4640.301576</td>\n",
       "      <td>3220.387245</td>\n",
       "      <td>44.567271</td>\n",
       "      <td>380.772274</td>\n",
       "      <td>15494.633634</td>\n",
       "      <td>15494.633634</td>\n",
       "      <td>1674.042619</td>\n",
       "      <td>226.412294</td>\n",
       "      <td>1420.254034</td>\n",
       "      <td>515.323747</td>\n",
       "      <td>...</td>\n",
       "      <td>2.606745e+06</td>\n",
       "      <td>26411.991794</td>\n",
       "      <td>152998.621227</td>\n",
       "      <td>155539.880005</td>\n",
       "      <td>147057.991688</td>\n",
       "      <td>75040.582297</td>\n",
       "      <td>1.013361e+06</td>\n",
       "      <td>2.500635e+04</td>\n",
       "      <td>2.692379e+06</td>\n",
       "      <td>3.707658e+04</td>\n",
       "    </tr>\n",
       "    <tr>\n",
       "      <th>min</th>\n",
       "      <td>0.000000</td>\n",
       "      <td>0.000000</td>\n",
       "      <td>-201.000000</td>\n",
       "      <td>0.000000</td>\n",
       "      <td>1.000000</td>\n",
       "      <td>1.000000</td>\n",
       "      <td>0.000000</td>\n",
       "      <td>-4124.000000</td>\n",
       "      <td>6.000000</td>\n",
       "      <td>0.000000</td>\n",
       "      <td>...</td>\n",
       "      <td>0.000000e+00</td>\n",
       "      <td>-194215.000000</td>\n",
       "      <td>5.000000</td>\n",
       "      <td>2.000000</td>\n",
       "      <td>1.000000</td>\n",
       "      <td>3.000000</td>\n",
       "      <td>0.000000e+00</td>\n",
       "      <td>-1.122327e+06</td>\n",
       "      <td>0.000000e+00</td>\n",
       "      <td>-5.819440e+05</td>\n",
       "    </tr>\n",
       "    <tr>\n",
       "      <th>25%</th>\n",
       "      <td>104.000000</td>\n",
       "      <td>459.000000</td>\n",
       "      <td>0.000000</td>\n",
       "      <td>45.000000</td>\n",
       "      <td>720.250000</td>\n",
       "      <td>720.250000</td>\n",
       "      <td>145.000000</td>\n",
       "      <td>0.000000</td>\n",
       "      <td>387.750000</td>\n",
       "      <td>61.000000</td>\n",
       "      <td>...</td>\n",
       "      <td>5.897250e+04</td>\n",
       "      <td>853.500000</td>\n",
       "      <td>14418.000000</td>\n",
       "      <td>16981.000000</td>\n",
       "      <td>34292.000000</td>\n",
       "      <td>14213.000000</td>\n",
       "      <td>1.256398e+05</td>\n",
       "      <td>0.000000e+00</td>\n",
       "      <td>1.029770e+05</td>\n",
       "      <td>0.000000e+00</td>\n",
       "    </tr>\n",
       "    <tr>\n",
       "      <th>50%</th>\n",
       "      <td>704.000000</td>\n",
       "      <td>1825.000000</td>\n",
       "      <td>5.000000</td>\n",
       "      <td>152.000000</td>\n",
       "      <td>3272.500000</td>\n",
       "      <td>3272.500000</td>\n",
       "      <td>485.500000</td>\n",
       "      <td>0.000000</td>\n",
       "      <td>1013.000000</td>\n",
       "      <td>155.000000</td>\n",
       "      <td>...</td>\n",
       "      <td>3.997145e+05</td>\n",
       "      <td>5002.000000</td>\n",
       "      <td>60293.000000</td>\n",
       "      <td>45253.000000</td>\n",
       "      <td>69859.500000</td>\n",
       "      <td>63003.500000</td>\n",
       "      <td>3.273410e+05</td>\n",
       "      <td>0.000000e+00</td>\n",
       "      <td>5.197770e+05</td>\n",
       "      <td>1.064000e+03</td>\n",
       "    </tr>\n",
       "    <tr>\n",
       "      <th>75%</th>\n",
       "      <td>2990.000000</td>\n",
       "      <td>3802.000000</td>\n",
       "      <td>18.000000</td>\n",
       "      <td>273.000000</td>\n",
       "      <td>10037.750000</td>\n",
       "      <td>10037.750000</td>\n",
       "      <td>1083.000000</td>\n",
       "      <td>33.000000</td>\n",
       "      <td>1935.000000</td>\n",
       "      <td>332.000000</td>\n",
       "      <td>...</td>\n",
       "      <td>1.379134e+06</td>\n",
       "      <td>15395.000000</td>\n",
       "      <td>198745.000000</td>\n",
       "      <td>123242.000000</td>\n",
       "      <td>127372.000000</td>\n",
       "      <td>126981.750000</td>\n",
       "      <td>9.067368e+05</td>\n",
       "      <td>2.478000e+03</td>\n",
       "      <td>1.693858e+06</td>\n",
       "      <td>1.030450e+04</td>\n",
       "    </tr>\n",
       "    <tr>\n",
       "      <th>max</th>\n",
       "      <td>28598.000000</td>\n",
       "      <td>16286.000000</td>\n",
       "      <td>951.000000</td>\n",
       "      <td>1908.000000</td>\n",
       "      <td>89995.000000</td>\n",
       "      <td>89995.000000</td>\n",
       "      <td>18825.000000</td>\n",
       "      <td>16373.000000</td>\n",
       "      <td>7050.000000</td>\n",
       "      <td>5225.000000</td>\n",
       "      <td>...</td>\n",
       "      <td>2.946517e+07</td>\n",
       "      <td>371222.000000</td>\n",
       "      <td>650372.000000</td>\n",
       "      <td>983430.000000</td>\n",
       "      <td>630838.000000</td>\n",
       "      <td>321267.000000</td>\n",
       "      <td>8.223154e+06</td>\n",
       "      <td>8.982590e+05</td>\n",
       "      <td>2.946517e+07</td>\n",
       "      <td>2.352923e+06</td>\n",
       "    </tr>\n",
       "  </tbody>\n",
       "</table>\n",
       "<p>8 rows × 39 columns</p>\n",
       "</div>"
      ],
      "text/plain": [
       "              death  deathConfirmed  deathIncrease  deathProbable  \\\n",
       "count  15591.000000     7165.000000   16427.000000    5494.000000   \n",
       "mean    2635.069399     2833.454013      18.837828     263.481070   \n",
       "std     4640.301576     3220.387245      44.567271     380.772274   \n",
       "min        0.000000        0.000000    -201.000000       0.000000   \n",
       "25%      104.000000      459.000000       0.000000      45.000000   \n",
       "50%      704.000000     1825.000000       5.000000     152.000000   \n",
       "75%     2990.000000     3802.000000      18.000000     273.000000   \n",
       "max    28598.000000    16286.000000     951.000000    1908.000000   \n",
       "\n",
       "       hospitalized  hospitalizedCumulative  hospitalizedCurrently  \\\n",
       "count   9966.000000             9966.000000           13258.000000   \n",
       "mean    8589.350793             8589.350793            1006.012294   \n",
       "std    15494.633634            15494.633634            1674.042619   \n",
       "min        1.000000                1.000000               0.000000   \n",
       "25%      720.250000              720.250000             145.000000   \n",
       "50%     3272.500000             3272.500000             485.500000   \n",
       "75%    10037.750000            10037.750000            1083.000000   \n",
       "max    89995.000000            89995.000000           18825.000000   \n",
       "\n",
       "       hospitalizedIncrease  inIcuCumulative  inIcuCurrently  ...  \\\n",
       "count          16427.000000      2868.000000     8301.000000  ...   \n",
       "mean              39.195349      1452.472106      319.685098  ...   \n",
       "std              226.412294      1420.254034      515.323747  ...   \n",
       "min            -4124.000000         6.000000        0.000000  ...   \n",
       "25%                0.000000       387.750000       61.000000  ...   \n",
       "50%                0.000000      1013.000000      155.000000  ...   \n",
       "75%               33.000000      1935.000000      332.000000  ...   \n",
       "max            16373.000000      7050.000000     5225.000000  ...   \n",
       "\n",
       "       totalTestResults  totalTestResultsIncrease  totalTestsAntibody  \\\n",
       "count      1.635800e+04              16427.000000         3241.000000   \n",
       "mean       1.311286e+06              14128.145979       127411.668004   \n",
       "std        2.606745e+06              26411.991794       152998.621227   \n",
       "min        0.000000e+00            -194215.000000            5.000000   \n",
       "25%        5.897250e+04                853.500000        14418.000000   \n",
       "50%        3.997145e+05               5002.000000        60293.000000   \n",
       "75%        1.379134e+06              15395.000000       198745.000000   \n",
       "max        2.946517e+07             371222.000000       650372.000000   \n",
       "\n",
       "       totalTestsAntigen  totalTestsPeopleAntibody  totalTestsPeopleAntigen  \\\n",
       "count        1487.000000               1356.000000               614.000000   \n",
       "mean       103354.531944             122769.369469             79489.757329   \n",
       "std        155539.880005             147057.991688             75040.582297   \n",
       "min             2.000000                  1.000000                 3.000000   \n",
       "25%         16981.000000              34292.000000             14213.000000   \n",
       "50%         45253.000000              69859.500000             63003.500000   \n",
       "75%        123242.000000             127372.000000            126981.750000   \n",
       "max        983430.000000             630838.000000            321267.000000   \n",
       "\n",
       "       totalTestsPeopleViral  totalTestsPeopleViralIncrease  totalTestsViral  \\\n",
       "count           7.002000e+03                   1.642700e+04     1.103300e+04   \n",
       "mean            7.094130e+05                   2.699545e+03     1.499615e+06   \n",
       "std             1.013361e+06                   2.500635e+04     2.692379e+06   \n",
       "min             0.000000e+00                  -1.122327e+06     0.000000e+00   \n",
       "25%             1.256398e+05                   0.000000e+00     1.029770e+05   \n",
       "50%             3.273410e+05                   0.000000e+00     5.197770e+05   \n",
       "75%             9.067368e+05                   2.478000e+03     1.693858e+06   \n",
       "max             8.223154e+06                   8.982590e+05     2.946517e+07   \n",
       "\n",
       "       totalTestsViralIncrease  \n",
       "count             1.642700e+04  \n",
       "mean              1.110010e+04  \n",
       "std               3.707658e+04  \n",
       "min              -5.819440e+05  \n",
       "25%               0.000000e+00  \n",
       "50%               1.064000e+03  \n",
       "75%               1.030450e+04  \n",
       "max               2.352923e+06  \n",
       "\n",
       "[8 rows x 39 columns]"
      ]
     },
     "execution_count": 7,
     "metadata": {},
     "output_type": "execute_result"
    }
   ],
   "source": [
    "data2.describe()"
   ]
  },
  {
   "cell_type": "code",
   "execution_count": 8,
   "metadata": {},
   "outputs": [
    {
     "data": {
      "text/plain": [
       "Index(['state', 'dataQualityGrade', 'death', 'deathConfirmed', 'deathIncrease',\n",
       "       'deathProbable', 'hospitalized', 'hospitalizedCumulative',\n",
       "       'hospitalizedCurrently', 'hospitalizedIncrease', 'inIcuCumulative',\n",
       "       'inIcuCurrently', 'negative', 'negativeIncrease',\n",
       "       'negativeTestsAntibody', 'negativeTestsPeopleAntibody',\n",
       "       'negativeTestsViral', 'onVentilatorCumulative', 'onVentilatorCurrently',\n",
       "       'positive', 'positiveCasesViral', 'positiveIncrease', 'positiveScore',\n",
       "       'positiveTestsAntibody', 'positiveTestsAntigen',\n",
       "       'positiveTestsPeopleAntibody', 'positiveTestsPeopleAntigen',\n",
       "       'positiveTestsViral', 'recovered', 'totalTestEncountersViral',\n",
       "       'totalTestEncountersViralIncrease', 'totalTestResults',\n",
       "       'totalTestResultsIncrease', 'totalTestsAntibody', 'totalTestsAntigen',\n",
       "       'totalTestsPeopleAntibody', 'totalTestsPeopleAntigen',\n",
       "       'totalTestsPeopleViral', 'totalTestsPeopleViralIncrease',\n",
       "       'totalTestsViral', 'totalTestsViralIncrease'],\n",
       "      dtype='object')"
      ]
     },
     "execution_count": 8,
     "metadata": {},
     "output_type": "execute_result"
    }
   ],
   "source": [
    "data2.columns"
   ]
  },
  {
   "cell_type": "markdown",
   "metadata": {},
   "source": [
    "A simpler way to see all the columns"
   ]
  },
  {
   "cell_type": "markdown",
   "metadata": {},
   "source": [
    "We will need to delete some columns since some of them have no interest for our work with the main dataset.\n",
    "To identify which one to delete the following link will be used: https://covidtracking.com/about-data/data-definitions\n",
    "\n",
    "The columns deleted will be:"
   ]
  },
  {
   "cell_type": "code",
   "execution_count": 9,
   "metadata": {},
   "outputs": [],
   "source": [
    "data2.drop(['dataQualityGrade','deathConfirmed','deathIncrease','deathProbable','hospitalized','hospitalizedCumulative',\n",
    "       'hospitalizedCurrently', 'hospitalizedIncrease', 'inIcuCumulative',\n",
    "       'inIcuCurrently', 'negative', 'negativeIncrease',\n",
    "       'negativeTestsAntibody', 'negativeTestsPeopleAntibody', 'positiveScore',\n",
    "       'positiveTestsAntibody', 'positiveTestsAntigen','onVentilatorCumulative',\n",
    "       'onVentilatorCurrently', 'positiveCasesViral',\n",
    "       'positiveTestsPeopleAntibody', 'positiveTestsPeopleAntigen',\n",
    "       'positiveTestsViral', 'recovered', 'totalTestEncountersViral',\n",
    "       'totalTestEncountersViralIncrease','totalTestResultsIncrease', 'totalTestsAntibody', 'totalTestsAntigen',\n",
    "       'totalTestsPeopleAntibody', 'totalTestsPeopleAntigen',\n",
    "       'totalTestsPeopleViral', 'totalTestsPeopleViralIncrease',\n",
    "       'totalTestsViral', 'totalTestsViralIncrease'], axis=1, inplace=True)"
   ]
  },
  {
   "cell_type": "markdown",
   "metadata": {},
   "source": [
    "As such, this dataset will be composed of these columns:"
   ]
  },
  {
   "cell_type": "code",
   "execution_count": 10,
   "metadata": {},
   "outputs": [
    {
     "data": {
      "text/plain": [
       "Index(['state', 'death', 'negativeTestsViral', 'positive', 'positiveIncrease',\n",
       "       'totalTestResults'],\n",
       "      dtype='object')"
      ]
     },
     "execution_count": 10,
     "metadata": {},
     "output_type": "execute_result"
    }
   ],
   "source": [
    "data2.columns"
   ]
  },
  {
   "cell_type": "code",
   "execution_count": 11,
   "metadata": {},
   "outputs": [
    {
     "data": {
      "text/plain": [
       "<bound method NDFrame.head of            state   death  negativeTestsViral  positive  positiveIncrease  \\\n",
       "date                                                                       \n",
       "2020-12-20    AK   184.0           1144626.0   42413.0               178   \n",
       "2020-12-20    AL  4389.0                 NaN  322452.0              2548   \n",
       "2020-12-20    AR  3237.0           1769637.0  201650.0              1536   \n",
       "2020-12-20    AS     0.0                 NaN       0.0                 0   \n",
       "2020-12-20    AZ  7971.0                 NaN  453597.0              5366   \n",
       "...          ...     ...                 ...       ...               ...   \n",
       "2020-01-17    WA     NaN                 NaN       0.0                 0   \n",
       "2020-01-16    WA     NaN                 NaN       0.0                 0   \n",
       "2020-01-15    WA     NaN                 NaN       0.0                 0   \n",
       "2020-01-14    WA     NaN                 NaN       0.0                 0   \n",
       "2020-01-13    WA     NaN                 NaN       NaN                 0   \n",
       "\n",
       "            totalTestResults  \n",
       "date                          \n",
       "2020-12-20         1196506.0  \n",
       "2020-12-20         1783890.0  \n",
       "2020-12-20         1940240.0  \n",
       "2020-12-20            2140.0  \n",
       "2020-12-20         4620819.0  \n",
       "...                      ...  \n",
       "2020-01-17               NaN  \n",
       "2020-01-16               NaN  \n",
       "2020-01-15               NaN  \n",
       "2020-01-14               NaN  \n",
       "2020-01-13               NaN  \n",
       "\n",
       "[16427 rows x 6 columns]>"
      ]
     },
     "execution_count": 11,
     "metadata": {},
     "output_type": "execute_result"
    }
   ],
   "source": [
    "data2.head"
   ]
  },
  {
   "cell_type": "markdown",
   "metadata": {},
   "source": [
    "Since the main dataset is grouped in weeks instead of daily results such as this dataset, outside of this notebook, the data was grouped by week, as such, it will be imported as data2_weeks and treated just like the original data2 dataset.\n",
    "\n",
    "We then import it:"
   ]
  },
  {
   "cell_type": "code",
   "execution_count": 12,
   "metadata": {},
   "outputs": [],
   "source": [
    "data2_weeks = pd.read_csv('all-states-history_weeks.csv',sep=',', index_col = 0, na_values = \"na\")"
   ]
  },
  {
   "cell_type": "markdown",
   "metadata": {},
   "source": [
    "Too see the types for each column:"
   ]
  },
  {
   "cell_type": "code",
   "execution_count": 13,
   "metadata": {},
   "outputs": [
    {
     "data": {
      "text/plain": [
       "state                 object\n",
       "death                  int64\n",
       "negativeTestsViral     int64\n",
       "positive               int64\n",
       "positiveIncrease       int64\n",
       "totalTestResults       int64\n",
       "dtype: object"
      ]
     },
     "execution_count": 13,
     "metadata": {},
     "output_type": "execute_result"
    }
   ],
   "source": [
    "data2_weeks.dtypes"
   ]
  },
  {
   "cell_type": "markdown",
   "metadata": {},
   "source": [
    "There is no null value on the state column"
   ]
  },
  {
   "cell_type": "code",
   "execution_count": 14,
   "metadata": {},
   "outputs": [
    {
     "data": {
      "text/plain": [
       "0"
      ]
     },
     "execution_count": 14,
     "metadata": {},
     "output_type": "execute_result"
    }
   ],
   "source": [
    "data2_weeks['state'].isnull().sum().sum()"
   ]
  },
  {
   "cell_type": "markdown",
   "metadata": {},
   "source": [
    "Since the column 'state' is composed of only object type values, we will convert it to integer.\n",
    "To do that, first we create a new column called 'state_cat' that has the same values as 'state' but its type is category."
   ]
  },
  {
   "cell_type": "code",
   "execution_count": 15,
   "metadata": {},
   "outputs": [
    {
     "data": {
      "text/plain": [
       "<bound method NDFrame.head of            state  death  negativeTestsViral  positive  positiveIncrease  \\\n",
       "date                                                                      \n",
       "12/14/2020    AK   1270             7866561    289610              2675   \n",
       "12/14/2020    AL  29752                   0   2173442             26821   \n",
       "12/14/2020    AR  21759            12149477   1361937             15948   \n",
       "12/14/2020    AS      0                   0         0                 0   \n",
       "12/14/2020    AZ  53714                   0   3053384             45155   \n",
       "...          ...    ...                 ...       ...               ...   \n",
       "01/27/2020    MA      0                   0         0                 0   \n",
       "01/27/2020    WA      0                   0        14                 0   \n",
       "01/20/2020    MA      0                   0         0                 0   \n",
       "01/20/2020    WA      0                   0        13                 1   \n",
       "01/13/2020    WA      0                   0         1                 1   \n",
       "\n",
       "            totalTestResults state_cat  \n",
       "date                                    \n",
       "12/14/2020           8221841        AK  \n",
       "12/14/2020          12273763        AL  \n",
       "12/14/2020          13307491        AR  \n",
       "12/14/2020             14980        AS  \n",
       "12/14/2020          31289359        AZ  \n",
       "...                      ...       ...  \n",
       "01/27/2020                26        MA  \n",
       "01/27/2020                 0        WA  \n",
       "01/20/2020                 9        MA  \n",
       "01/20/2020                 0        WA  \n",
       "01/13/2020                 0        WA  \n",
       "\n",
       "[2371 rows x 7 columns]>"
      ]
     },
     "execution_count": 15,
     "metadata": {},
     "output_type": "execute_result"
    }
   ],
   "source": [
    "data2_weeks['state_cat']=data2_weeks['state'].astype('category')\n",
    "data2_weeks.head"
   ]
  },
  {
   "cell_type": "markdown",
   "metadata": {},
   "source": [
    "Then we create a new column called 'state_int' on which we will label encode each state."
   ]
  },
  {
   "cell_type": "code",
   "execution_count": 16,
   "metadata": {},
   "outputs": [
    {
     "data": {
      "text/plain": [
       "<bound method NDFrame.head of            state  death  negativeTestsViral  positive  positiveIncrease  \\\n",
       "date                                                                      \n",
       "12/14/2020    AK   1270             7866561    289610              2675   \n",
       "12/14/2020    AL  29752                   0   2173442             26821   \n",
       "12/14/2020    AR  21759            12149477   1361937             15948   \n",
       "12/14/2020    AS      0                   0         0                 0   \n",
       "12/14/2020    AZ  53714                   0   3053384             45155   \n",
       "...          ...    ...                 ...       ...               ...   \n",
       "01/27/2020    MA      0                   0         0                 0   \n",
       "01/27/2020    WA      0                   0        14                 0   \n",
       "01/20/2020    MA      0                   0         0                 0   \n",
       "01/20/2020    WA      0                   0        13                 1   \n",
       "01/13/2020    WA      0                   0         1                 1   \n",
       "\n",
       "            totalTestResults state_cat  state_int  \n",
       "date                                               \n",
       "12/14/2020           8221841        AK          0  \n",
       "12/14/2020          12273763        AL          1  \n",
       "12/14/2020          13307491        AR          2  \n",
       "12/14/2020             14980        AS          3  \n",
       "12/14/2020          31289359        AZ          4  \n",
       "...                      ...       ...        ...  \n",
       "01/27/2020                26        MA         21  \n",
       "01/27/2020                 0        WA         52  \n",
       "01/20/2020                 9        MA         21  \n",
       "01/20/2020                 0        WA         52  \n",
       "01/13/2020                 0        WA         52  \n",
       "\n",
       "[2371 rows x 8 columns]>"
      ]
     },
     "execution_count": 16,
     "metadata": {},
     "output_type": "execute_result"
    }
   ],
   "source": [
    "data2_weeks['state_int']=data2_weeks['state_cat'].cat.codes\n",
    "data2_weeks.head"
   ]
  },
  {
   "cell_type": "markdown",
   "metadata": {},
   "source": [
    "We can then change every NaN value to 0:"
   ]
  },
  {
   "cell_type": "code",
   "execution_count": 17,
   "metadata": {},
   "outputs": [],
   "source": [
    "data2_weeks = data2_weeks.replace(np.nan, '0', regex=True)"
   ]
  },
  {
   "cell_type": "markdown",
   "metadata": {},
   "source": [
    "We then can create a new data frame with only integer:"
   ]
  },
  {
   "cell_type": "code",
   "execution_count": 18,
   "metadata": {},
   "outputs": [],
   "source": [
    "data2_weeks_int=data2_weeks.filter(['state_int', 'negativeTestsViral', 'positive', 'positiveIncrease','totalTestResults', 'death'],axis=1)"
   ]
  },
  {
   "cell_type": "markdown",
   "metadata": {},
   "source": [
    "We then normalize the values:"
   ]
  },
  {
   "cell_type": "code",
   "execution_count": 19,
   "metadata": {},
   "outputs": [
    {
     "data": {
      "text/plain": [
       "<bound method NDFrame.head of       state_int  negativeTestsViral      positive  positiveIncrease  \\\n",
       "0      0.000000            0.100730  2.408666e-02          0.027053   \n",
       "1      0.018182            0.000000  1.807636e-01          0.105358   \n",
       "2      0.036364            0.155572  1.132713e-01          0.070097   \n",
       "3      0.054545            0.000000  0.000000e+00          0.018378   \n",
       "4      0.072727            0.000000  2.539478e-01          0.164815   \n",
       "...         ...                 ...           ...               ...   \n",
       "2366   0.381818            0.000000  0.000000e+00          0.018378   \n",
       "2367   0.945455            0.000000  1.164370e-06          0.018378   \n",
       "2368   0.381818            0.000000  0.000000e+00          0.018378   \n",
       "2369   0.945455            0.000000  1.081201e-06          0.018381   \n",
       "2370   0.945455            0.000000  8.316929e-08          0.018381   \n",
       "\n",
       "      totalTestResults     death  \n",
       "0         4.124914e-02  0.006427  \n",
       "1         6.157772e-02  0.150559  \n",
       "2         6.676395e-02  0.110111  \n",
       "3         7.515496e-05  0.000000  \n",
       "4         1.569793e-01  0.271818  \n",
       "...                ...       ...  \n",
       "2366      1.304425e-07  0.000000  \n",
       "2367      0.000000e+00  0.000000  \n",
       "2368      4.515318e-08  0.000000  \n",
       "2369      0.000000e+00  0.000000  \n",
       "2370      0.000000e+00  0.000000  \n",
       "\n",
       "[2371 rows x 6 columns]>"
      ]
     },
     "execution_count": 19,
     "metadata": {},
     "output_type": "execute_result"
    }
   ],
   "source": [
    "scaler = MinMaxScaler()\n",
    "data2_weeks_norm = pd.DataFrame(scaler.fit_transform(data2_weeks_int), columns=data2_weeks_int.columns)\n",
    "data2_weeks_norm.head"
   ]
  },
  {
   "cell_type": "markdown",
   "metadata": {},
   "source": [
    "Now we will create the X and y datasets for both the train and test:"
   ]
  },
  {
   "cell_type": "code",
   "execution_count": 20,
   "metadata": {},
   "outputs": [],
   "source": [
    "X=data2_weeks_norm.filter(['state_int', 'positive', 'positiveIncrease'],axis=1)\n",
    "y=data2_weeks_norm['death']"
   ]
  },
  {
   "cell_type": "code",
   "execution_count": 21,
   "metadata": {},
   "outputs": [],
   "source": [
    "X_train, X_test, y_train, y_test = train_test_split(X, y, test_size= 0.3)"
   ]
  },
  {
   "cell_type": "code",
   "execution_count": 22,
   "metadata": {},
   "outputs": [
    {
     "data": {
      "text/plain": [
       "<bound method NDFrame.head of 1836    0.010855\n",
       "1104    0.012130\n",
       "584     0.254542\n",
       "550     0.100936\n",
       "1492    0.017292\n",
       "          ...   \n",
       "2338    0.000734\n",
       "340     0.215414\n",
       "2252    0.000000\n",
       "1582    0.020546\n",
       "2039    0.000541\n",
       "Name: death, Length: 1659, dtype: float64>"
      ]
     },
     "execution_count": 22,
     "metadata": {},
     "output_type": "execute_result"
    }
   ],
   "source": [
    "y_train.head"
   ]
  },
  {
   "cell_type": "markdown",
   "metadata": {},
   "source": [
    "We will create a regression model:"
   ]
  },
  {
   "cell_type": "code",
   "execution_count": 23,
   "metadata": {},
   "outputs": [
    {
     "name": "stdout",
     "output_type": "stream",
     "text": [
      "LinearRegression()\n",
      "0.6778174779878183\n"
     ]
    }
   ],
   "source": [
    "regr_model = linear_model.LinearRegression()\n",
    "regr_model = regr_model.fit(X_train, y_train)\n",
    "score=regr_model.score(X_test,y_test)\n",
    "print(regr_model)\n",
    "\n",
    "print(score)\n"
   ]
  },
  {
   "cell_type": "code",
   "execution_count": 24,
   "metadata": {},
   "outputs": [
    {
     "data": {
      "text/plain": [
       "array([0.5602119 , 0.67290294, 0.55497907, 0.27891648])"
      ]
     },
     "execution_count": 24,
     "metadata": {},
     "output_type": "execute_result"
    }
   ],
   "source": [
    "scores=cross_val_score(regr_model, X,y,cv=4)\n",
    "scores"
   ]
  },
  {
   "cell_type": "code",
   "execution_count": 25,
   "metadata": {},
   "outputs": [
    {
     "name": "stdout",
     "output_type": "stream",
     "text": [
      "0.52 accuracy with a standard deviation of 0.15\n"
     ]
    }
   ],
   "source": [
    "print(\"%0.2f accuracy with a standard deviation of %0.2f\" % (scores.mean(), scores.std()))"
   ]
  },
  {
   "cell_type": "markdown",
   "metadata": {},
   "source": [
    "As seen, the model has a score of 0.74 ."
   ]
  },
  {
   "cell_type": "markdown",
   "metadata": {},
   "source": [
    "We will create a Support Vector Regression (SVR):"
   ]
  },
  {
   "cell_type": "code",
   "execution_count": 26,
   "metadata": {},
   "outputs": [
    {
     "name": "stdout",
     "output_type": "stream",
     "text": [
      "0.7874135797901639\n",
      "0.7384460564275626\n"
     ]
    }
   ],
   "source": [
    "svr = SVR()\n",
    "svr.fit(X_train, y_train)\n",
    "prev = svr.predict(X_test)\n",
    "print(svr.score(X_train, y_train))\n",
    "print(svr.score(X_test, y_test))"
   ]
  },
  {
   "cell_type": "markdown",
   "metadata": {},
   "source": [
    "As seen, the model has a test score of 0.758 ."
   ]
  },
  {
   "cell_type": "markdown",
   "metadata": {},
   "source": [
    "We will now join both datasets but after we ponder about it, it was decided that we will join the whole secondary dataset and as such we will need to transform all columns to weekly."
   ]
  },
  {
   "cell_type": "code",
   "execution_count": 65,
   "metadata": {},
   "outputs": [
    {
     "data": {
      "text/plain": [
       "<bound method NDFrame.head of            state  death  deathConfirmed  deathIncrease  deathProbable  \\\n",
       "date                                                                    \n",
       "12/14/2020    AK    184             184              8              0   \n",
       "12/14/2020    AL   4389            3849            287            540   \n",
       "12/14/2020    AR   3237            2842            292            395   \n",
       "12/14/2020    AS      0               0              0              0   \n",
       "12/14/2020    AZ   7971            7277            614            694   \n",
       "...          ...    ...             ...            ...            ...   \n",
       "01/27/2020    MA      0               0              0              0   \n",
       "01/27/2020    WA      0               0              0              0   \n",
       "01/20/2020    MA      0               0              0              0   \n",
       "01/20/2020    WA      0               0              0              0   \n",
       "01/13/2020    WA      0               0              0              0   \n",
       "\n",
       "            hospitalized  hospitalizedCumulative  hospitalizedCurrently  \\\n",
       "date                                                                      \n",
       "12/14/2020           935                     935                    127   \n",
       "12/14/2020         30224                   30224                   2337   \n",
       "12/14/2020         10502                   10502                   1061   \n",
       "12/14/2020             0                       0                      0   \n",
       "12/14/2020         33037                   33037                   3899   \n",
       "...                  ...                     ...                    ...   \n",
       "01/27/2020             0                       0                      0   \n",
       "01/27/2020             0                       0                      0   \n",
       "01/20/2020             0                       0                      0   \n",
       "01/20/2020             0                       0                      0   \n",
       "01/13/2020             0                       0                      0   \n",
       "\n",
       "            hospitalizedIncrease  inIcuCumulative  ...  totalTestResults  \\\n",
       "date                                               ...                     \n",
       "12/14/2020                    49                0  ...           1196506   \n",
       "12/14/2020                  2078             2390  ...           1783890   \n",
       "12/14/2020                   575                0  ...           1940240   \n",
       "12/14/2020                     0                0  ...              2140   \n",
       "12/14/2020                  2088                0  ...           4620819   \n",
       "...                          ...              ...  ...               ...   \n",
       "01/27/2020                     0                0  ...                 4   \n",
       "01/27/2020                     0                0  ...                 0   \n",
       "01/20/2020                     0                0  ...                 2   \n",
       "01/20/2020                     0                0  ...                 0   \n",
       "01/13/2020                     0                0  ...                 0   \n",
       "\n",
       "            totalTestResultsIncrease  totalTestsAntibody  totalTestsAntigen  \\\n",
       "date                                                                          \n",
       "12/14/2020                     53408                   0                  0   \n",
       "12/14/2020                     87451                   0                  0   \n",
       "12/14/2020                     84536                   0              21856   \n",
       "12/14/2020                         0                   0                  0   \n",
       "12/14/2020                    314931              383896                  0   \n",
       "...                              ...                 ...                ...   \n",
       "01/27/2020                         2                   0                  0   \n",
       "01/27/2020                         0                   0                  0   \n",
       "01/20/2020                         0                   0                  0   \n",
       "01/20/2020                         0                   0                  0   \n",
       "01/13/2020                         0                   0                  0   \n",
       "\n",
       "            totalTestsPeopleAntibody  totalTestsPeopleAntigen  \\\n",
       "date                                                            \n",
       "12/14/2020                         0                        0   \n",
       "12/14/2020                     82020                        0   \n",
       "12/14/2020                         0                   205000   \n",
       "12/14/2020                         0                        0   \n",
       "12/14/2020                         0                        0   \n",
       "...                              ...                      ...   \n",
       "01/27/2020                         0                        0   \n",
       "01/27/2020                         0                        0   \n",
       "01/20/2020                         0                        0   \n",
       "01/20/2020                         0                        0   \n",
       "01/13/2020                         0                        0   \n",
       "\n",
       "            totalTestsPeopleViral  totalTestsPeopleViralIncrease  \\\n",
       "date                                                               \n",
       "12/14/2020                      0                              0   \n",
       "12/14/2020                1783890                          87451   \n",
       "12/14/2020                      0                              0   \n",
       "12/14/2020                      0                              0   \n",
       "12/14/2020                2648988                         136292   \n",
       "...                           ...                            ...   \n",
       "01/27/2020                      0                              0   \n",
       "01/27/2020                      0                              0   \n",
       "01/20/2020                      0                              0   \n",
       "01/20/2020                      0                              0   \n",
       "01/13/2020                      0                              0   \n",
       "\n",
       "            totalTestsViral  totalTestsViralIncrease  \n",
       "date                                                  \n",
       "12/14/2020          1196506                    53408  \n",
       "12/14/2020                0                        0  \n",
       "12/14/2020          1940240                    84536  \n",
       "12/14/2020             2140                        0  \n",
       "12/14/2020          4620819                   314931  \n",
       "...                     ...                      ...  \n",
       "01/27/2020                4                        2  \n",
       "01/27/2020                0                        0  \n",
       "01/20/2020                2                        0  \n",
       "01/20/2020                0                        0  \n",
       "01/13/2020                0                        0  \n",
       "\n",
       "[2371 rows x 40 columns]>"
      ]
     },
     "execution_count": 65,
     "metadata": {},
     "output_type": "execute_result"
    }
   ],
   "source": [
    "data2_final = pd.read_csv('all-states-history_final.csv',sep=',', index_col = 0, na_values = \"na\")\n",
    "data2_final.head"
   ]
  },
  {
   "cell_type": "code",
   "execution_count": 66,
   "metadata": {},
   "outputs": [
    {
     "data": {
      "text/plain": [
       "<bound method NDFrame.head of            state  death  deathConfirmed  deathIncrease  deathProbable  \\\n",
       "date                                                                    \n",
       "01/13/2020    WA      0               0              0              0   \n",
       "01/20/2020    WA      0               0              0              0   \n",
       "01/20/2020    MA      0               0              0              0   \n",
       "01/27/2020    WA      0               0              0              0   \n",
       "01/27/2020    MA      0               0              0              0   \n",
       "...          ...    ...             ...            ...            ...   \n",
       "12/14/2020    AZ   7971            7277            614            694   \n",
       "12/14/2020    AS      0               0              0              0   \n",
       "12/14/2020    AR   3237            2842            292            395   \n",
       "12/14/2020    AL   4389            3849            287            540   \n",
       "12/14/2020    AK    184             184              8              0   \n",
       "\n",
       "            hospitalized  hospitalizedCumulative  hospitalizedCurrently  \\\n",
       "date                                                                      \n",
       "01/13/2020             0                       0                      0   \n",
       "01/20/2020             0                       0                      0   \n",
       "01/20/2020             0                       0                      0   \n",
       "01/27/2020             0                       0                      0   \n",
       "01/27/2020             0                       0                      0   \n",
       "...                  ...                     ...                    ...   \n",
       "12/14/2020         33037                   33037                   3899   \n",
       "12/14/2020             0                       0                      0   \n",
       "12/14/2020         10502                   10502                   1061   \n",
       "12/14/2020         30224                   30224                   2337   \n",
       "12/14/2020           935                     935                    127   \n",
       "\n",
       "            hospitalizedIncrease  inIcuCumulative  ...  totalTestResults  \\\n",
       "date                                               ...                     \n",
       "01/13/2020                     0                0  ...                 0   \n",
       "01/20/2020                     0                0  ...                 0   \n",
       "01/20/2020                     0                0  ...                 2   \n",
       "01/27/2020                     0                0  ...                 0   \n",
       "01/27/2020                     0                0  ...                 4   \n",
       "...                          ...              ...  ...               ...   \n",
       "12/14/2020                  2088                0  ...           4620819   \n",
       "12/14/2020                     0                0  ...              2140   \n",
       "12/14/2020                   575                0  ...           1940240   \n",
       "12/14/2020                  2078             2390  ...           1783890   \n",
       "12/14/2020                    49                0  ...           1196506   \n",
       "\n",
       "            totalTestResultsIncrease  totalTestsAntibody  totalTestsAntigen  \\\n",
       "date                                                                          \n",
       "01/13/2020                         0                   0                  0   \n",
       "01/20/2020                         0                   0                  0   \n",
       "01/20/2020                         0                   0                  0   \n",
       "01/27/2020                         0                   0                  0   \n",
       "01/27/2020                         2                   0                  0   \n",
       "...                              ...                 ...                ...   \n",
       "12/14/2020                    314931              383896                  0   \n",
       "12/14/2020                         0                   0                  0   \n",
       "12/14/2020                     84536                   0              21856   \n",
       "12/14/2020                     87451                   0                  0   \n",
       "12/14/2020                     53408                   0                  0   \n",
       "\n",
       "            totalTestsPeopleAntibody  totalTestsPeopleAntigen  \\\n",
       "date                                                            \n",
       "01/13/2020                         0                        0   \n",
       "01/20/2020                         0                        0   \n",
       "01/20/2020                         0                        0   \n",
       "01/27/2020                         0                        0   \n",
       "01/27/2020                         0                        0   \n",
       "...                              ...                      ...   \n",
       "12/14/2020                         0                        0   \n",
       "12/14/2020                         0                        0   \n",
       "12/14/2020                         0                   205000   \n",
       "12/14/2020                     82020                        0   \n",
       "12/14/2020                         0                        0   \n",
       "\n",
       "            totalTestsPeopleViral  totalTestsPeopleViralIncrease  \\\n",
       "date                                                               \n",
       "01/13/2020                      0                              0   \n",
       "01/20/2020                      0                              0   \n",
       "01/20/2020                      0                              0   \n",
       "01/27/2020                      0                              0   \n",
       "01/27/2020                      0                              0   \n",
       "...                           ...                            ...   \n",
       "12/14/2020                2648988                         136292   \n",
       "12/14/2020                      0                              0   \n",
       "12/14/2020                      0                              0   \n",
       "12/14/2020                1783890                          87451   \n",
       "12/14/2020                      0                              0   \n",
       "\n",
       "            totalTestsViral  totalTestsViralIncrease  \n",
       "date                                                  \n",
       "01/13/2020                0                        0  \n",
       "01/20/2020                0                        0  \n",
       "01/20/2020                2                        0  \n",
       "01/27/2020                0                        0  \n",
       "01/27/2020                4                        2  \n",
       "...                     ...                      ...  \n",
       "12/14/2020          4620819                   314931  \n",
       "12/14/2020             2140                        0  \n",
       "12/14/2020          1940240                    84536  \n",
       "12/14/2020                0                        0  \n",
       "12/14/2020          1196506                    53408  \n",
       "\n",
       "[2371 rows x 40 columns]>"
      ]
     },
     "execution_count": 66,
     "metadata": {},
     "output_type": "execute_result"
    }
   ],
   "source": [
    "data2_final = data2_final.iloc[::-1]\n",
    "data2_final.head"
   ]
  },
  {
   "cell_type": "code",
   "execution_count": 67,
   "metadata": {},
   "outputs": [
    {
     "data": {
      "text/plain": [
       "<bound method NDFrame.head of            state  death  deathConfirmed  deathIncrease  deathProbable  \\\n",
       "01/13/2020    WA    0.0             0.0            0.0            0.0   \n",
       "01/20/2020    WA    0.0             0.0            0.0            0.0   \n",
       "01/20/2020    MA    0.0             0.0            0.0            0.0   \n",
       "01/27/2020    WA    0.0             0.0            0.0            0.0   \n",
       "01/27/2020    MA    0.0             0.0            0.0            0.0   \n",
       "...          ...    ...             ...            ...            ...   \n",
       "11/25/2020   NaN    NaN             NaN            NaN            NaN   \n",
       "11/25/2020   NaN    NaN             NaN            NaN            NaN   \n",
       "11/25/2020   NaN    NaN             NaN            NaN            NaN   \n",
       "11/25/2020   NaN    NaN             NaN            NaN            NaN   \n",
       "11/25/2020   NaN    NaN             NaN            NaN            NaN   \n",
       "\n",
       "            hospitalized  hospitalizedCumulative  hospitalizedCurrently  \\\n",
       "01/13/2020           0.0                     0.0                    0.0   \n",
       "01/20/2020           0.0                     0.0                    0.0   \n",
       "01/20/2020           0.0                     0.0                    0.0   \n",
       "01/27/2020           0.0                     0.0                    0.0   \n",
       "01/27/2020           0.0                     0.0                    0.0   \n",
       "...                  ...                     ...                    ...   \n",
       "11/25/2020           NaN                     NaN                    NaN   \n",
       "11/25/2020           NaN                     NaN                    NaN   \n",
       "11/25/2020           NaN                     NaN                    NaN   \n",
       "11/25/2020           NaN                     NaN                    NaN   \n",
       "11/25/2020           NaN                     NaN                    NaN   \n",
       "\n",
       "            hospitalizedIncrease  inIcuCumulative  ...  totalTestsPeopleViral  \\\n",
       "01/13/2020                   0.0              0.0  ...                    0.0   \n",
       "01/20/2020                   0.0              0.0  ...                    0.0   \n",
       "01/20/2020                   0.0              0.0  ...                    0.0   \n",
       "01/27/2020                   0.0              0.0  ...                    0.0   \n",
       "01/27/2020                   0.0              0.0  ...                    0.0   \n",
       "...                          ...              ...  ...                    ...   \n",
       "11/25/2020                   NaN              NaN  ...                    NaN   \n",
       "11/25/2020                   NaN              NaN  ...                    NaN   \n",
       "11/25/2020                   NaN              NaN  ...                    NaN   \n",
       "11/25/2020                   NaN              NaN  ...                    NaN   \n",
       "11/25/2020                   NaN              NaN  ...                    NaN   \n",
       "\n",
       "            totalTestsPeopleViralIncrease  totalTestsViral  \\\n",
       "01/13/2020                            0.0              0.0   \n",
       "01/20/2020                            0.0              0.0   \n",
       "01/20/2020                            0.0              2.0   \n",
       "01/27/2020                            0.0              0.0   \n",
       "01/27/2020                            0.0              4.0   \n",
       "...                                   ...              ...   \n",
       "11/25/2020                            NaN              NaN   \n",
       "11/25/2020                            NaN              NaN   \n",
       "11/25/2020                            NaN              NaN   \n",
       "11/25/2020                            NaN              NaN   \n",
       "11/25/2020                            NaN              NaN   \n",
       "\n",
       "            totalTestsViralIncrease  Start Week   Jurisdiction  Age Group  \\\n",
       "01/13/2020                      0.0         NaN            NaN        NaN   \n",
       "01/20/2020                      0.0         NaN            NaN        NaN   \n",
       "01/20/2020                      0.0         NaN            NaN        NaN   \n",
       "01/27/2020                      0.0         NaN            NaN        NaN   \n",
       "01/27/2020                      2.0         NaN            NaN        NaN   \n",
       "...                             ...         ...            ...        ...   \n",
       "11/25/2020                      NaN  11/21/2020   HHS Region 6   All Ages   \n",
       "11/25/2020                      NaN  11/21/2020   HHS Region 7   All Ages   \n",
       "11/25/2020                      NaN  11/21/2020   HHS Region 8   All Ages   \n",
       "11/25/2020                      NaN  11/21/2020   HHS Region 9   All Ages   \n",
       "11/25/2020                      NaN  11/21/2020  HHS Region 10   All Ages   \n",
       "\n",
       "            COVID-19 Deaths  Pneumonia Deaths  Influenza Deaths  \n",
       "01/13/2020              NaN               NaN               NaN  \n",
       "01/20/2020              NaN               NaN               NaN  \n",
       "01/20/2020              NaN               NaN               NaN  \n",
       "01/27/2020              NaN               NaN               NaN  \n",
       "01/27/2020              NaN               NaN               NaN  \n",
       "...                     ...               ...               ...  \n",
       "11/25/2020             93.0             107.0               0.0  \n",
       "11/25/2020            138.0              96.0               0.0  \n",
       "11/25/2020             31.0              31.0               0.0  \n",
       "11/25/2020             71.0             182.0               NaN  \n",
       "11/25/2020             28.0              47.0               0.0  \n",
       "\n",
       "[5080 rows x 46 columns]>"
      ]
     },
     "execution_count": 67,
     "metadata": {},
     "output_type": "execute_result"
    }
   ],
   "source": [
    "data_final = data2_final.append(data_age)\n",
    "data_final.head"
   ]
  },
  {
   "cell_type": "code",
   "execution_count": 68,
   "metadata": {},
   "outputs": [
    {
     "data": {
      "text/plain": [
       "Index(['state', 'death', 'deathConfirmed', 'deathIncrease', 'deathProbable',\n",
       "       'hospitalized', 'hospitalizedCumulative', 'hospitalizedCurrently',\n",
       "       'hospitalizedIncrease', 'inIcuCumulative', 'inIcuCurrently', 'negative',\n",
       "       'negativeIncrease', 'negativeTestsAntibody',\n",
       "       'negativeTestsPeopleAntibody', 'negativeTestsViral',\n",
       "       'onVentilatorCumulative', 'onVentilatorCurrently', 'positive',\n",
       "       'positiveCasesViral', 'positiveIncrease', 'positiveScore',\n",
       "       'positiveTestsAntibody', 'positiveTestsAntigen',\n",
       "       'positiveTestsPeopleAntibody', 'positiveTestsPeopleAntigen',\n",
       "       'positiveTestsViral', 'recovered', 'totalTestEncountersViral',\n",
       "       'totalTestEncountersViralIncrease', 'totalTestResults',\n",
       "       'totalTestResultsIncrease', 'totalTestsAntibody', 'totalTestsAntigen',\n",
       "       'totalTestsPeopleAntibody', 'totalTestsPeopleAntigen',\n",
       "       'totalTestsPeopleViral', 'totalTestsPeopleViralIncrease',\n",
       "       'totalTestsViral', 'totalTestsViralIncrease', 'Start Week',\n",
       "       'Jurisdiction', 'Age Group', 'COVID-19 Deaths', 'Pneumonia Deaths',\n",
       "       'Influenza Deaths'],\n",
       "      dtype='object')"
      ]
     },
     "execution_count": 68,
     "metadata": {},
     "output_type": "execute_result"
    }
   ],
   "source": [
    "data_final.columns"
   ]
  },
  {
   "cell_type": "code",
   "execution_count": 69,
   "metadata": {},
   "outputs": [
    {
     "data": {
      "text/plain": [
       "<bound method NDFrame.head of              Jurisdiction  death  Pneumonia Deaths  Influenza Deaths  \\\n",
       "01/13/2020            NaN    0.0               NaN               NaN   \n",
       "01/20/2020            NaN    0.0               NaN               NaN   \n",
       "01/20/2020            NaN    0.0               NaN               NaN   \n",
       "01/27/2020            NaN    0.0               NaN               NaN   \n",
       "01/27/2020            NaN    0.0               NaN               NaN   \n",
       "...                   ...    ...               ...               ...   \n",
       "11/25/2020   HHS Region 6    NaN             107.0               0.0   \n",
       "11/25/2020   HHS Region 7    NaN              96.0               0.0   \n",
       "11/25/2020   HHS Region 8    NaN              31.0               0.0   \n",
       "11/25/2020   HHS Region 9    NaN             182.0               NaN   \n",
       "11/25/2020  HHS Region 10    NaN              47.0               0.0   \n",
       "\n",
       "            hospitalized  hospitalizedCumulative  hospitalizedCurrently  \\\n",
       "01/13/2020           0.0                     0.0                    0.0   \n",
       "01/20/2020           0.0                     0.0                    0.0   \n",
       "01/20/2020           0.0                     0.0                    0.0   \n",
       "01/27/2020           0.0                     0.0                    0.0   \n",
       "01/27/2020           0.0                     0.0                    0.0   \n",
       "...                  ...                     ...                    ...   \n",
       "11/25/2020           NaN                     NaN                    NaN   \n",
       "11/25/2020           NaN                     NaN                    NaN   \n",
       "11/25/2020           NaN                     NaN                    NaN   \n",
       "11/25/2020           NaN                     NaN                    NaN   \n",
       "11/25/2020           NaN                     NaN                    NaN   \n",
       "\n",
       "            hospitalizedIncrease  \n",
       "01/13/2020                   0.0  \n",
       "01/20/2020                   0.0  \n",
       "01/20/2020                   0.0  \n",
       "01/27/2020                   0.0  \n",
       "01/27/2020                   0.0  \n",
       "...                          ...  \n",
       "11/25/2020                   NaN  \n",
       "11/25/2020                   NaN  \n",
       "11/25/2020                   NaN  \n",
       "11/25/2020                   NaN  \n",
       "11/25/2020                   NaN  \n",
       "\n",
       "[5080 rows x 8 columns]>"
      ]
     },
     "execution_count": 69,
     "metadata": {},
     "output_type": "execute_result"
    }
   ],
   "source": [
    "data_final_model=data_final.filter(['Jurisdiction','death', \n",
    "                                    'Pneumonia Deaths', 'Influenza Deaths','hospitalized', 'hospitalizedCumulative', 'hospitalizedCurrently',\n",
    "                                    'hospitalizedIncrease'])\n",
    "data_final_model.head"
   ]
  },
  {
   "cell_type": "code",
   "execution_count": 70,
   "metadata": {},
   "outputs": [
    {
     "data": {
      "text/plain": [
       "0"
      ]
     },
     "execution_count": 70,
     "metadata": {},
     "output_type": "execute_result"
    }
   ],
   "source": [
    "data_final_model = data_final_model.replace(np.nan, '-1', regex=True)\n",
    "data_final_model.isnull().sum().sum()"
   ]
  },
  {
   "cell_type": "code",
   "execution_count": 71,
   "metadata": {},
   "outputs": [
    {
     "data": {
      "text/plain": [
       "Index(['Jurisdiction_int', 'death', 'Pneumonia Deaths', 'Influenza Deaths',\n",
       "       'hospitalized', 'hospitalizedCumulative', 'hospitalizedCurrently',\n",
       "       'hospitalizedIncrease'],\n",
       "      dtype='object')"
      ]
     },
     "execution_count": 71,
     "metadata": {},
     "output_type": "execute_result"
    }
   ],
   "source": [
    "data_final_model['Jurisdiction_cat']=data_final_model['Jurisdiction'].astype('category')\n",
    "data_final_model['Jurisdiction_int']=data_final_model['Jurisdiction_cat'].cat.codes\n",
    "data_final_model=data_final_model.filter(['Jurisdiction_int','death', \n",
    "                                    'Pneumonia Deaths', 'Influenza Deaths','hospitalized', 'hospitalizedCumulative', 'hospitalizedCurrently',\n",
    "                                    'hospitalizedIncrease'])\n",
    "data_final_model.columns"
   ]
  },
  {
   "cell_type": "code",
   "execution_count": 72,
   "metadata": {},
   "outputs": [
    {
     "data": {
      "text/plain": [
       "<bound method NDFrame.head of       Jurisdiction_int     death  Pneumonia Deaths  Influenza Deaths  \\\n",
       "0             0.000000  0.000035          0.000000          0.000000   \n",
       "1             0.000000  0.000035          0.000000          0.000000   \n",
       "2             0.000000  0.000035          0.000000          0.000000   \n",
       "3             0.000000  0.000035          0.000000          0.000000   \n",
       "4             0.000000  0.000035          0.000000          0.000000   \n",
       "...                ...       ...               ...               ...   \n",
       "5075          0.285714  0.000000          0.009020          0.001527   \n",
       "5076          0.301587  0.000000          0.008102          0.001527   \n",
       "5077          0.317460  0.000000          0.002673          0.001527   \n",
       "5078          0.333333  0.000000          0.015284          0.000000   \n",
       "5079          0.206349  0.000000          0.004009          0.001527   \n",
       "\n",
       "      hospitalized  hospitalizedCumulative  hospitalizedCurrently  \\\n",
       "0         0.000011                0.000011               0.000053   \n",
       "1         0.000011                0.000011               0.000053   \n",
       "2         0.000011                0.000011               0.000053   \n",
       "3         0.000011                0.000011               0.000053   \n",
       "4         0.000011                0.000011               0.000053   \n",
       "...            ...                     ...                    ...   \n",
       "5075      0.000000                0.000000               0.000000   \n",
       "5076      0.000000                0.000000               0.000000   \n",
       "5077      0.000000                0.000000               0.000000   \n",
       "5078      0.000000                0.000000               0.000000   \n",
       "5079      0.000000                0.000000               0.000000   \n",
       "\n",
       "      hospitalizedIncrease  \n",
       "0                 0.127698  \n",
       "1                 0.127698  \n",
       "2                 0.127698  \n",
       "3                 0.127698  \n",
       "4                 0.127698  \n",
       "...                    ...  \n",
       "5075              0.127654  \n",
       "5076              0.127654  \n",
       "5077              0.127654  \n",
       "5078              0.127654  \n",
       "5079              0.127654  \n",
       "\n",
       "[5080 rows x 8 columns]>"
      ]
     },
     "execution_count": 72,
     "metadata": {},
     "output_type": "execute_result"
    }
   ],
   "source": [
    "scaler = MinMaxScaler()\n",
    "data_final_model_norm = pd.DataFrame(scaler.fit_transform(data_final_model), columns=data_final_model.columns)\n",
    "data_final_model_norm.head"
   ]
  },
  {
   "cell_type": "code",
   "execution_count": 91,
   "metadata": {},
   "outputs": [],
   "source": [
    "X=data_final_model.filter(['Jurisdiction_int', 'hospitalized', 'hospitalizedCumulative',\n",
    "       'hospitalizedCurrently', 'hospitalizedIncrease'],axis=1)\n",
    "y=data_final_model.filter(['death'])"
   ]
  },
  {
   "cell_type": "code",
   "execution_count": 88,
   "metadata": {},
   "outputs": [],
   "source": [
    "X_train, X_test, y_train, y_test = train_test_split(X, y, test_size= 0.3)"
   ]
  },
  {
   "cell_type": "code",
   "execution_count": 89,
   "metadata": {},
   "outputs": [
    {
     "name": "stdout",
     "output_type": "stream",
     "text": [
      "LinearRegression()\n",
      "0.7895981857679609\n"
     ]
    }
   ],
   "source": [
    "regr_model = linear_model.LinearRegression()\n",
    "regr_model = regr_model.fit(X_train, y_train)\n",
    "score=regr_model.score(X_test,y_test)\n",
    "print(regr_model)\n",
    "\n",
    "print(score)"
   ]
  },
  {
   "cell_type": "code",
   "execution_count": 76,
   "metadata": {},
   "outputs": [
    {
     "data": {
      "text/plain": [
       "array([0.56466637, 0.62457853, 0.81097913, 0.        , 0.        ])"
      ]
     },
     "execution_count": 76,
     "metadata": {},
     "output_type": "execute_result"
    }
   ],
   "source": [
    "from sklearn.model_selection import cross_val_score\n",
    "\n",
    "scores=cross_val_score(regr_model, X,y,cv=5)\n",
    "scores"
   ]
  },
  {
   "cell_type": "code",
   "execution_count": 77,
   "metadata": {},
   "outputs": [
    {
     "name": "stdout",
     "output_type": "stream",
     "text": [
      "0.40 accuracy with a standard deviation of 0.34\n"
     ]
    }
   ],
   "source": [
    "print(\"%0.2f accuracy with a standard deviation of %0.2f\" % (scores.mean(), scores.std()))"
   ]
  },
  {
   "cell_type": "code",
   "execution_count": 78,
   "metadata": {},
   "outputs": [
    {
     "name": "stderr",
     "output_type": "stream",
     "text": [
      "C:\\Users\\Samuel\\.conda\\envs\\keras\\lib\\site-packages\\sklearn\\utils\\validation.py:72: DataConversionWarning: A column-vector y was passed when a 1d array was expected. Please change the shape of y to (n_samples, ), for example using ravel().\n",
      "  return f(**kwargs)\n"
     ]
    },
    {
     "name": "stdout",
     "output_type": "stream",
     "text": [
      "-0.0664723214230607\n",
      "-0.056580655528601254\n"
     ]
    },
    {
     "name": "stderr",
     "output_type": "stream",
     "text": [
      "C:\\Users\\Samuel\\.conda\\envs\\keras\\lib\\site-packages\\sklearn\\utils\\validation.py:72: DataConversionWarning: A column-vector y was passed when a 1d array was expected. Please change the shape of y to (n_samples, ), for example using ravel().\n",
      "  return f(**kwargs)\n",
      "C:\\Users\\Samuel\\.conda\\envs\\keras\\lib\\site-packages\\sklearn\\utils\\validation.py:72: DataConversionWarning: A column-vector y was passed when a 1d array was expected. Please change the shape of y to (n_samples, ), for example using ravel().\n",
      "  return f(**kwargs)\n",
      "C:\\Users\\Samuel\\.conda\\envs\\keras\\lib\\site-packages\\sklearn\\utils\\validation.py:72: DataConversionWarning: A column-vector y was passed when a 1d array was expected. Please change the shape of y to (n_samples, ), for example using ravel().\n",
      "  return f(**kwargs)\n",
      "C:\\Users\\Samuel\\.conda\\envs\\keras\\lib\\site-packages\\sklearn\\utils\\validation.py:72: DataConversionWarning: A column-vector y was passed when a 1d array was expected. Please change the shape of y to (n_samples, ), for example using ravel().\n",
      "  return f(**kwargs)\n",
      "C:\\Users\\Samuel\\.conda\\envs\\keras\\lib\\site-packages\\sklearn\\utils\\validation.py:72: DataConversionWarning: A column-vector y was passed when a 1d array was expected. Please change the shape of y to (n_samples, ), for example using ravel().\n",
      "  return f(**kwargs)\n"
     ]
    },
    {
     "data": {
      "text/plain": [
       "array([-0.06149579, -0.37923701, -0.08765323,  0.        ,  0.        ])"
      ]
     },
     "execution_count": 78,
     "metadata": {},
     "output_type": "execute_result"
    }
   ],
   "source": [
    "svr = SVR()\n",
    "svr_fit=svr.fit(X_train, y_train)\n",
    "prev = svr.predict(X_test)\n",
    "print(svr.score(X_train, y_train))\n",
    "print(svr.score(X_test, y_test))\n",
    "#score_svr=svr.score(X_test, y_test)\n",
    "scores_svr=cross_val_score(svr_fit, X,y, cv=5)\n",
    "scores_svr"
   ]
  },
  {
   "cell_type": "code",
   "execution_count": 79,
   "metadata": {},
   "outputs": [
    {
     "name": "stdout",
     "output_type": "stream",
     "text": [
      "-0.11 accuracy with a standard deviation of 0.14\n"
     ]
    }
   ],
   "source": [
    "print(\"%0.2f accuracy with a standard deviation of %0.2f\" % (scores_svr.mean(), scores_svr.std()))"
   ]
  },
  {
   "cell_type": "code",
   "execution_count": 80,
   "metadata": {},
   "outputs": [
    {
     "data": {
      "text/plain": [
       "(3556, 1)"
      ]
     },
     "execution_count": 80,
     "metadata": {},
     "output_type": "execute_result"
    }
   ],
   "source": [
    "y_train.shape"
   ]
  },
  {
   "cell_type": "code",
   "execution_count": 81,
   "metadata": {},
   "outputs": [
    {
     "ename": "TypeError",
     "evalue": "__init__() missing 1 required positional argument: 'input_dim'",
     "output_type": "error",
     "traceback": [
      "\u001b[1;31m---------------------------------------------------------------------------\u001b[0m",
      "\u001b[1;31mTypeError\u001b[0m                                 Traceback (most recent call last)",
      "\u001b[1;32m<ipython-input-81-fff035972d11>\u001b[0m in \u001b[0;36m<module>\u001b[1;34m\u001b[0m\n\u001b[0;32m      1\u001b[0m \u001b[0mmodel_lstm\u001b[0m \u001b[1;33m=\u001b[0m \u001b[0mSequential\u001b[0m\u001b[1;33m(\u001b[0m\u001b[1;33m)\u001b[0m\u001b[1;33m\u001b[0m\u001b[1;33m\u001b[0m\u001b[0m\n\u001b[1;32m----> 2\u001b[1;33m \u001b[0mmodel_lstm\u001b[0m\u001b[1;33m.\u001b[0m\u001b[0madd\u001b[0m\u001b[1;33m(\u001b[0m\u001b[0mEmbedding\u001b[0m\u001b[1;33m(\u001b[0m\u001b[0moutput_dim\u001b[0m \u001b[1;33m=\u001b[0m \u001b[1;36m256\u001b[0m\u001b[1;33m)\u001b[0m\u001b[1;33m)\u001b[0m\u001b[1;33m\u001b[0m\u001b[1;33m\u001b[0m\u001b[0m\n\u001b[0m\u001b[0;32m      3\u001b[0m \u001b[0mmodel_lstm\u001b[0m\u001b[1;33m.\u001b[0m\u001b[0madd\u001b[0m\u001b[1;33m(\u001b[0m\u001b[0mSpatialDropout1D\u001b[0m\u001b[1;33m(\u001b[0m\u001b[1;36m0.3\u001b[0m\u001b[1;33m)\u001b[0m\u001b[1;33m)\u001b[0m\u001b[1;33m\u001b[0m\u001b[1;33m\u001b[0m\u001b[0m\n\u001b[0;32m      4\u001b[0m \u001b[0mmodel_lstm\u001b[0m\u001b[1;33m.\u001b[0m\u001b[0madd\u001b[0m\u001b[1;33m(\u001b[0m\u001b[0mLSTM\u001b[0m\u001b[1;33m(\u001b[0m\u001b[1;36m256\u001b[0m\u001b[1;33m,\u001b[0m \u001b[0mdropout\u001b[0m \u001b[1;33m=\u001b[0m \u001b[1;36m0.3\u001b[0m\u001b[1;33m,\u001b[0m \u001b[0mrecurrent_dropout\u001b[0m \u001b[1;33m=\u001b[0m \u001b[1;36m0.3\u001b[0m\u001b[1;33m)\u001b[0m\u001b[1;33m)\u001b[0m\u001b[1;33m\u001b[0m\u001b[1;33m\u001b[0m\u001b[0m\n\u001b[0;32m      5\u001b[0m \u001b[0mmodel_lstm\u001b[0m\u001b[1;33m.\u001b[0m\u001b[0madd\u001b[0m\u001b[1;33m(\u001b[0m\u001b[0mDense\u001b[0m\u001b[1;33m(\u001b[0m\u001b[1;36m256\u001b[0m\u001b[1;33m,\u001b[0m \u001b[0mactivation\u001b[0m \u001b[1;33m=\u001b[0m \u001b[1;34m'relu'\u001b[0m\u001b[1;33m)\u001b[0m\u001b[1;33m)\u001b[0m\u001b[1;33m\u001b[0m\u001b[1;33m\u001b[0m\u001b[0m\n",
      "\u001b[1;31mTypeError\u001b[0m: __init__() missing 1 required positional argument: 'input_dim'"
     ]
    }
   ],
   "source": [
    "model_lstm = Sequential()\n",
    "model_lstm.add(Embedding(output_dim = 256))\n",
    "model_lstm.add(SpatialDropout1D(0.3))\n",
    "model_lstm.add(LSTM(256, dropout = 0.3, recurrent_dropout = 0.3))\n",
    "model_lstm.add(Dense(256, activation = 'relu'))\n",
    "model_lstm.add(Dropout(0.3))\n",
    "model_lstm.add(Dense(5, activation = 'softmax'))\n",
    "model_lstm.compile(\n",
    "    loss='categorical_crossentropy',\n",
    "    optimizer='Adam',\n",
    "    metrics=['accuracy']\n",
    ")"
   ]
  },
  {
   "cell_type": "code",
   "execution_count": 82,
   "metadata": {},
   "outputs": [],
   "source": [
    "# convert an array of values into a dataset matrix\n",
    "def create_dataset(dataset, look_back=1):\n",
    "    dataX, dataY = [], []\n",
    "    for i in range(len(dataset)-look_back-1):\n",
    "        a = dataset[i:(i+look_back), 0]\n",
    "        dataX.append(a)\n",
    "        dataY.append(dataset[i + look_back, 0])\n",
    "    return numpy.array(dataX), numpy.array(dataY)"
   ]
  },
  {
   "cell_type": "code",
   "execution_count": 83,
   "metadata": {},
   "outputs": [],
   "source": [
    "look_back = 1\n"
   ]
  },
  {
   "cell_type": "code",
   "execution_count": 84,
   "metadata": {},
   "outputs": [
    {
     "ename": "ValueError",
     "evalue": "Must pass 2-d input. shape=(3556, 1, 5)",
     "output_type": "error",
     "traceback": [
      "\u001b[1;31m---------------------------------------------------------------------------\u001b[0m",
      "\u001b[1;31mValueError\u001b[0m                                Traceback (most recent call last)",
      "\u001b[1;32m<ipython-input-84-760fa1e1e17e>\u001b[0m in \u001b[0;36m<module>\u001b[1;34m\u001b[0m\n\u001b[1;32m----> 1\u001b[1;33m \u001b[0mX_train\u001b[0m \u001b[1;33m=\u001b[0m \u001b[0mnp\u001b[0m\u001b[1;33m.\u001b[0m\u001b[0mreshape\u001b[0m\u001b[1;33m(\u001b[0m\u001b[0mX_train\u001b[0m\u001b[1;33m,\u001b[0m \u001b[1;33m(\u001b[0m\u001b[0mX_train\u001b[0m\u001b[1;33m.\u001b[0m\u001b[0mshape\u001b[0m\u001b[1;33m[\u001b[0m\u001b[1;36m0\u001b[0m\u001b[1;33m]\u001b[0m\u001b[1;33m,\u001b[0m \u001b[1;36m1\u001b[0m\u001b[1;33m,\u001b[0m \u001b[0mX_train\u001b[0m\u001b[1;33m.\u001b[0m\u001b[0mshape\u001b[0m\u001b[1;33m[\u001b[0m\u001b[1;36m1\u001b[0m\u001b[1;33m]\u001b[0m\u001b[1;33m)\u001b[0m\u001b[1;33m)\u001b[0m\u001b[1;33m\u001b[0m\u001b[1;33m\u001b[0m\u001b[0m\n\u001b[0m\u001b[0;32m      2\u001b[0m \u001b[0mX_test\u001b[0m \u001b[1;33m=\u001b[0m \u001b[0mnp\u001b[0m\u001b[1;33m.\u001b[0m\u001b[0mreshape\u001b[0m\u001b[1;33m(\u001b[0m\u001b[0mX_test\u001b[0m\u001b[1;33m,\u001b[0m \u001b[1;33m(\u001b[0m\u001b[0mX_test\u001b[0m\u001b[1;33m.\u001b[0m\u001b[0mshape\u001b[0m\u001b[1;33m[\u001b[0m\u001b[1;36m0\u001b[0m\u001b[1;33m]\u001b[0m\u001b[1;33m,\u001b[0m \u001b[1;36m1\u001b[0m\u001b[1;33m,\u001b[0m \u001b[0mX_test\u001b[0m\u001b[1;33m.\u001b[0m\u001b[0mshape\u001b[0m\u001b[1;33m[\u001b[0m\u001b[1;36m1\u001b[0m\u001b[1;33m]\u001b[0m\u001b[1;33m)\u001b[0m\u001b[1;33m)\u001b[0m\u001b[1;33m\u001b[0m\u001b[1;33m\u001b[0m\u001b[0m\n",
      "\u001b[1;32m<__array_function__ internals>\u001b[0m in \u001b[0;36mreshape\u001b[1;34m(*args, **kwargs)\u001b[0m\n",
      "\u001b[1;32m~\\.conda\\envs\\keras\\lib\\site-packages\\numpy\\core\\fromnumeric.py\u001b[0m in \u001b[0;36mreshape\u001b[1;34m(a, newshape, order)\u001b[0m\n\u001b[0;32m    297\u001b[0m            [5, 6]])\n\u001b[0;32m    298\u001b[0m     \"\"\"\n\u001b[1;32m--> 299\u001b[1;33m     \u001b[1;32mreturn\u001b[0m \u001b[0m_wrapfunc\u001b[0m\u001b[1;33m(\u001b[0m\u001b[0ma\u001b[0m\u001b[1;33m,\u001b[0m \u001b[1;34m'reshape'\u001b[0m\u001b[1;33m,\u001b[0m \u001b[0mnewshape\u001b[0m\u001b[1;33m,\u001b[0m \u001b[0morder\u001b[0m\u001b[1;33m=\u001b[0m\u001b[0morder\u001b[0m\u001b[1;33m)\u001b[0m\u001b[1;33m\u001b[0m\u001b[1;33m\u001b[0m\u001b[0m\n\u001b[0m\u001b[0;32m    300\u001b[0m \u001b[1;33m\u001b[0m\u001b[0m\n\u001b[0;32m    301\u001b[0m \u001b[1;33m\u001b[0m\u001b[0m\n",
      "\u001b[1;32m~\\.conda\\envs\\keras\\lib\\site-packages\\numpy\\core\\fromnumeric.py\u001b[0m in \u001b[0;36m_wrapfunc\u001b[1;34m(obj, method, *args, **kwds)\u001b[0m\n\u001b[0;32m     53\u001b[0m     \u001b[0mbound\u001b[0m \u001b[1;33m=\u001b[0m \u001b[0mgetattr\u001b[0m\u001b[1;33m(\u001b[0m\u001b[0mobj\u001b[0m\u001b[1;33m,\u001b[0m \u001b[0mmethod\u001b[0m\u001b[1;33m,\u001b[0m \u001b[1;32mNone\u001b[0m\u001b[1;33m)\u001b[0m\u001b[1;33m\u001b[0m\u001b[1;33m\u001b[0m\u001b[0m\n\u001b[0;32m     54\u001b[0m     \u001b[1;32mif\u001b[0m \u001b[0mbound\u001b[0m \u001b[1;32mis\u001b[0m \u001b[1;32mNone\u001b[0m\u001b[1;33m:\u001b[0m\u001b[1;33m\u001b[0m\u001b[1;33m\u001b[0m\u001b[0m\n\u001b[1;32m---> 55\u001b[1;33m         \u001b[1;32mreturn\u001b[0m \u001b[0m_wrapit\u001b[0m\u001b[1;33m(\u001b[0m\u001b[0mobj\u001b[0m\u001b[1;33m,\u001b[0m \u001b[0mmethod\u001b[0m\u001b[1;33m,\u001b[0m \u001b[1;33m*\u001b[0m\u001b[0margs\u001b[0m\u001b[1;33m,\u001b[0m \u001b[1;33m**\u001b[0m\u001b[0mkwds\u001b[0m\u001b[1;33m)\u001b[0m\u001b[1;33m\u001b[0m\u001b[1;33m\u001b[0m\u001b[0m\n\u001b[0m\u001b[0;32m     56\u001b[0m \u001b[1;33m\u001b[0m\u001b[0m\n\u001b[0;32m     57\u001b[0m     \u001b[1;32mtry\u001b[0m\u001b[1;33m:\u001b[0m\u001b[1;33m\u001b[0m\u001b[1;33m\u001b[0m\u001b[0m\n",
      "\u001b[1;32m~\\.conda\\envs\\keras\\lib\\site-packages\\numpy\\core\\fromnumeric.py\u001b[0m in \u001b[0;36m_wrapit\u001b[1;34m(obj, method, *args, **kwds)\u001b[0m\n\u001b[0;32m     46\u001b[0m         \u001b[1;32mif\u001b[0m \u001b[1;32mnot\u001b[0m \u001b[0misinstance\u001b[0m\u001b[1;33m(\u001b[0m\u001b[0mresult\u001b[0m\u001b[1;33m,\u001b[0m \u001b[0mmu\u001b[0m\u001b[1;33m.\u001b[0m\u001b[0mndarray\u001b[0m\u001b[1;33m)\u001b[0m\u001b[1;33m:\u001b[0m\u001b[1;33m\u001b[0m\u001b[1;33m\u001b[0m\u001b[0m\n\u001b[0;32m     47\u001b[0m             \u001b[0mresult\u001b[0m \u001b[1;33m=\u001b[0m \u001b[0masarray\u001b[0m\u001b[1;33m(\u001b[0m\u001b[0mresult\u001b[0m\u001b[1;33m)\u001b[0m\u001b[1;33m\u001b[0m\u001b[1;33m\u001b[0m\u001b[0m\n\u001b[1;32m---> 48\u001b[1;33m         \u001b[0mresult\u001b[0m \u001b[1;33m=\u001b[0m \u001b[0mwrap\u001b[0m\u001b[1;33m(\u001b[0m\u001b[0mresult\u001b[0m\u001b[1;33m)\u001b[0m\u001b[1;33m\u001b[0m\u001b[1;33m\u001b[0m\u001b[0m\n\u001b[0m\u001b[0;32m     49\u001b[0m     \u001b[1;32mreturn\u001b[0m \u001b[0mresult\u001b[0m\u001b[1;33m\u001b[0m\u001b[1;33m\u001b[0m\u001b[0m\n\u001b[0;32m     50\u001b[0m \u001b[1;33m\u001b[0m\u001b[0m\n",
      "\u001b[1;32m~\\.conda\\envs\\keras\\lib\\site-packages\\pandas\\core\\generic.py\u001b[0m in \u001b[0;36m__array_wrap__\u001b[1;34m(self, result, context)\u001b[0m\n\u001b[0;32m   1788\u001b[0m             \u001b[1;32mreturn\u001b[0m \u001b[0mresult\u001b[0m\u001b[1;33m\u001b[0m\u001b[1;33m\u001b[0m\u001b[0m\n\u001b[0;32m   1789\u001b[0m         \u001b[0md\u001b[0m \u001b[1;33m=\u001b[0m \u001b[0mself\u001b[0m\u001b[1;33m.\u001b[0m\u001b[0m_construct_axes_dict\u001b[0m\u001b[1;33m(\u001b[0m\u001b[0mself\u001b[0m\u001b[1;33m.\u001b[0m\u001b[0m_AXIS_ORDERS\u001b[0m\u001b[1;33m,\u001b[0m \u001b[0mcopy\u001b[0m\u001b[1;33m=\u001b[0m\u001b[1;32mFalse\u001b[0m\u001b[1;33m)\u001b[0m\u001b[1;33m\u001b[0m\u001b[1;33m\u001b[0m\u001b[0m\n\u001b[1;32m-> 1790\u001b[1;33m         return self._constructor(result, **d).__finalize__(\n\u001b[0m\u001b[0;32m   1791\u001b[0m             \u001b[0mself\u001b[0m\u001b[1;33m,\u001b[0m \u001b[0mmethod\u001b[0m\u001b[1;33m=\u001b[0m\u001b[1;34m\"__array_wrap__\"\u001b[0m\u001b[1;33m\u001b[0m\u001b[1;33m\u001b[0m\u001b[0m\n\u001b[0;32m   1792\u001b[0m         )\n",
      "\u001b[1;32m~\\.conda\\envs\\keras\\lib\\site-packages\\pandas\\core\\frame.py\u001b[0m in \u001b[0;36m__init__\u001b[1;34m(self, data, index, columns, dtype, copy)\u001b[0m\n\u001b[0;32m    495\u001b[0m                 \u001b[0mmgr\u001b[0m \u001b[1;33m=\u001b[0m \u001b[0minit_dict\u001b[0m\u001b[1;33m(\u001b[0m\u001b[1;33m{\u001b[0m\u001b[0mdata\u001b[0m\u001b[1;33m.\u001b[0m\u001b[0mname\u001b[0m\u001b[1;33m:\u001b[0m \u001b[0mdata\u001b[0m\u001b[1;33m}\u001b[0m\u001b[1;33m,\u001b[0m \u001b[0mindex\u001b[0m\u001b[1;33m,\u001b[0m \u001b[0mcolumns\u001b[0m\u001b[1;33m,\u001b[0m \u001b[0mdtype\u001b[0m\u001b[1;33m=\u001b[0m\u001b[0mdtype\u001b[0m\u001b[1;33m)\u001b[0m\u001b[1;33m\u001b[0m\u001b[1;33m\u001b[0m\u001b[0m\n\u001b[0;32m    496\u001b[0m             \u001b[1;32melse\u001b[0m\u001b[1;33m:\u001b[0m\u001b[1;33m\u001b[0m\u001b[1;33m\u001b[0m\u001b[0m\n\u001b[1;32m--> 497\u001b[1;33m                 \u001b[0mmgr\u001b[0m \u001b[1;33m=\u001b[0m \u001b[0minit_ndarray\u001b[0m\u001b[1;33m(\u001b[0m\u001b[0mdata\u001b[0m\u001b[1;33m,\u001b[0m \u001b[0mindex\u001b[0m\u001b[1;33m,\u001b[0m \u001b[0mcolumns\u001b[0m\u001b[1;33m,\u001b[0m \u001b[0mdtype\u001b[0m\u001b[1;33m=\u001b[0m\u001b[0mdtype\u001b[0m\u001b[1;33m,\u001b[0m \u001b[0mcopy\u001b[0m\u001b[1;33m=\u001b[0m\u001b[0mcopy\u001b[0m\u001b[1;33m)\u001b[0m\u001b[1;33m\u001b[0m\u001b[1;33m\u001b[0m\u001b[0m\n\u001b[0m\u001b[0;32m    498\u001b[0m \u001b[1;33m\u001b[0m\u001b[0m\n\u001b[0;32m    499\u001b[0m         \u001b[1;31m# For data is list-like, or Iterable (will consume into list)\u001b[0m\u001b[1;33m\u001b[0m\u001b[1;33m\u001b[0m\u001b[1;33m\u001b[0m\u001b[0m\n",
      "\u001b[1;32m~\\.conda\\envs\\keras\\lib\\site-packages\\pandas\\core\\internals\\construction.py\u001b[0m in \u001b[0;36minit_ndarray\u001b[1;34m(values, index, columns, dtype, copy)\u001b[0m\n\u001b[0;32m    188\u001b[0m     \u001b[1;31m# by definition an array here\u001b[0m\u001b[1;33m\u001b[0m\u001b[1;33m\u001b[0m\u001b[1;33m\u001b[0m\u001b[0m\n\u001b[0;32m    189\u001b[0m     \u001b[1;31m# the dtypes will be coerced to a single dtype\u001b[0m\u001b[1;33m\u001b[0m\u001b[1;33m\u001b[0m\u001b[1;33m\u001b[0m\u001b[0m\n\u001b[1;32m--> 190\u001b[1;33m     \u001b[0mvalues\u001b[0m \u001b[1;33m=\u001b[0m \u001b[0m_prep_ndarray\u001b[0m\u001b[1;33m(\u001b[0m\u001b[0mvalues\u001b[0m\u001b[1;33m,\u001b[0m \u001b[0mcopy\u001b[0m\u001b[1;33m=\u001b[0m\u001b[0mcopy\u001b[0m\u001b[1;33m)\u001b[0m\u001b[1;33m\u001b[0m\u001b[1;33m\u001b[0m\u001b[0m\n\u001b[0m\u001b[0;32m    191\u001b[0m \u001b[1;33m\u001b[0m\u001b[0m\n\u001b[0;32m    192\u001b[0m     \u001b[1;32mif\u001b[0m \u001b[0mdtype\u001b[0m \u001b[1;32mis\u001b[0m \u001b[1;32mnot\u001b[0m \u001b[1;32mNone\u001b[0m\u001b[1;33m:\u001b[0m\u001b[1;33m\u001b[0m\u001b[1;33m\u001b[0m\u001b[0m\n",
      "\u001b[1;32m~\\.conda\\envs\\keras\\lib\\site-packages\\pandas\\core\\internals\\construction.py\u001b[0m in \u001b[0;36m_prep_ndarray\u001b[1;34m(values, copy)\u001b[0m\n\u001b[0;32m    322\u001b[0m         \u001b[0mvalues\u001b[0m \u001b[1;33m=\u001b[0m \u001b[0mvalues\u001b[0m\u001b[1;33m.\u001b[0m\u001b[0mreshape\u001b[0m\u001b[1;33m(\u001b[0m\u001b[1;33m(\u001b[0m\u001b[0mvalues\u001b[0m\u001b[1;33m.\u001b[0m\u001b[0mshape\u001b[0m\u001b[1;33m[\u001b[0m\u001b[1;36m0\u001b[0m\u001b[1;33m]\u001b[0m\u001b[1;33m,\u001b[0m \u001b[1;36m1\u001b[0m\u001b[1;33m)\u001b[0m\u001b[1;33m)\u001b[0m\u001b[1;33m\u001b[0m\u001b[1;33m\u001b[0m\u001b[0m\n\u001b[0;32m    323\u001b[0m     \u001b[1;32melif\u001b[0m \u001b[0mvalues\u001b[0m\u001b[1;33m.\u001b[0m\u001b[0mndim\u001b[0m \u001b[1;33m!=\u001b[0m \u001b[1;36m2\u001b[0m\u001b[1;33m:\u001b[0m\u001b[1;33m\u001b[0m\u001b[1;33m\u001b[0m\u001b[0m\n\u001b[1;32m--> 324\u001b[1;33m         \u001b[1;32mraise\u001b[0m \u001b[0mValueError\u001b[0m\u001b[1;33m(\u001b[0m\u001b[1;34mf\"Must pass 2-d input. shape={values.shape}\"\u001b[0m\u001b[1;33m)\u001b[0m\u001b[1;33m\u001b[0m\u001b[1;33m\u001b[0m\u001b[0m\n\u001b[0m\u001b[0;32m    325\u001b[0m \u001b[1;33m\u001b[0m\u001b[0m\n\u001b[0;32m    326\u001b[0m     \u001b[1;32mreturn\u001b[0m \u001b[0mvalues\u001b[0m\u001b[1;33m\u001b[0m\u001b[1;33m\u001b[0m\u001b[0m\n",
      "\u001b[1;31mValueError\u001b[0m: Must pass 2-d input. shape=(3556, 1, 5)"
     ]
    }
   ],
   "source": [
    "X_train = np.reshape(X_train, (X_train.shape[0], 1, X_train.shape[1]))\n",
    "X_test = np.reshape(X_test, (X_test.shape[0], 1, X_test.shape[1]))"
   ]
  },
  {
   "cell_type": "code",
   "execution_count": 81,
   "metadata": {},
   "outputs": [
    {
     "ename": "ValueError",
     "evalue": "Error when checking input: expected lstm_13_input to have 3 dimensions, but got array with shape (3556, 5)",
     "output_type": "error",
     "traceback": [
      "\u001b[1;31m---------------------------------------------------------------------------\u001b[0m",
      "\u001b[1;31mValueError\u001b[0m                                Traceback (most recent call last)",
      "\u001b[1;32m<ipython-input-81-fac4ce0b7e1c>\u001b[0m in \u001b[0;36m<module>\u001b[1;34m\u001b[0m\n\u001b[0;32m      4\u001b[0m \u001b[0mmodel\u001b[0m\u001b[1;33m.\u001b[0m\u001b[0madd\u001b[0m\u001b[1;33m(\u001b[0m\u001b[0mDense\u001b[0m\u001b[1;33m(\u001b[0m\u001b[1;36m1\u001b[0m\u001b[1;33m)\u001b[0m\u001b[1;33m)\u001b[0m\u001b[1;33m\u001b[0m\u001b[1;33m\u001b[0m\u001b[0m\n\u001b[0;32m      5\u001b[0m \u001b[0mmodel\u001b[0m\u001b[1;33m.\u001b[0m\u001b[0mcompile\u001b[0m\u001b[1;33m(\u001b[0m\u001b[0mloss\u001b[0m\u001b[1;33m=\u001b[0m\u001b[1;34m'mean_squared_error'\u001b[0m\u001b[1;33m,\u001b[0m \u001b[0moptimizer\u001b[0m\u001b[1;33m=\u001b[0m\u001b[1;34m'adam'\u001b[0m\u001b[1;33m)\u001b[0m\u001b[1;33m\u001b[0m\u001b[1;33m\u001b[0m\u001b[0m\n\u001b[1;32m----> 6\u001b[1;33m \u001b[0mmodel\u001b[0m\u001b[1;33m.\u001b[0m\u001b[0mfit\u001b[0m\u001b[1;33m(\u001b[0m\u001b[0mX_train\u001b[0m\u001b[1;33m,\u001b[0m \u001b[0my_train\u001b[0m\u001b[1;33m,\u001b[0m \u001b[0mepochs\u001b[0m\u001b[1;33m=\u001b[0m\u001b[1;36m100\u001b[0m\u001b[1;33m,\u001b[0m \u001b[0mbatch_size\u001b[0m\u001b[1;33m=\u001b[0m\u001b[1;36m1\u001b[0m\u001b[1;33m,\u001b[0m \u001b[0mverbose\u001b[0m\u001b[1;33m=\u001b[0m\u001b[1;36m2\u001b[0m\u001b[1;33m)\u001b[0m\u001b[1;33m\u001b[0m\u001b[1;33m\u001b[0m\u001b[0m\n\u001b[0m",
      "\u001b[1;32m~\\.conda\\envs\\keras\\lib\\site-packages\\keras\\engine\\training.py\u001b[0m in \u001b[0;36mfit\u001b[1;34m(self, x, y, batch_size, epochs, verbose, callbacks, validation_split, validation_data, shuffle, class_weight, sample_weight, initial_epoch, steps_per_epoch, validation_steps, validation_freq, max_queue_size, workers, use_multiprocessing, **kwargs)\u001b[0m\n\u001b[0;32m   1152\u001b[0m             \u001b[0msample_weight\u001b[0m\u001b[1;33m=\u001b[0m\u001b[0msample_weight\u001b[0m\u001b[1;33m,\u001b[0m\u001b[1;33m\u001b[0m\u001b[1;33m\u001b[0m\u001b[0m\n\u001b[0;32m   1153\u001b[0m             \u001b[0mclass_weight\u001b[0m\u001b[1;33m=\u001b[0m\u001b[0mclass_weight\u001b[0m\u001b[1;33m,\u001b[0m\u001b[1;33m\u001b[0m\u001b[1;33m\u001b[0m\u001b[0m\n\u001b[1;32m-> 1154\u001b[1;33m             batch_size=batch_size)\n\u001b[0m\u001b[0;32m   1155\u001b[0m \u001b[1;33m\u001b[0m\u001b[0m\n\u001b[0;32m   1156\u001b[0m         \u001b[1;31m# Prepare validation data.\u001b[0m\u001b[1;33m\u001b[0m\u001b[1;33m\u001b[0m\u001b[1;33m\u001b[0m\u001b[0m\n",
      "\u001b[1;32m~\\.conda\\envs\\keras\\lib\\site-packages\\keras\\engine\\training.py\u001b[0m in \u001b[0;36m_standardize_user_data\u001b[1;34m(self, x, y, sample_weight, class_weight, check_array_lengths, batch_size)\u001b[0m\n\u001b[0;32m    577\u001b[0m             \u001b[0mfeed_input_shapes\u001b[0m\u001b[1;33m,\u001b[0m\u001b[1;33m\u001b[0m\u001b[1;33m\u001b[0m\u001b[0m\n\u001b[0;32m    578\u001b[0m             \u001b[0mcheck_batch_axis\u001b[0m\u001b[1;33m=\u001b[0m\u001b[1;32mFalse\u001b[0m\u001b[1;33m,\u001b[0m  \u001b[1;31m# Don't enforce the batch size.\u001b[0m\u001b[1;33m\u001b[0m\u001b[1;33m\u001b[0m\u001b[0m\n\u001b[1;32m--> 579\u001b[1;33m             exception_prefix='input')\n\u001b[0m\u001b[0;32m    580\u001b[0m \u001b[1;33m\u001b[0m\u001b[0m\n\u001b[0;32m    581\u001b[0m         \u001b[1;32mif\u001b[0m \u001b[0my\u001b[0m \u001b[1;32mis\u001b[0m \u001b[1;32mnot\u001b[0m \u001b[1;32mNone\u001b[0m\u001b[1;33m:\u001b[0m\u001b[1;33m\u001b[0m\u001b[1;33m\u001b[0m\u001b[0m\n",
      "\u001b[1;32m~\\.conda\\envs\\keras\\lib\\site-packages\\keras\\engine\\training_utils.py\u001b[0m in \u001b[0;36mstandardize_input_data\u001b[1;34m(data, names, shapes, check_batch_axis, exception_prefix)\u001b[0m\n\u001b[0;32m    133\u001b[0m                         \u001b[1;34m': expected '\u001b[0m \u001b[1;33m+\u001b[0m \u001b[0mnames\u001b[0m\u001b[1;33m[\u001b[0m\u001b[0mi\u001b[0m\u001b[1;33m]\u001b[0m \u001b[1;33m+\u001b[0m \u001b[1;34m' to have '\u001b[0m \u001b[1;33m+\u001b[0m\u001b[1;33m\u001b[0m\u001b[1;33m\u001b[0m\u001b[0m\n\u001b[0;32m    134\u001b[0m                         \u001b[0mstr\u001b[0m\u001b[1;33m(\u001b[0m\u001b[0mlen\u001b[0m\u001b[1;33m(\u001b[0m\u001b[0mshape\u001b[0m\u001b[1;33m)\u001b[0m\u001b[1;33m)\u001b[0m \u001b[1;33m+\u001b[0m \u001b[1;34m' dimensions, but got array '\u001b[0m\u001b[1;33m\u001b[0m\u001b[1;33m\u001b[0m\u001b[0m\n\u001b[1;32m--> 135\u001b[1;33m                         'with shape ' + str(data_shape))\n\u001b[0m\u001b[0;32m    136\u001b[0m                 \u001b[1;32mif\u001b[0m \u001b[1;32mnot\u001b[0m \u001b[0mcheck_batch_axis\u001b[0m\u001b[1;33m:\u001b[0m\u001b[1;33m\u001b[0m\u001b[1;33m\u001b[0m\u001b[0m\n\u001b[0;32m    137\u001b[0m                     \u001b[0mdata_shape\u001b[0m \u001b[1;33m=\u001b[0m \u001b[0mdata_shape\u001b[0m\u001b[1;33m[\u001b[0m\u001b[1;36m1\u001b[0m\u001b[1;33m:\u001b[0m\u001b[1;33m]\u001b[0m\u001b[1;33m\u001b[0m\u001b[1;33m\u001b[0m\u001b[0m\n",
      "\u001b[1;31mValueError\u001b[0m: Error when checking input: expected lstm_13_input to have 3 dimensions, but got array with shape (3556, 5)"
     ]
    }
   ],
   "source": [
    "model = Sequential()\n",
    "model.add(LSTM(4, input_shape=(1, look_back)))\n",
    "\n",
    "model.add(Dense(1))\n",
    "model.compile(loss='mean_squared_error', optimizer='adam')\n",
    "model.fit(X_train, y_train, epochs=100, batch_size=1, verbose=2)"
   ]
  },
  {
   "cell_type": "code",
   "execution_count": 85,
   "metadata": {},
   "outputs": [
    {
     "data": {
      "text/plain": [
       "(1524, 5)"
      ]
     },
     "execution_count": 85,
     "metadata": {},
     "output_type": "execute_result"
    }
   ],
   "source": [
    "X_test.shape"
   ]
  },
  {
   "cell_type": "code",
   "execution_count": 86,
   "metadata": {},
   "outputs": [
    {
     "data": {
      "text/plain": [
       "(3556, 5)"
      ]
     },
     "execution_count": 86,
     "metadata": {},
     "output_type": "execute_result"
    }
   ],
   "source": [
    "X_train.shape"
   ]
  },
  {
   "cell_type": "code",
   "execution_count": 61,
   "metadata": {},
   "outputs": [],
   "source": [
    "X_train.rename(columns={'Type': ''}, inplace=True)"
   ]
  },
  {
   "cell_type": "code",
   "execution_count": 87,
   "metadata": {},
   "outputs": [
    {
     "data": {
      "text/plain": [
       "<bound method NDFrame.head of             Jurisdiction_int hospitalized hospitalizedCumulative  \\\n",
       "11/25/2020                46           -1                     -1   \n",
       "04/13/2020                 0          776                    776   \n",
       "11/25/2020                26           -1                     -1   \n",
       "11/25/2020                56           -1                     -1   \n",
       "11/25/2020                48           -1                     -1   \n",
       "...                      ...          ...                    ...   \n",
       "04/20/2020                 0         3178                   3178   \n",
       "11/25/2020                29           -1                     -1   \n",
       "11/25/2020                35           -1                     -1   \n",
       "06/29/2020                 0            0                      0   \n",
       "11/25/2020                14           -1                     -1   \n",
       "\n",
       "           hospitalizedCurrently hospitalizedIncrease  \n",
       "11/25/2020                    -1                   -1  \n",
       "04/13/2020                     0                  280  \n",
       "11/25/2020                    -1                   -1  \n",
       "11/25/2020                    -1                   -1  \n",
       "11/25/2020                    -1                   -1  \n",
       "...                          ...                  ...  \n",
       "04/20/2020                     0                  613  \n",
       "11/25/2020                    -1                   -1  \n",
       "11/25/2020                    -1                   -1  \n",
       "06/29/2020                   592                    0  \n",
       "11/25/2020                    -1                   -1  \n",
       "\n",
       "[3556 rows x 5 columns]>"
      ]
     },
     "execution_count": 87,
     "metadata": {},
     "output_type": "execute_result"
    }
   ],
   "source": [
    "X_train.head"
   ]
  },
  {
   "cell_type": "code",
   "execution_count": 54,
   "metadata": {},
   "outputs": [
    {
     "name": "stdout",
     "output_type": "stream",
     "text": [
      "Model: \"sequential\"\n",
      "_________________________________________________________________\n",
      "Layer (type)                 Output Shape              Param #   \n",
      "=================================================================\n",
      "embedding (Embedding)        (None, None, 32)          320000    \n",
      "_________________________________________________________________\n",
      "lstm (LSTM)                  (None, 32)                8320      \n",
      "_________________________________________________________________\n",
      "dense (Dense)                (None, 1)                 33        \n",
      "=================================================================\n",
      "Total params: 328,353\n",
      "Trainable params: 328,353\n",
      "Non-trainable params: 0\n",
      "_________________________________________________________________\n"
     ]
    }
   ],
   "source": [
    "from tensorflow.keras.datasets import imdb\n",
    "from tensorflow.keras import models\n",
    "from tensorflow.keras.preprocessing import sequence\n",
    "from tensorflow.keras.layers import LSTM, Dense, Embedding\n",
    "\n",
    "\n",
    "model = models.Sequential()\n",
    "model.add(Embedding(10000, 32))\n",
    "model.add(LSTM(32))\n",
    "model.add(Dense(1, activation='sigmoid'))\n",
    "model.compile(optimizer='rmsprop',\n",
    "              loss='binary_crossentropy',\n",
    "              metrics=['acc'])\n",
    "\n",
    "model.summary()"
   ]
  },
  {
   "cell_type": "code",
   "execution_count": 99,
   "metadata": {},
   "outputs": [],
   "source": [
    "X_train = np.asarray(X_train).astype('float32')\n",
    "X_test = np.asarray(X_test).astype('float32')\n",
    "y_train = np.asarray(y_train).astype('float32')\n",
    "y_test = np.asarray(y_test).astype('float32')"
   ]
  },
  {
   "cell_type": "code",
   "execution_count": 100,
   "metadata": {},
   "outputs": [
    {
     "name": "stdout",
     "output_type": "stream",
     "text": [
      "Train on 2844 samples, validate on 712 samples\n",
      "Epoch 1/10\n",
      " 128/2844 [>.............................] - ETA: 26s"
     ]
    },
    {
     "ename": "InvalidArgumentError",
     "evalue": " indices[1,1] = -1 is not in [0, 10000)\n\t [[node sequential/embedding/embedding_lookup (defined at <ipython-input-100-64f02afe9163>:4) ]] [Op:__inference_distributed_function_3208]\n\nErrors may have originated from an input operation.\nInput Source operations connected to node sequential/embedding/embedding_lookup:\n sequential/embedding/embedding_lookup/2026 (defined at C:\\Users\\Samuel\\.conda\\envs\\keras\\lib\\contextlib.py:81)\n\nFunction call stack:\ndistributed_function\n",
     "output_type": "error",
     "traceback": [
      "\u001b[1;31m---------------------------------------------------------------------------\u001b[0m",
      "\u001b[1;31mInvalidArgumentError\u001b[0m                      Traceback (most recent call last)",
      "\u001b[1;32m<ipython-input-100-64f02afe9163>\u001b[0m in \u001b[0;36m<module>\u001b[1;34m\u001b[0m\n\u001b[0;32m      2\u001b[0m                     \u001b[0mepochs\u001b[0m\u001b[1;33m=\u001b[0m\u001b[1;36m10\u001b[0m\u001b[1;33m,\u001b[0m\u001b[1;33m\u001b[0m\u001b[1;33m\u001b[0m\u001b[0m\n\u001b[0;32m      3\u001b[0m                     \u001b[0mbatch_size\u001b[0m\u001b[1;33m=\u001b[0m\u001b[1;36m128\u001b[0m\u001b[1;33m,\u001b[0m\u001b[1;33m\u001b[0m\u001b[1;33m\u001b[0m\u001b[0m\n\u001b[1;32m----> 4\u001b[1;33m                     validation_split=0.2)\n\u001b[0m\u001b[0;32m      5\u001b[0m \u001b[1;33m\u001b[0m\u001b[0m\n\u001b[0;32m      6\u001b[0m \u001b[0mhistory_dict\u001b[0m \u001b[1;33m=\u001b[0m \u001b[0mhistory\u001b[0m\u001b[1;33m.\u001b[0m\u001b[0mhistory\u001b[0m\u001b[1;33m\u001b[0m\u001b[1;33m\u001b[0m\u001b[0m\n",
      "\u001b[1;32m~\\.conda\\envs\\keras\\lib\\site-packages\\tensorflow_core\\python\\keras\\engine\\training.py\u001b[0m in \u001b[0;36mfit\u001b[1;34m(self, x, y, batch_size, epochs, verbose, callbacks, validation_split, validation_data, shuffle, class_weight, sample_weight, initial_epoch, steps_per_epoch, validation_steps, validation_freq, max_queue_size, workers, use_multiprocessing, **kwargs)\u001b[0m\n\u001b[0;32m    817\u001b[0m         \u001b[0mmax_queue_size\u001b[0m\u001b[1;33m=\u001b[0m\u001b[0mmax_queue_size\u001b[0m\u001b[1;33m,\u001b[0m\u001b[1;33m\u001b[0m\u001b[1;33m\u001b[0m\u001b[0m\n\u001b[0;32m    818\u001b[0m         \u001b[0mworkers\u001b[0m\u001b[1;33m=\u001b[0m\u001b[0mworkers\u001b[0m\u001b[1;33m,\u001b[0m\u001b[1;33m\u001b[0m\u001b[1;33m\u001b[0m\u001b[0m\n\u001b[1;32m--> 819\u001b[1;33m         use_multiprocessing=use_multiprocessing)\n\u001b[0m\u001b[0;32m    820\u001b[0m \u001b[1;33m\u001b[0m\u001b[0m\n\u001b[0;32m    821\u001b[0m   def evaluate(self,\n",
      "\u001b[1;32m~\\.conda\\envs\\keras\\lib\\site-packages\\tensorflow_core\\python\\keras\\engine\\training_v2.py\u001b[0m in \u001b[0;36mfit\u001b[1;34m(self, model, x, y, batch_size, epochs, verbose, callbacks, validation_split, validation_data, shuffle, class_weight, sample_weight, initial_epoch, steps_per_epoch, validation_steps, validation_freq, max_queue_size, workers, use_multiprocessing, **kwargs)\u001b[0m\n\u001b[0;32m    340\u001b[0m                 \u001b[0mmode\u001b[0m\u001b[1;33m=\u001b[0m\u001b[0mModeKeys\u001b[0m\u001b[1;33m.\u001b[0m\u001b[0mTRAIN\u001b[0m\u001b[1;33m,\u001b[0m\u001b[1;33m\u001b[0m\u001b[1;33m\u001b[0m\u001b[0m\n\u001b[0;32m    341\u001b[0m                 \u001b[0mtraining_context\u001b[0m\u001b[1;33m=\u001b[0m\u001b[0mtraining_context\u001b[0m\u001b[1;33m,\u001b[0m\u001b[1;33m\u001b[0m\u001b[1;33m\u001b[0m\u001b[0m\n\u001b[1;32m--> 342\u001b[1;33m                 total_epochs=epochs)\n\u001b[0m\u001b[0;32m    343\u001b[0m             \u001b[0mcbks\u001b[0m\u001b[1;33m.\u001b[0m\u001b[0mmake_logs\u001b[0m\u001b[1;33m(\u001b[0m\u001b[0mmodel\u001b[0m\u001b[1;33m,\u001b[0m \u001b[0mepoch_logs\u001b[0m\u001b[1;33m,\u001b[0m \u001b[0mtraining_result\u001b[0m\u001b[1;33m,\u001b[0m \u001b[0mModeKeys\u001b[0m\u001b[1;33m.\u001b[0m\u001b[0mTRAIN\u001b[0m\u001b[1;33m)\u001b[0m\u001b[1;33m\u001b[0m\u001b[1;33m\u001b[0m\u001b[0m\n\u001b[0;32m    344\u001b[0m \u001b[1;33m\u001b[0m\u001b[0m\n",
      "\u001b[1;32m~\\.conda\\envs\\keras\\lib\\site-packages\\tensorflow_core\\python\\keras\\engine\\training_v2.py\u001b[0m in \u001b[0;36mrun_one_epoch\u001b[1;34m(model, iterator, execution_function, dataset_size, batch_size, strategy, steps_per_epoch, num_samples, mode, training_context, total_epochs)\u001b[0m\n\u001b[0;32m    126\u001b[0m         step=step, mode=mode, size=current_batch_size) as batch_logs:\n\u001b[0;32m    127\u001b[0m       \u001b[1;32mtry\u001b[0m\u001b[1;33m:\u001b[0m\u001b[1;33m\u001b[0m\u001b[1;33m\u001b[0m\u001b[0m\n\u001b[1;32m--> 128\u001b[1;33m         \u001b[0mbatch_outs\u001b[0m \u001b[1;33m=\u001b[0m \u001b[0mexecution_function\u001b[0m\u001b[1;33m(\u001b[0m\u001b[0miterator\u001b[0m\u001b[1;33m)\u001b[0m\u001b[1;33m\u001b[0m\u001b[1;33m\u001b[0m\u001b[0m\n\u001b[0m\u001b[0;32m    129\u001b[0m       \u001b[1;32mexcept\u001b[0m \u001b[1;33m(\u001b[0m\u001b[0mStopIteration\u001b[0m\u001b[1;33m,\u001b[0m \u001b[0merrors\u001b[0m\u001b[1;33m.\u001b[0m\u001b[0mOutOfRangeError\u001b[0m\u001b[1;33m)\u001b[0m\u001b[1;33m:\u001b[0m\u001b[1;33m\u001b[0m\u001b[1;33m\u001b[0m\u001b[0m\n\u001b[0;32m    130\u001b[0m         \u001b[1;31m# TODO(kaftan): File bug about tf function and errors.OutOfRangeError?\u001b[0m\u001b[1;33m\u001b[0m\u001b[1;33m\u001b[0m\u001b[1;33m\u001b[0m\u001b[0m\n",
      "\u001b[1;32m~\\.conda\\envs\\keras\\lib\\site-packages\\tensorflow_core\\python\\keras\\engine\\training_v2_utils.py\u001b[0m in \u001b[0;36mexecution_function\u001b[1;34m(input_fn)\u001b[0m\n\u001b[0;32m     96\u001b[0m     \u001b[1;31m# `numpy` translates Tensors to values in Eager mode.\u001b[0m\u001b[1;33m\u001b[0m\u001b[1;33m\u001b[0m\u001b[1;33m\u001b[0m\u001b[0m\n\u001b[0;32m     97\u001b[0m     return nest.map_structure(_non_none_constant_value,\n\u001b[1;32m---> 98\u001b[1;33m                               distributed_function(input_fn))\n\u001b[0m\u001b[0;32m     99\u001b[0m \u001b[1;33m\u001b[0m\u001b[0m\n\u001b[0;32m    100\u001b[0m   \u001b[1;32mreturn\u001b[0m \u001b[0mexecution_function\u001b[0m\u001b[1;33m\u001b[0m\u001b[1;33m\u001b[0m\u001b[0m\n",
      "\u001b[1;32m~\\.conda\\envs\\keras\\lib\\site-packages\\tensorflow_core\\python\\eager\\def_function.py\u001b[0m in \u001b[0;36m__call__\u001b[1;34m(self, *args, **kwds)\u001b[0m\n\u001b[0;32m    566\u001b[0m         \u001b[0mxla_context\u001b[0m\u001b[1;33m.\u001b[0m\u001b[0mExit\u001b[0m\u001b[1;33m(\u001b[0m\u001b[1;33m)\u001b[0m\u001b[1;33m\u001b[0m\u001b[1;33m\u001b[0m\u001b[0m\n\u001b[0;32m    567\u001b[0m     \u001b[1;32melse\u001b[0m\u001b[1;33m:\u001b[0m\u001b[1;33m\u001b[0m\u001b[1;33m\u001b[0m\u001b[0m\n\u001b[1;32m--> 568\u001b[1;33m       \u001b[0mresult\u001b[0m \u001b[1;33m=\u001b[0m \u001b[0mself\u001b[0m\u001b[1;33m.\u001b[0m\u001b[0m_call\u001b[0m\u001b[1;33m(\u001b[0m\u001b[1;33m*\u001b[0m\u001b[0margs\u001b[0m\u001b[1;33m,\u001b[0m \u001b[1;33m**\u001b[0m\u001b[0mkwds\u001b[0m\u001b[1;33m)\u001b[0m\u001b[1;33m\u001b[0m\u001b[1;33m\u001b[0m\u001b[0m\n\u001b[0m\u001b[0;32m    569\u001b[0m \u001b[1;33m\u001b[0m\u001b[0m\n\u001b[0;32m    570\u001b[0m     \u001b[1;32mif\u001b[0m \u001b[0mtracing_count\u001b[0m \u001b[1;33m==\u001b[0m \u001b[0mself\u001b[0m\u001b[1;33m.\u001b[0m\u001b[0m_get_tracing_count\u001b[0m\u001b[1;33m(\u001b[0m\u001b[1;33m)\u001b[0m\u001b[1;33m:\u001b[0m\u001b[1;33m\u001b[0m\u001b[1;33m\u001b[0m\u001b[0m\n",
      "\u001b[1;32m~\\.conda\\envs\\keras\\lib\\site-packages\\tensorflow_core\\python\\eager\\def_function.py\u001b[0m in \u001b[0;36m_call\u001b[1;34m(self, *args, **kwds)\u001b[0m\n\u001b[0;32m    630\u001b[0m         \u001b[1;31m# Lifting succeeded, so variables are initialized and we can run the\u001b[0m\u001b[1;33m\u001b[0m\u001b[1;33m\u001b[0m\u001b[1;33m\u001b[0m\u001b[0m\n\u001b[0;32m    631\u001b[0m         \u001b[1;31m# stateless function.\u001b[0m\u001b[1;33m\u001b[0m\u001b[1;33m\u001b[0m\u001b[1;33m\u001b[0m\u001b[0m\n\u001b[1;32m--> 632\u001b[1;33m         \u001b[1;32mreturn\u001b[0m \u001b[0mself\u001b[0m\u001b[1;33m.\u001b[0m\u001b[0m_stateless_fn\u001b[0m\u001b[1;33m(\u001b[0m\u001b[1;33m*\u001b[0m\u001b[0margs\u001b[0m\u001b[1;33m,\u001b[0m \u001b[1;33m**\u001b[0m\u001b[0mkwds\u001b[0m\u001b[1;33m)\u001b[0m\u001b[1;33m\u001b[0m\u001b[1;33m\u001b[0m\u001b[0m\n\u001b[0m\u001b[0;32m    633\u001b[0m     \u001b[1;32melse\u001b[0m\u001b[1;33m:\u001b[0m\u001b[1;33m\u001b[0m\u001b[1;33m\u001b[0m\u001b[0m\n\u001b[0;32m    634\u001b[0m       \u001b[0mcanon_args\u001b[0m\u001b[1;33m,\u001b[0m \u001b[0mcanon_kwds\u001b[0m \u001b[1;33m=\u001b[0m\u001b[0;31m \u001b[0m\u001b[0;31m\\\u001b[0m\u001b[1;33m\u001b[0m\u001b[1;33m\u001b[0m\u001b[0m\n",
      "\u001b[1;32m~\\.conda\\envs\\keras\\lib\\site-packages\\tensorflow_core\\python\\eager\\function.py\u001b[0m in \u001b[0;36m__call__\u001b[1;34m(self, *args, **kwargs)\u001b[0m\n\u001b[0;32m   2361\u001b[0m     \u001b[1;32mwith\u001b[0m \u001b[0mself\u001b[0m\u001b[1;33m.\u001b[0m\u001b[0m_lock\u001b[0m\u001b[1;33m:\u001b[0m\u001b[1;33m\u001b[0m\u001b[1;33m\u001b[0m\u001b[0m\n\u001b[0;32m   2362\u001b[0m       \u001b[0mgraph_function\u001b[0m\u001b[1;33m,\u001b[0m \u001b[0margs\u001b[0m\u001b[1;33m,\u001b[0m \u001b[0mkwargs\u001b[0m \u001b[1;33m=\u001b[0m \u001b[0mself\u001b[0m\u001b[1;33m.\u001b[0m\u001b[0m_maybe_define_function\u001b[0m\u001b[1;33m(\u001b[0m\u001b[0margs\u001b[0m\u001b[1;33m,\u001b[0m \u001b[0mkwargs\u001b[0m\u001b[1;33m)\u001b[0m\u001b[1;33m\u001b[0m\u001b[1;33m\u001b[0m\u001b[0m\n\u001b[1;32m-> 2363\u001b[1;33m     \u001b[1;32mreturn\u001b[0m \u001b[0mgraph_function\u001b[0m\u001b[1;33m.\u001b[0m\u001b[0m_filtered_call\u001b[0m\u001b[1;33m(\u001b[0m\u001b[0margs\u001b[0m\u001b[1;33m,\u001b[0m \u001b[0mkwargs\u001b[0m\u001b[1;33m)\u001b[0m  \u001b[1;31m# pylint: disable=protected-access\u001b[0m\u001b[1;33m\u001b[0m\u001b[1;33m\u001b[0m\u001b[0m\n\u001b[0m\u001b[0;32m   2364\u001b[0m \u001b[1;33m\u001b[0m\u001b[0m\n\u001b[0;32m   2365\u001b[0m   \u001b[1;33m@\u001b[0m\u001b[0mproperty\u001b[0m\u001b[1;33m\u001b[0m\u001b[1;33m\u001b[0m\u001b[0m\n",
      "\u001b[1;32m~\\.conda\\envs\\keras\\lib\\site-packages\\tensorflow_core\\python\\eager\\function.py\u001b[0m in \u001b[0;36m_filtered_call\u001b[1;34m(self, args, kwargs)\u001b[0m\n\u001b[0;32m   1609\u001b[0m          if isinstance(t, (ops.Tensor,\n\u001b[0;32m   1610\u001b[0m                            resource_variable_ops.BaseResourceVariable))),\n\u001b[1;32m-> 1611\u001b[1;33m         self.captured_inputs)\n\u001b[0m\u001b[0;32m   1612\u001b[0m \u001b[1;33m\u001b[0m\u001b[0m\n\u001b[0;32m   1613\u001b[0m   \u001b[1;32mdef\u001b[0m \u001b[0m_call_flat\u001b[0m\u001b[1;33m(\u001b[0m\u001b[0mself\u001b[0m\u001b[1;33m,\u001b[0m \u001b[0margs\u001b[0m\u001b[1;33m,\u001b[0m \u001b[0mcaptured_inputs\u001b[0m\u001b[1;33m,\u001b[0m \u001b[0mcancellation_manager\u001b[0m\u001b[1;33m=\u001b[0m\u001b[1;32mNone\u001b[0m\u001b[1;33m)\u001b[0m\u001b[1;33m:\u001b[0m\u001b[1;33m\u001b[0m\u001b[1;33m\u001b[0m\u001b[0m\n",
      "\u001b[1;32m~\\.conda\\envs\\keras\\lib\\site-packages\\tensorflow_core\\python\\eager\\function.py\u001b[0m in \u001b[0;36m_call_flat\u001b[1;34m(self, args, captured_inputs, cancellation_manager)\u001b[0m\n\u001b[0;32m   1690\u001b[0m       \u001b[1;31m# No tape is watching; skip to running the function.\u001b[0m\u001b[1;33m\u001b[0m\u001b[1;33m\u001b[0m\u001b[1;33m\u001b[0m\u001b[0m\n\u001b[0;32m   1691\u001b[0m       return self._build_call_outputs(self._inference_function.call(\n\u001b[1;32m-> 1692\u001b[1;33m           ctx, args, cancellation_manager=cancellation_manager))\n\u001b[0m\u001b[0;32m   1693\u001b[0m     forward_backward = self._select_forward_and_backward_functions(\n\u001b[0;32m   1694\u001b[0m         \u001b[0margs\u001b[0m\u001b[1;33m,\u001b[0m\u001b[1;33m\u001b[0m\u001b[1;33m\u001b[0m\u001b[0m\n",
      "\u001b[1;32m~\\.conda\\envs\\keras\\lib\\site-packages\\tensorflow_core\\python\\eager\\function.py\u001b[0m in \u001b[0;36mcall\u001b[1;34m(self, ctx, args, cancellation_manager)\u001b[0m\n\u001b[0;32m    543\u001b[0m               \u001b[0minputs\u001b[0m\u001b[1;33m=\u001b[0m\u001b[0margs\u001b[0m\u001b[1;33m,\u001b[0m\u001b[1;33m\u001b[0m\u001b[1;33m\u001b[0m\u001b[0m\n\u001b[0;32m    544\u001b[0m               \u001b[0mattrs\u001b[0m\u001b[1;33m=\u001b[0m\u001b[1;33m(\u001b[0m\u001b[1;34m\"executor_type\"\u001b[0m\u001b[1;33m,\u001b[0m \u001b[0mexecutor_type\u001b[0m\u001b[1;33m,\u001b[0m \u001b[1;34m\"config_proto\"\u001b[0m\u001b[1;33m,\u001b[0m \u001b[0mconfig\u001b[0m\u001b[1;33m)\u001b[0m\u001b[1;33m,\u001b[0m\u001b[1;33m\u001b[0m\u001b[1;33m\u001b[0m\u001b[0m\n\u001b[1;32m--> 545\u001b[1;33m               ctx=ctx)\n\u001b[0m\u001b[0;32m    546\u001b[0m         \u001b[1;32melse\u001b[0m\u001b[1;33m:\u001b[0m\u001b[1;33m\u001b[0m\u001b[1;33m\u001b[0m\u001b[0m\n\u001b[0;32m    547\u001b[0m           outputs = execute.execute_with_cancellation(\n",
      "\u001b[1;32m~\\.conda\\envs\\keras\\lib\\site-packages\\tensorflow_core\\python\\eager\\execute.py\u001b[0m in \u001b[0;36mquick_execute\u001b[1;34m(op_name, num_outputs, inputs, attrs, ctx, name)\u001b[0m\n\u001b[0;32m     65\u001b[0m     \u001b[1;32melse\u001b[0m\u001b[1;33m:\u001b[0m\u001b[1;33m\u001b[0m\u001b[1;33m\u001b[0m\u001b[0m\n\u001b[0;32m     66\u001b[0m       \u001b[0mmessage\u001b[0m \u001b[1;33m=\u001b[0m \u001b[0me\u001b[0m\u001b[1;33m.\u001b[0m\u001b[0mmessage\u001b[0m\u001b[1;33m\u001b[0m\u001b[1;33m\u001b[0m\u001b[0m\n\u001b[1;32m---> 67\u001b[1;33m     \u001b[0msix\u001b[0m\u001b[1;33m.\u001b[0m\u001b[0mraise_from\u001b[0m\u001b[1;33m(\u001b[0m\u001b[0mcore\u001b[0m\u001b[1;33m.\u001b[0m\u001b[0m_status_to_exception\u001b[0m\u001b[1;33m(\u001b[0m\u001b[0me\u001b[0m\u001b[1;33m.\u001b[0m\u001b[0mcode\u001b[0m\u001b[1;33m,\u001b[0m \u001b[0mmessage\u001b[0m\u001b[1;33m)\u001b[0m\u001b[1;33m,\u001b[0m \u001b[1;32mNone\u001b[0m\u001b[1;33m)\u001b[0m\u001b[1;33m\u001b[0m\u001b[1;33m\u001b[0m\u001b[0m\n\u001b[0m\u001b[0;32m     68\u001b[0m   \u001b[1;32mexcept\u001b[0m \u001b[0mTypeError\u001b[0m \u001b[1;32mas\u001b[0m \u001b[0me\u001b[0m\u001b[1;33m:\u001b[0m\u001b[1;33m\u001b[0m\u001b[1;33m\u001b[0m\u001b[0m\n\u001b[0;32m     69\u001b[0m     keras_symbolic_tensors = [\n",
      "\u001b[1;32m~\\.conda\\envs\\keras\\lib\\site-packages\\six.py\u001b[0m in \u001b[0;36mraise_from\u001b[1;34m(value, from_value)\u001b[0m\n",
      "\u001b[1;31mInvalidArgumentError\u001b[0m:  indices[1,1] = -1 is not in [0, 10000)\n\t [[node sequential/embedding/embedding_lookup (defined at <ipython-input-100-64f02afe9163>:4) ]] [Op:__inference_distributed_function_3208]\n\nErrors may have originated from an input operation.\nInput Source operations connected to node sequential/embedding/embedding_lookup:\n sequential/embedding/embedding_lookup/2026 (defined at C:\\Users\\Samuel\\.conda\\envs\\keras\\lib\\contextlib.py:81)\n\nFunction call stack:\ndistributed_function\n"
     ]
    }
   ],
   "source": [
    "history = model.fit(X_train, y_train,\n",
    "                    epochs=10,\n",
    "                    batch_size=128,\n",
    "                    validation_split=0.2)\n",
    "\n",
    "history_dict = history.history"
   ]
  },
  {
   "cell_type": "markdown",
   "metadata": {},
   "source": [
    "### References\n",
    "[1] Lalmuanawma, S., Hussain, J., & Chhakchhuak, L. (2020). Applications of machine learning and artificial intelligence for Covid-19 (SARS-CoV-2) pandemic: A review. Chaos, Solitons & Fractals, 110059."
   ]
  }
 ],
 "metadata": {
  "kernelspec": {
   "display_name": "Python 3",
   "language": "python",
   "name": "python3"
  },
  "language_info": {
   "codemirror_mode": {
    "name": "ipython",
    "version": 3
   },
   "file_extension": ".py",
   "mimetype": "text/x-python",
   "name": "python",
   "nbconvert_exporter": "python",
   "pygments_lexer": "ipython3",
   "version": "3.6.12"
  }
 },
 "nbformat": 4,
 "nbformat_minor": 4
}
